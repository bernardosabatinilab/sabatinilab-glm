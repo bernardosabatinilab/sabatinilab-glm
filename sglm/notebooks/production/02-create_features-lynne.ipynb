{
 "cells": [
  {
   "cell_type": "code",
   "execution_count": 3,
   "metadata": {},
   "outputs": [
    {
     "name": "stdout",
     "output_type": "stream",
     "text": [
      "('WT61',)\n",
      "> GLM_SIGNALS_WT61_10152021.txt\n",
      "> GLM_SIGNALS_WT61_10042021.txt\n",
      "> GLM_SIGNALS_WT61_10062021.txt\n",
      "> GLM_SIGNALS_WT61_10132021.txt\n",
      "> GLM_SIGNALS_WT61_10082021.txt\n",
      "> GLM_SIGNALS_WT61_10182021.txt\n",
      "> GLM_SIGNALS_WT61_10112021.txt\n",
      "('WT64',)\n",
      "('WT63',)\n",
      "# of iterations 3 — Final max amount of duplicated Center Out Indices: 1\n"
     ]
    }
   ],
   "source": [
    "import glob\n",
    "import numpy as np\n",
    "import pandas as pd\n",
    "import numpy as np\n",
    "from sglm.models import sglm\n",
    "from sglm.features import gen_signal_df as gsd\n",
    "from sglm.features import build_features as bf\n",
    "from sglm.features import gen_signal_df as gsd\n",
    "from sglm.features import build_features as bf\n",
    "\n",
    "# Load Signal Data\n",
    "signal_files = glob.glob(f'../../data/raw/GLM_SIGNALS_WT61_*')\n",
    "table_files = [_.replace('GLM_SIGNALS', 'GLM_TABLE') for _ in signal_files]\n",
    "\n",
    "files_list = signal_files\n",
    "channel_definitions = {\n",
    "        ('WT61',): {'Ch1': 'gACH', 'Ch2': 'rDA'},\n",
    "        ('WT64',): {'Ch1': 'gACH', 'Ch2': 'empty'},\n",
    "        ('WT63',): {'Ch1': 'gDA', 'Ch2': 'empty'},\n",
    "    }\n",
    "\n",
    "channel_assignments = bf.get_rename_columns_by_file(files_list, channel_definitions)\n",
    "\n",
    "# Load Table Data\n",
    "signal_fn = signal_files[0]\n",
    "table_fn = table_files[0]\n",
    "\n",
    "signal_df = pd.read_csv(signal_fn)\n",
    "table_df = pd.read_csv(table_fn)\n",
    "signal_filename_out = signal_fn.split('/')[-1].replace('GLM_SIGNALS', 'GLM_SIGNALS_INTERIM').replace('txt', 'csv')\n",
    "table_filename_out = signal_fn.split('/')[-1].replace('GLM_TABLE', 'GLM_TABLE_INTERIM').replace('txt', 'csv')\n",
    "\n",
    "%load_ext autoreload\n",
    "%autoreload 2\n",
    "signal_df, table_df = gsd.generate_signal_df(signal_fn,\n",
    "                                        table_fn,\n",
    "                                        signal_filename_out=f'../../data/interim/{signal_filename_out}',\n",
    "                                        table_filename_out=f'../../data/interim/{table_filename_out}'\n",
    "                                        )"
   ]
  },
  {
   "cell_type": "code",
   "execution_count": null,
   "metadata": {},
   "outputs": [],
   "source": [
    "\n",
    "# Break down Preprocess Lynne into component parts\n",
    "\n",
    "# Rename Columns\n",
    "df = bf.rename_consistent_columns(signal_df)\n",
    "if signal_fn in channel_assignments:\n",
    "    df = df.rename(channel_assignments[signal_file], axis=1)\n",
    "\n",
    "## Set Reward Flags\n",
    "df['r_trial'] = (df.groupby('nTrial')['photometrySideInIndexr'].transform(np.sum) > 0) * 1.0\n",
    "df['nr_trial'] = (df.groupby('nTrial')['photometrySideInIndexnr'].transform(np.sum) > 0) * 1.0\n",
    "\n",
    "## Define Side Rewarded / Unrewarded Flags\n",
    "df = bf.set_port_entry_exit_rewarded_unrewarded_indicators(df)\n",
    "\n",
    "## Define Side Agnostic Events\n",
    "df = bf.define_side_agnostic_events(df)\n",
    "\n",
    "# print('Percent of Data in ITI:', (df['nTrial'] == df['nEndTrial']).mean())\n"
   ]
  }
 ],
 "metadata": {
  "interpreter": {
   "hash": "fa0fc083a9a7b25dab36cbe71fb89b2f1907d4eced1698b208dea6977346b521"
  },
  "kernelspec": {
   "display_name": "Python 3.8.5 ('base')",
   "language": "python",
   "name": "python3"
  },
  "language_info": {
   "codemirror_mode": {
    "name": "ipython",
    "version": 3
   },
   "file_extension": ".py",
   "mimetype": "text/x-python",
   "name": "python",
   "nbconvert_exporter": "python",
   "pygments_lexer": "ipython3",
   "version": "3.8.5"
  },
  "orig_nbformat": 4
 },
 "nbformat": 4,
 "nbformat_minor": 2
}
