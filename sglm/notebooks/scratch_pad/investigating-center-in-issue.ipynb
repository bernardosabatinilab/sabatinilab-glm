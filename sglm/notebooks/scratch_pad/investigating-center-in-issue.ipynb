{
 "cells": [
  {
   "cell_type": "code",
   "execution_count": 1,
   "id": "0d27d071",
   "metadata": {},
   "outputs": [],
   "source": [
    "import pandas as pd\n",
    "import numpy as np\n",
    "from pathlib import Path\n",
    "from glob import glob"
   ]
  },
  {
   "cell_type": "code",
   "execution_count": 49,
   "id": "cceb3fc6",
   "metadata": {},
   "outputs": [],
   "source": [
    "def adisplay(df, rows=0, columns=None):\n",
    "    if rows is None:\n",
    "        rows = df.shape[0]\n",
    "    if columns is None:\n",
    "        columns = df.shape[1]\n",
    "    \n",
    "    display_options = []\n",
    "    if rows != 0:\n",
    "        display_options.extend(['display.max_rows', rows])\n",
    "    if columns != 0:\n",
    "        display_options.extend(['display.max_columns', columns])\n",
    "    \n",
    "    with pd.option_context(*display_options):\n",
    "        display(df)"
   ]
  },
  {
   "cell_type": "code",
   "execution_count": 73,
   "id": "8a8f9ea9",
   "metadata": {},
   "outputs": [
    {
     "name": "stdout",
     "output_type": "stream",
     "text": [
      "C:\\Users\\Josh\\Documents\\GitHub\\sabatinilab-glm\\sglm\\data\\mike-GLM_9010\\GLM_TABLE_sstflp15_05302019.txt\n",
      "C:\\Users\\Josh\\Documents\\GitHub\\sabatinilab-glm\\sglm\\data\\mike-GLM_9010\\GLM_TABLE_sstflp15_06072019.txt\n",
      "C:\\Users\\Josh\\Documents\\GitHub\\sabatinilab-glm\\sglm\\data\\mike-GLM_9010\\GLM_TABLE_sstflp15_06112019.txt\n",
      "C:\\Users\\Josh\\Documents\\GitHub\\sabatinilab-glm\\sglm\\data\\mike-GLM_9010\\GLM_TABLE_sstflp15_06132019.txt\n",
      "C:\\Users\\Josh\\Documents\\GitHub\\sabatinilab-glm\\sglm\\data\\mike-GLM_9010\\GLM_TABLE_sstflp15_06172019.txt\n",
      "C:\\Users\\Josh\\Documents\\GitHub\\sabatinilab-glm\\sglm\\data\\mike-GLM_9010\\GLM_TABLE_sstflp15_06202019.txt\n",
      "C:\\Users\\Josh\\Documents\\GitHub\\sabatinilab-glm\\sglm\\data\\mike-GLM_9010\\GLM_TABLE_sstflp15_06242019.txt\n",
      "C:\\Users\\Josh\\Documents\\GitHub\\sabatinilab-glm\\sglm\\data\\mike-GLM_9010\\GLM_TABLE_sstflp16_07162019.txt\n",
      "C:\\Users\\Josh\\Documents\\GitHub\\sabatinilab-glm\\sglm\\data\\mike-GLM_9010\\GLM_TABLE_sstflp16_07192019.txt\n",
      "C:\\Users\\Josh\\Documents\\GitHub\\sabatinilab-glm\\sglm\\data\\mike-GLM_9010\\GLM_TABLE_sstflp16_07232019.txt\n",
      "C:\\Users\\Josh\\Documents\\GitHub\\sabatinilab-glm\\sglm\\data\\mike-GLM_9010\\GLM_TABLE_sstflp16_07292019.txt\n",
      "C:\\Users\\Josh\\Documents\\GitHub\\sabatinilab-glm\\sglm\\data\\mike-GLM_9010\\GLM_TABLE_sstflp16_08012019.txt\n",
      "C:\\Users\\Josh\\Documents\\GitHub\\sabatinilab-glm\\sglm\\data\\mike-GLM_9010\\GLM_TABLE_sstflp16_08062019.txt\n",
      "C:\\Users\\Josh\\Documents\\GitHub\\sabatinilab-glm\\sglm\\data\\mike-GLM_9010\\GLM_TABLE_sstflp16_08092019.txt\n",
      "C:\\Users\\Josh\\Documents\\GitHub\\sabatinilab-glm\\sglm\\data\\mike-GLM_9010\\GLM_TABLE_sstflp16_08142019.txt\n",
      "C:\\Users\\Josh\\Documents\\GitHub\\sabatinilab-glm\\sglm\\data\\mike-GLM_9010\\GLM_TABLE_sstflp17_09052019.txt\n",
      "C:\\Users\\Josh\\Documents\\GitHub\\sabatinilab-glm\\sglm\\data\\mike-GLM_9010\\GLM_TABLE_sstflp17_09112019.txt\n",
      "C:\\Users\\Josh\\Documents\\GitHub\\sabatinilab-glm\\sglm\\data\\mike-GLM_9010\\GLM_TABLE_sstflp17_09232019.txt\n",
      "C:\\Users\\Josh\\Documents\\GitHub\\sabatinilab-glm\\sglm\\data\\mike-GLM_9010\\GLM_TABLE_sstflp17_09302019.txt\n",
      "C:\\Users\\Josh\\Documents\\GitHub\\sabatinilab-glm\\sglm\\data\\mike-GLM_9010\\GLM_TABLE_sstflp17_10042019.txt\n",
      "C:\\Users\\Josh\\Documents\\GitHub\\sabatinilab-glm\\sglm\\data\\mike-GLM_9010\\GLM_TABLE_sstflp17_10102019.txt\n",
      "C:\\Users\\Josh\\Documents\\GitHub\\sabatinilab-glm\\sglm\\data\\mike-GLM_9010\\GLM_TABLE_sstflp17_10172019.txt\n",
      "C:\\Users\\Josh\\Documents\\GitHub\\sabatinilab-glm\\sglm\\data\\mike-GLM_9010\\GLM_TABLE_sstflp17_10292019.txt\n",
      "C:\\Users\\Josh\\Documents\\GitHub\\sabatinilab-glm\\sglm\\data\\mike-GLM_9010\\GLM_TABLE_sstflp24_01152021.txt\n",
      "C:\\Users\\Josh\\Documents\\GitHub\\sabatinilab-glm\\sglm\\data\\mike-GLM_9010\\GLM_TABLE_sstflp24_01252021.txt\n",
      "C:\\Users\\Josh\\Documents\\GitHub\\sabatinilab-glm\\sglm\\data\\mike-GLM_9010\\GLM_TABLE_sstflp24_01292021.txt\n",
      "C:\\Users\\Josh\\Documents\\GitHub\\sabatinilab-glm\\sglm\\data\\mike-GLM_9010\\GLM_TABLE_sstflp24_02042021.txt\n",
      "C:\\Users\\Josh\\Documents\\GitHub\\sabatinilab-glm\\sglm\\data\\mike-GLM_9010\\GLM_TABLE_sstflp24_02102021.txt\n",
      "C:\\Users\\Josh\\Documents\\GitHub\\sabatinilab-glm\\sglm\\data\\mike-GLM_9010\\GLM_TABLE_sstflp24_02182021.txt\n",
      "C:\\Users\\Josh\\Documents\\GitHub\\sabatinilab-glm\\sglm\\data\\mike-GLM_9010\\GLM_TABLE_sstflp24_02232021.txt\n",
      "C:\\Users\\Josh\\Documents\\GitHub\\sabatinilab-glm\\sglm\\data\\mike-GLM_9010\\GLM_TABLE_sstflp25_01202021.txt\n",
      "C:\\Users\\Josh\\Documents\\GitHub\\sabatinilab-glm\\sglm\\data\\mike-GLM_9010\\GLM_TABLE_sstflp25_01262021.txt\n",
      "C:\\Users\\Josh\\Documents\\GitHub\\sabatinilab-glm\\sglm\\data\\mike-GLM_9010\\GLM_TABLE_sstflp25_02052021.txt\n",
      "C:\\Users\\Josh\\Documents\\GitHub\\sabatinilab-glm\\sglm\\data\\mike-GLM_9010\\GLM_TABLE_sstflp25_02112021.txt\n",
      "C:\\Users\\Josh\\Documents\\GitHub\\sabatinilab-glm\\sglm\\data\\mike-GLM_9010\\GLM_TABLE_sstflp25_02192021.txt\n",
      "C:\\Users\\Josh\\Documents\\GitHub\\sabatinilab-glm\\sglm\\data\\mike-GLM_9010\\GLM_TABLE_sstflp25_02242021.txt\n",
      "C:\\Users\\Josh\\Documents\\GitHub\\sabatinilab-glm\\sglm\\data\\mike-GLM_9010\\GLM_TABLE_sstflp25_03022021.txt\n",
      "C:\\Users\\Josh\\Documents\\GitHub\\sabatinilab-glm\\sglm\\data\\mike-GLM_9010\\GLM_TABLE_sstflp25_03082021.txt\n",
      "C:\\Users\\Josh\\Documents\\GitHub\\sabatinilab-glm\\sglm\\data\\mike-GLM_9010\\GLM_TABLE_sstflp25_03102021.txt\n",
      "C:\\Users\\Josh\\Documents\\GitHub\\sabatinilab-glm\\sglm\\data\\mike-GLM_9010\\GLM_TABLE_sstflp25_12022020.txt\n",
      "C:\\Users\\Josh\\Documents\\GitHub\\sabatinilab-glm\\sglm\\data\\mike-GLM_9010\\GLM_TABLE_sstflp25_12072020.txt\n",
      "C:\\Users\\Josh\\Documents\\GitHub\\sabatinilab-glm\\sglm\\data\\mike-GLM_9010\\GLM_TABLE_sstflp25_12112020.txt\n",
      "C:\\Users\\Josh\\Documents\\GitHub\\sabatinilab-glm\\sglm\\data\\mike-GLM_9010\\GLM_TABLE_sstflp26_01152021.txt\n",
      "C:\\Users\\Josh\\Documents\\GitHub\\sabatinilab-glm\\sglm\\data\\mike-GLM_9010\\GLM_TABLE_sstflp26_01252021.txt\n",
      "C:\\Users\\Josh\\Documents\\GitHub\\sabatinilab-glm\\sglm\\data\\mike-GLM_9010\\GLM_TABLE_sstflp26_01292021.txt\n",
      "C:\\Users\\Josh\\Documents\\GitHub\\sabatinilab-glm\\sglm\\data\\mike-GLM_9010\\GLM_TABLE_sstflp26_02042021.txt\n",
      "C:\\Users\\Josh\\Documents\\GitHub\\sabatinilab-glm\\sglm\\data\\mike-GLM_9010\\GLM_TABLE_sstflp26_02122021.txt\n",
      "C:\\Users\\Josh\\Documents\\GitHub\\sabatinilab-glm\\sglm\\data\\mike-GLM_9010\\GLM_TABLE_sstflp26_02182021.txt\n",
      "C:\\Users\\Josh\\Documents\\GitHub\\sabatinilab-glm\\sglm\\data\\mike-GLM_9010\\GLM_TABLE_sstflp26_02232021.txt\n"
     ]
    }
   ],
   "source": [
    "df_lst = []\n",
    "\n",
    "glb = str(Path('/Users/Josh/Documents/GitHub/sabatinilab-glm/sglm/data/mike-GLM_9010/*.txt').resolve())\n",
    "for ifn,fn in enumerate(sorted(glob(glb))):\n",
    "    if 'TABLE' not in fn:\n",
    "        continue\n",
    "    print(fn)\n",
    "    examples_file = pd.read_csv(fn)\n",
    "    examples_file['ifn'] = ifn\n",
    "    examples_file['fn'] = Path(fn).parts[-1]\n",
    "    df_lst.append(examples_file)\n",
    "\n",
    "df = pd.concat(df_lst,axis=0)"
   ]
  },
  {
   "cell_type": "code",
   "execution_count": 74,
   "id": "cc0eb944",
   "metadata": {},
   "outputs": [],
   "source": [
    "df_ = df[['photometryCenterInIndex',\n",
    "  'photometryCenterOutIndex',\n",
    "  'photometrySideInIndex',\n",
    "  'photometrySideOutIndex',\n",
    "#   'photometryFirstLickIndex',\n",
    "         'fn']].query(\"\"\"photometryCenterInIndex != 0 and photometryCenterOutIndex != 0 and photometrySideInIndex != 0 and photometrySideOutIndex != 0\"\"\").copy()"
   ]
  },
  {
   "cell_type": "code",
   "execution_count": null,
   "id": "d7bd4ee2",
   "metadata": {},
   "outputs": [],
   "source": []
  },
  {
   "cell_type": "code",
   "execution_count": 75,
   "id": "961de868",
   "metadata": {},
   "outputs": [
    {
     "data": {
      "text/plain": [
       "photometryCenterInIndex     1\n",
       "photometryCenterOutIndex    0\n",
       "photometrySideInIndex       0\n",
       "photometrySideOutIndex      1\n",
       "dtype: int64"
      ]
     },
     "execution_count": 75,
     "metadata": {},
     "output_type": "execute_result"
    }
   ],
   "source": [
    "(df_.drop('fn',axis=1) == df_.groupby('fn').shift(1)).sum()"
   ]
  },
  {
   "cell_type": "code",
   "execution_count": 76,
   "id": "8ea0512c",
   "metadata": {},
   "outputs": [],
   "source": [
    "df_[((df_.drop('fn',axis=1) == df_.groupby('fn').shift(1)).sum(axis=1) >= 1)|((df_.drop('fn',axis=1) == df_.groupby('fn').shift(-1)).sum(axis=1) >= 1)].rename({'fn':'filename'},axis=1).to_csv(str(Path('/Users/Josh/Desktop/errors_8020.csv').resolve()))"
   ]
  },
  {
   "cell_type": "code",
   "execution_count": 77,
   "id": "91f47217",
   "metadata": {},
   "outputs": [
    {
     "data": {
      "text/plain": [
       "array(['GLM_TABLE_sstflp26_01252021.txt'], dtype=object)"
      ]
     },
     "execution_count": 77,
     "metadata": {},
     "output_type": "execute_result"
    }
   ],
   "source": [
    "df_[((df_.drop('fn',axis=1) == df_.groupby('fn').shift(1)).sum(axis=1) >= 1)|((df_.drop('fn',axis=1) == df_.groupby('fn').shift(-1)).sum(axis=1) >= 1)].rename({'fn':'filename'},axis=1)['filename'].unique()"
   ]
  },
  {
   "cell_type": "code",
   "execution_count": 78,
   "id": "aabff1d8",
   "metadata": {
    "scrolled": false
   },
   "outputs": [
    {
     "data": {
      "text/html": [
       "<div>\n",
       "<style scoped>\n",
       "    .dataframe tbody tr th:only-of-type {\n",
       "        vertical-align: middle;\n",
       "    }\n",
       "\n",
       "    .dataframe tbody tr th {\n",
       "        vertical-align: top;\n",
       "    }\n",
       "\n",
       "    .dataframe thead th {\n",
       "        text-align: right;\n",
       "    }\n",
       "</style>\n",
       "<table border=\"1\" class=\"dataframe\">\n",
       "  <thead>\n",
       "    <tr style=\"text-align: right;\">\n",
       "      <th></th>\n",
       "      <th>photometryCenterInIndex</th>\n",
       "      <th>photometryCenterOutIndex</th>\n",
       "      <th>photometrySideInIndex</th>\n",
       "      <th>photometrySideOutIndex</th>\n",
       "      <th>filename</th>\n",
       "    </tr>\n",
       "  </thead>\n",
       "  <tbody>\n",
       "    <tr>\n",
       "      <th>155</th>\n",
       "      <td>15056</td>\n",
       "      <td>15059</td>\n",
       "      <td>15031</td>\n",
       "      <td>15097</td>\n",
       "      <td>GLM_TABLE_sstflp26_01252021.txt</td>\n",
       "    </tr>\n",
       "    <tr>\n",
       "      <th>156</th>\n",
       "      <td>15056</td>\n",
       "      <td>15056</td>\n",
       "      <td>15078</td>\n",
       "      <td>15097</td>\n",
       "      <td>GLM_TABLE_sstflp26_01252021.txt</td>\n",
       "    </tr>\n",
       "  </tbody>\n",
       "</table>\n",
       "</div>"
      ],
      "text/plain": [
       "     photometryCenterInIndex  photometryCenterOutIndex  photometrySideInIndex  \\\n",
       "155                    15056                     15059                  15031   \n",
       "156                    15056                     15056                  15078   \n",
       "\n",
       "     photometrySideOutIndex                         filename  \n",
       "155                   15097  GLM_TABLE_sstflp26_01252021.txt  \n",
       "156                   15097  GLM_TABLE_sstflp26_01252021.txt  "
      ]
     },
     "metadata": {},
     "output_type": "display_data"
    }
   ],
   "source": [
    "adisplay(df_[((df_.drop('fn',axis=1) == df_.groupby('fn').shift(1)).sum(axis=1) >= 1)|((df_.drop('fn',axis=1) == df_.groupby('fn').shift(-1)).sum(axis=1) >= 1)].rename({'fn':'filename'},axis=1), rows=None)"
   ]
  },
  {
   "cell_type": "code",
   "execution_count": 79,
   "id": "b2e3ae2c",
   "metadata": {},
   "outputs": [
    {
     "ename": "KeyError",
     "evalue": "'ifn'",
     "output_type": "error",
     "traceback": [
      "\u001b[1;31m---------------------------------------------------------------------------\u001b[0m",
      "\u001b[1;31mKeyError\u001b[0m                                  Traceback (most recent call last)",
      "Input \u001b[1;32mIn [79]\u001b[0m, in \u001b[0;36m<cell line: 1>\u001b[1;34m()\u001b[0m\n\u001b[1;32m----> 1\u001b[0m \u001b[43mdf_\u001b[49m\u001b[38;5;241;43m.\u001b[39;49m\u001b[43mgroupby\u001b[49m\u001b[43m(\u001b[49m\u001b[38;5;124;43m'\u001b[39;49m\u001b[38;5;124;43mifn\u001b[39;49m\u001b[38;5;124;43m'\u001b[39;49m\u001b[43m)\u001b[49m\u001b[38;5;241m.\u001b[39mshift(\u001b[38;5;241m1\u001b[39m)\n",
      "File \u001b[1;32m~\\anaconda3\\envs\\sglm\\lib\\site-packages\\pandas\\core\\frame.py:7718\u001b[0m, in \u001b[0;36mDataFrame.groupby\u001b[1;34m(self, by, axis, level, as_index, sort, group_keys, squeeze, observed, dropna)\u001b[0m\n\u001b[0;32m   7713\u001b[0m axis \u001b[38;5;241m=\u001b[39m \u001b[38;5;28mself\u001b[39m\u001b[38;5;241m.\u001b[39m_get_axis_number(axis)\n\u001b[0;32m   7715\u001b[0m \u001b[38;5;66;03m# https://github.com/python/mypy/issues/7642\u001b[39;00m\n\u001b[0;32m   7716\u001b[0m \u001b[38;5;66;03m# error: Argument \"squeeze\" to \"DataFrameGroupBy\" has incompatible type\u001b[39;00m\n\u001b[0;32m   7717\u001b[0m \u001b[38;5;66;03m# \"Union[bool, NoDefault]\"; expected \"bool\"\u001b[39;00m\n\u001b[1;32m-> 7718\u001b[0m \u001b[38;5;28;01mreturn\u001b[39;00m \u001b[43mDataFrameGroupBy\u001b[49m\u001b[43m(\u001b[49m\n\u001b[0;32m   7719\u001b[0m \u001b[43m    \u001b[49m\u001b[43mobj\u001b[49m\u001b[38;5;241;43m=\u001b[39;49m\u001b[38;5;28;43mself\u001b[39;49m\u001b[43m,\u001b[49m\n\u001b[0;32m   7720\u001b[0m \u001b[43m    \u001b[49m\u001b[43mkeys\u001b[49m\u001b[38;5;241;43m=\u001b[39;49m\u001b[43mby\u001b[49m\u001b[43m,\u001b[49m\n\u001b[0;32m   7721\u001b[0m \u001b[43m    \u001b[49m\u001b[43maxis\u001b[49m\u001b[38;5;241;43m=\u001b[39;49m\u001b[43maxis\u001b[49m\u001b[43m,\u001b[49m\n\u001b[0;32m   7722\u001b[0m \u001b[43m    \u001b[49m\u001b[43mlevel\u001b[49m\u001b[38;5;241;43m=\u001b[39;49m\u001b[43mlevel\u001b[49m\u001b[43m,\u001b[49m\n\u001b[0;32m   7723\u001b[0m \u001b[43m    \u001b[49m\u001b[43mas_index\u001b[49m\u001b[38;5;241;43m=\u001b[39;49m\u001b[43mas_index\u001b[49m\u001b[43m,\u001b[49m\n\u001b[0;32m   7724\u001b[0m \u001b[43m    \u001b[49m\u001b[43msort\u001b[49m\u001b[38;5;241;43m=\u001b[39;49m\u001b[43msort\u001b[49m\u001b[43m,\u001b[49m\n\u001b[0;32m   7725\u001b[0m \u001b[43m    \u001b[49m\u001b[43mgroup_keys\u001b[49m\u001b[38;5;241;43m=\u001b[39;49m\u001b[43mgroup_keys\u001b[49m\u001b[43m,\u001b[49m\n\u001b[0;32m   7726\u001b[0m \u001b[43m    \u001b[49m\u001b[43msqueeze\u001b[49m\u001b[38;5;241;43m=\u001b[39;49m\u001b[43msqueeze\u001b[49m\u001b[43m,\u001b[49m\u001b[43m  \u001b[49m\u001b[38;5;66;43;03m# type: ignore[arg-type]\u001b[39;49;00m\n\u001b[0;32m   7727\u001b[0m \u001b[43m    \u001b[49m\u001b[43mobserved\u001b[49m\u001b[38;5;241;43m=\u001b[39;49m\u001b[43mobserved\u001b[49m\u001b[43m,\u001b[49m\n\u001b[0;32m   7728\u001b[0m \u001b[43m    \u001b[49m\u001b[43mdropna\u001b[49m\u001b[38;5;241;43m=\u001b[39;49m\u001b[43mdropna\u001b[49m\u001b[43m,\u001b[49m\n\u001b[0;32m   7729\u001b[0m \u001b[43m\u001b[49m\u001b[43m)\u001b[49m\n",
      "File \u001b[1;32m~\\anaconda3\\envs\\sglm\\lib\\site-packages\\pandas\\core\\groupby\\groupby.py:882\u001b[0m, in \u001b[0;36mGroupBy.__init__\u001b[1;34m(self, obj, keys, axis, level, grouper, exclusions, selection, as_index, sort, group_keys, squeeze, observed, mutated, dropna)\u001b[0m\n\u001b[0;32m    879\u001b[0m \u001b[38;5;28;01mif\u001b[39;00m grouper \u001b[38;5;129;01mis\u001b[39;00m \u001b[38;5;28;01mNone\u001b[39;00m:\n\u001b[0;32m    880\u001b[0m     \u001b[38;5;28;01mfrom\u001b[39;00m \u001b[38;5;21;01mpandas\u001b[39;00m\u001b[38;5;21;01m.\u001b[39;00m\u001b[38;5;21;01mcore\u001b[39;00m\u001b[38;5;21;01m.\u001b[39;00m\u001b[38;5;21;01mgroupby\u001b[39;00m\u001b[38;5;21;01m.\u001b[39;00m\u001b[38;5;21;01mgrouper\u001b[39;00m \u001b[38;5;28;01mimport\u001b[39;00m get_grouper\n\u001b[1;32m--> 882\u001b[0m     grouper, exclusions, obj \u001b[38;5;241m=\u001b[39m \u001b[43mget_grouper\u001b[49m\u001b[43m(\u001b[49m\n\u001b[0;32m    883\u001b[0m \u001b[43m        \u001b[49m\u001b[43mobj\u001b[49m\u001b[43m,\u001b[49m\n\u001b[0;32m    884\u001b[0m \u001b[43m        \u001b[49m\u001b[43mkeys\u001b[49m\u001b[43m,\u001b[49m\n\u001b[0;32m    885\u001b[0m \u001b[43m        \u001b[49m\u001b[43maxis\u001b[49m\u001b[38;5;241;43m=\u001b[39;49m\u001b[43maxis\u001b[49m\u001b[43m,\u001b[49m\n\u001b[0;32m    886\u001b[0m \u001b[43m        \u001b[49m\u001b[43mlevel\u001b[49m\u001b[38;5;241;43m=\u001b[39;49m\u001b[43mlevel\u001b[49m\u001b[43m,\u001b[49m\n\u001b[0;32m    887\u001b[0m \u001b[43m        \u001b[49m\u001b[43msort\u001b[49m\u001b[38;5;241;43m=\u001b[39;49m\u001b[43msort\u001b[49m\u001b[43m,\u001b[49m\n\u001b[0;32m    888\u001b[0m \u001b[43m        \u001b[49m\u001b[43mobserved\u001b[49m\u001b[38;5;241;43m=\u001b[39;49m\u001b[43mobserved\u001b[49m\u001b[43m,\u001b[49m\n\u001b[0;32m    889\u001b[0m \u001b[43m        \u001b[49m\u001b[43mmutated\u001b[49m\u001b[38;5;241;43m=\u001b[39;49m\u001b[38;5;28;43mself\u001b[39;49m\u001b[38;5;241;43m.\u001b[39;49m\u001b[43mmutated\u001b[49m\u001b[43m,\u001b[49m\n\u001b[0;32m    890\u001b[0m \u001b[43m        \u001b[49m\u001b[43mdropna\u001b[49m\u001b[38;5;241;43m=\u001b[39;49m\u001b[38;5;28;43mself\u001b[39;49m\u001b[38;5;241;43m.\u001b[39;49m\u001b[43mdropna\u001b[49m\u001b[43m,\u001b[49m\n\u001b[0;32m    891\u001b[0m \u001b[43m    \u001b[49m\u001b[43m)\u001b[49m\n\u001b[0;32m    893\u001b[0m \u001b[38;5;28mself\u001b[39m\u001b[38;5;241m.\u001b[39mobj \u001b[38;5;241m=\u001b[39m obj\n\u001b[0;32m    894\u001b[0m \u001b[38;5;28mself\u001b[39m\u001b[38;5;241m.\u001b[39maxis \u001b[38;5;241m=\u001b[39m obj\u001b[38;5;241m.\u001b[39m_get_axis_number(axis)\n",
      "File \u001b[1;32m~\\anaconda3\\envs\\sglm\\lib\\site-packages\\pandas\\core\\groupby\\grouper.py:882\u001b[0m, in \u001b[0;36mget_grouper\u001b[1;34m(obj, key, axis, level, sort, observed, mutated, validate, dropna)\u001b[0m\n\u001b[0;32m    880\u001b[0m         in_axis, level, gpr \u001b[38;5;241m=\u001b[39m \u001b[38;5;28;01mFalse\u001b[39;00m, gpr, \u001b[38;5;28;01mNone\u001b[39;00m\n\u001b[0;32m    881\u001b[0m     \u001b[38;5;28;01melse\u001b[39;00m:\n\u001b[1;32m--> 882\u001b[0m         \u001b[38;5;28;01mraise\u001b[39;00m \u001b[38;5;167;01mKeyError\u001b[39;00m(gpr)\n\u001b[0;32m    883\u001b[0m \u001b[38;5;28;01melif\u001b[39;00m \u001b[38;5;28misinstance\u001b[39m(gpr, Grouper) \u001b[38;5;129;01mand\u001b[39;00m gpr\u001b[38;5;241m.\u001b[39mkey \u001b[38;5;129;01mis\u001b[39;00m \u001b[38;5;129;01mnot\u001b[39;00m \u001b[38;5;28;01mNone\u001b[39;00m:\n\u001b[0;32m    884\u001b[0m     \u001b[38;5;66;03m# Add key to exclusions\u001b[39;00m\n\u001b[0;32m    885\u001b[0m     exclusions\u001b[38;5;241m.\u001b[39madd(gpr\u001b[38;5;241m.\u001b[39mkey)\n",
      "\u001b[1;31mKeyError\u001b[0m: 'ifn'"
     ]
    }
   ],
   "source": [
    " df_.groupby('ifn').shift(1)"
   ]
  },
  {
   "cell_type": "code",
   "execution_count": null,
   "id": "35d4a592",
   "metadata": {},
   "outputs": [],
   "source": []
  },
  {
   "cell_type": "code",
   "execution_count": null,
   "id": "66dc39bb",
   "metadata": {},
   "outputs": [],
   "source": []
  }
 ],
 "metadata": {
  "kernelspec": {
   "display_name": "Python 3 (ipykernel)",
   "language": "python",
   "name": "python3"
  },
  "language_info": {
   "codemirror_mode": {
    "name": "ipython",
    "version": 3
   },
   "file_extension": ".py",
   "mimetype": "text/x-python",
   "name": "python",
   "nbconvert_exporter": "python",
   "pygments_lexer": "ipython3",
   "version": "3.10.4"
  }
 },
 "nbformat": 4,
 "nbformat_minor": 5
}
