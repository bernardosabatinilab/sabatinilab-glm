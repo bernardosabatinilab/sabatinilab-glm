{
 "cells": [
  {
   "cell_type": "code",
   "execution_count": 1,
   "metadata": {},
   "outputs": [
    {
     "data": {
      "text/html": [
       "<style>.container { width:95% !important; }</style>"
      ],
      "text/plain": [
       "<IPython.core.display.HTML object>"
      ]
     },
     "metadata": {},
     "output_type": "display_data"
    }
   ],
   "source": [
    "from IPython.display import display, HTML\n",
    "display(HTML(\"<style>.container { width:95% !important; }</style>\"))"
   ]
  },
  {
   "cell_type": "code",
   "execution_count": 2,
   "metadata": {},
   "outputs": [],
   "source": [
    "%load_ext autoreload\n",
    "%autoreload 2"
   ]
  },
  {
   "cell_type": "code",
   "execution_count": 3,
   "metadata": {},
   "outputs": [],
   "source": [
    "import glob\n",
    "import pandas as pd\n",
    "import numpy as np\n",
    "from pathlib import Path\n",
    "import matplotlib.pyplot as plt\n",
    "import seaborn as sns"
   ]
  },
  {
   "cell_type": "code",
   "execution_count": 4,
   "metadata": {},
   "outputs": [],
   "source": [
    "strrev = lambda y: str(''.join([_ for _ in reversed(y)]))\n",
    "def get_label(dct):\n",
    "    if float(dct['α']) == 0:\n",
    "        return '1_OLS'\n",
    "    elif float(dct['l1r']) == 1:\n",
    "        return f'2_L1, α={dct[\"α\"]}'\n",
    "    elif float(dct['l1r']) == 0:\n",
    "        return f'3_L2, α={dct[\"α\"]}'\n",
    "    else:\n",
    "        return f'4_l1r={dct[\"l1r\"]}, α={dct[\"α\"]}'\n",
    "    return"
   ]
  },
  {
   "cell_type": "code",
   "execution_count": 5,
   "metadata": {
    "scrolled": false
   },
   "outputs": [
    {
     "data": {
      "image/png": "[encoded data removed]",
      "text/plain": [
       "<Figure size 1800x360 with 1 Axes>"
      ]
     },
     "metadata": {},
     "output_type": "display_data"
    }
   ],
   "source": [
    "# file_loc = r'C:\\Users\\Josh\\Documents\\GitHub\\sabatinilab-glm\\sglm\\outputs\\final_outputs_rev\\Figure_3-mse_sctr.csv'\n",
    "\n",
    "# file_loc = r'/Users/Josh/Documents/GitHub/sabatinilab-glm/sglm/outputs/final_outputs_rev_hps/Figure_1_2-mse_sctr.csv'\n",
    "# file_loc = r'/Users/Josh/Documents/GitHub/sabatinilab-glm/sglm/outputs/final_outputs_rev_hps-wds/Figure_1_2-mse_sctr.csv'\n",
    "\n",
    "file_loc_lst = [\n",
    "    r'/Users/Josh/Documents/GitHub/sabatinilab-glm/sglm/outputs-old/final_outputs-old/Figure_7_g1--20_20sft-mse_sctr.csv',\n",
    "#     r'/Users/Josh/Documents/GitHub/sabatinilab-glm/sglm/outputs-old/final_outputs-old/Figure_1_2_g1--20_20sft-mse_sctr.csv',\n",
    "#     r'/Users/Josh/Documents/GitHub/sabatinilab-glm/sglm/outputs/final_outputs-old-wds/Figure_1_2-mse_sctr.csv'\n",
    "]\n",
    "\n",
    "for file_loc in file_loc_lst:\n",
    "    concat = pd.read_csv(file_loc)\n",
    "    \n",
    "    run_name = concat.loc[0, 'name']\n",
    "    \n",
    "    concat['model_version'] = concat['model_version'].str.replace('max_iter10000__fit_interceptFalse__',  '')\n",
    "    concat['model_version'] = concat['model_version'].str.replace('____',  '.')\n",
    "    concat['model_version'] = concat['model_version'].str.replace('alpha','α=')\n",
    "    concat['model_version'] = concat['model_version'].str.replace('l1_ratio','l1r=')\n",
    "    # concat['model_version'] = concat['model_version'].apply(lambda x: ' / '.join(['='.join([_.split('=')[0], strrev(strrev(_.split('=')[1]).zfill(4))]) for _ in x.split('__')]))#.str.zfill(4)\n",
    "    concat['model_version'] = concat['model_version'].str.replace('base_','')\n",
    "    concat['model_version'] = concat['model_version'].str.replace('simple_','')\n",
    "    concat['model_version'] = concat['model_version'].str.replace('words_','')\n",
    "    concat['model_version'] = concat['model_version'].apply(lambda x: ([{_.split('=')[0]: strrev(strrev(_.split('=')[1]).zfill(4))} for _ in x.split('__')]))#.str.zfill(4)\n",
    "    concat['model_version'] = concat['model_version'].apply(lambda x: {k: v for d in x for k, v in d.items()})#.str.zfill(4)\n",
    "\n",
    "    concat['label'] = concat['model_version'].apply(lambda x: get_label(x))\n",
    "    concat = concat.drop('model_version', axis=1)\n",
    "\n",
    "    # concat = concat.set_index(['channel', 'name', 'model_version', 'run_num']).drop('mouse_id', axis=1)\n",
    "    concat = concat.set_index(['channel', 'name', 'label', 'run_num']).drop('mouse_id', axis=1)\n",
    "\n",
    "    # vbp['model_version'].apply(lambda x: [[_.split('=')[0], strrev(strrev(_.split('=')[1]).zfill(4))] for _ in x.split('__')])#.str.zfill(4)\n",
    "\n",
    "    for chl in concat.reset_index()['channel'].unique():\n",
    "\n",
    "        fig, ax = plt.subplots(1,1,figsize=(25,5))\n",
    "\n",
    "        fig.suptitle(f'{run_name} - {chl}')\n",
    "        fig.set_facecolor('w')\n",
    "\n",
    "        vwyc = concat.loc[chl].values\n",
    "        ymn, ymx = np.min(vwyc), np.max(vwyc)\n",
    "\n",
    "        vbp = concat.loc[chl].rename({'mse_tr':'1_tr', 'mse_cv':'2_cv', 'mse_te':'3_te'}, axis=1).stack().reset_index()\n",
    "        vbp['mvl'] = vbp['label']\n",
    "    #     vbp['mvl'] = vbp['label'] + ' / ' + vbp['level_3']\n",
    "    #     vbp['mvl'] = vbp['level_3'] + ' / ' + vbp['label']\n",
    "        vbp['mvl'] = vbp['mvl'].str.replace('simple_', '')\n",
    "        vbp = vbp.sort_values(['mvl', 'level_3'])\n",
    "\n",
    "        vbp['mvl'] = vbp['mvl'].apply(lambda x: x.split('_')[-1])\n",
    "        vbp['level_3'] = vbp['level_3'].apply(lambda x: x.split('_')[-1])\n",
    "\n",
    "        sns.boxplot(data=vbp, x='mvl', y=0, hue='level_3', palette=\"Set3\", linewidth=1, ax=ax)\n",
    "        ax.grid(True)\n",
    "        plt.xticks(rotation=0)"
   ]
  },
  {
   "cell_type": "code",
   "execution_count": null,
   "metadata": {},
   "outputs": [],
   "source": []
  }
 ],
 "metadata": {
  "kernelspec": {
   "display_name": "Python 3 (ipykernel)",
   "language": "python",
   "name": "python3"
  },
  "language_info": {
   "codemirror_mode": {
    "name": "ipython",
    "version": 3
   },
   "file_extension": ".py",
   "mimetype": "text/x-python",
   "name": "python",
   "nbconvert_exporter": "python",
   "pygments_lexer": "ipython3",
   "version": "3.10.4"
  },
  "vscode": {
   "interpreter": {
    "hash": "fa0fc083a9a7b25dab36cbe71fb89b2f1907d4eced1698b208dea6977346b521"
   }
  }
 },
 "nbformat": 4,
 "nbformat_minor": 2
}
