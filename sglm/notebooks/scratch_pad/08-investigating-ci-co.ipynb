{
 "cells": [
  {
   "cell_type": "code",
   "execution_count": 27,
   "metadata": {},
   "outputs": [],
   "source": [
    "import pandas as pd\n",
    "import glob"
   ]
  },
  {
   "cell_type": "code",
   "execution_count": 28,
   "metadata": {},
   "outputs": [],
   "source": [
    "df = pd.read_csv('/Users/josh/Documents/Harvard/GLM/sabatinilab-glm/sglm/data/interim/fig1/GLM_SIGNALS_INTERIM_WT59_10152021.csv')\n",
    "# df = pd.read_csv('/Users/josh/Documents/Harvard/GLM/sabatinilab-glm/sglm/data/raw/fig1/GLM_SIGNALS_WT67_12172021.txt')\n",
    "df = df[~df['dupe']]"
   ]
  },
  {
   "cell_type": "code",
   "execution_count": 29,
   "metadata": {},
   "outputs": [
    {
     "name": "stdout",
     "output_type": "stream",
     "text": [
      "['index', 'Ch1', 'Ch2', 'gACH', 'Ch6', 'cpo', 'cpn', 'cpx', 'rpo', 'rpn', 'rpx', 'rl', 'lpo', 'lpn', 'lpx', 'll', 'r', 'nr', 'photometryCenterInIndex', 'photometryCenterInIndexr', 'photometryCenterInIndexnr', 'photometryCenterOutIndex', 'photometryCenterOutIndexr', 'photometryCenterOutIndexnr', 'photometrySideInIndex', 'photometrySideInIndexr', 'photometrySideInIndexnr', 'photometrySideInIndexAA', 'photometrySideInIndexAa', 'photometrySideInIndexaA', 'photometrySideInIndexaa', 'photometrySideInIndexAB', 'photometrySideInIndexAb', 'photometrySideInIndexaB', 'photometrySideInIndexab', 'photometrySideOutIndex', 'photometrySideOutIndexr', 'photometrySideOutIndexnr', 'photometrySideOutIndexAA', 'photometrySideOutIndexAa', 'photometrySideOutIndexaA', 'photometrySideOutIndexaa', 'photometrySideOutIndexAB', 'photometrySideOutIndexAb', 'photometrySideOutIndexaB', 'photometrySideOutIndexab', 'photometryFirstLickIndex', 'photometryFirstLickIndexr', 'photometryFirstLickIndexnr', 'nTrial', 'nEndTrial', 'diffTrialNums', 'dupe', 'wi_trial_keep', 'rDA', 'gDA', 'gACH_flx_drd', 'rDA_flx_drd', 'gDA_flx_drd', 'gACH_flx_cht', 'rDA_flx_cht', 'gDA_flx_cht', 'gACH_flx_drdcht', 'rDA_flx_drdcht', 'gDA_flx_drdcht', 'Ch5', 'GP_1', 'GP_2', 'GP_5', 'GP_6', 'SGP_1', 'SGP_2', 'SGP_5', 'SGP_6', 'r_trial', 'nr_trial', 'rpxr', 'rpxnr', 'lpxr', 'lpxnr', 'rpnr', 'rpnnr', 'lpnr', 'lpnnr', 'spn', 'spx', 'spnr', 'spnnr', 'spxr', 'spxnr', 'sl', 'spnrOff', 'spxrOff', 'spnnrOff', 'spxnrOff', 'slOff', 'slOn', 'cpnOff', 'cpxOff']\n"
     ]
    }
   ],
   "source": [
    "print(list(df.columns))"
   ]
  },
  {
   "cell_type": "code",
   "execution_count": 34,
   "metadata": {},
   "outputs": [
    {
     "data": {
      "text/html": [
       "<div>\n",
       "<style scoped>\n",
       "    .dataframe tbody tr th:only-of-type {\n",
       "        vertical-align: middle;\n",
       "    }\n",
       "\n",
       "    .dataframe tbody tr th {\n",
       "        vertical-align: top;\n",
       "    }\n",
       "\n",
       "    .dataframe thead th {\n",
       "        text-align: right;\n",
       "    }\n",
       "</style>\n",
       "<table border=\"1\" class=\"dataframe\">\n",
       "  <thead>\n",
       "    <tr style=\"text-align: right;\">\n",
       "      <th></th>\n",
       "      <th>photometryCenterInIndex</th>\n",
       "      <th>photometrySideOutIndex</th>\n",
       "    </tr>\n",
       "    <tr>\n",
       "      <th>nTrial_hard</th>\n",
       "      <th></th>\n",
       "      <th></th>\n",
       "    </tr>\n",
       "  </thead>\n",
       "  <tbody>\n",
       "    <tr>\n",
       "      <th>1.0</th>\n",
       "      <td>1.0</td>\n",
       "      <td>1.0</td>\n",
       "    </tr>\n",
       "    <tr>\n",
       "      <th>234.0</th>\n",
       "      <td>1.0</td>\n",
       "      <td>1.0</td>\n",
       "    </tr>\n",
       "    <tr>\n",
       "      <th>233.0</th>\n",
       "      <td>1.0</td>\n",
       "      <td>1.0</td>\n",
       "    </tr>\n",
       "    <tr>\n",
       "      <th>232.0</th>\n",
       "      <td>1.0</td>\n",
       "      <td>1.0</td>\n",
       "    </tr>\n",
       "    <tr>\n",
       "      <th>231.0</th>\n",
       "      <td>1.0</td>\n",
       "      <td>1.0</td>\n",
       "    </tr>\n",
       "    <tr>\n",
       "      <th>...</th>\n",
       "      <td>...</td>\n",
       "      <td>...</td>\n",
       "    </tr>\n",
       "    <tr>\n",
       "      <th>112.0</th>\n",
       "      <td>1.0</td>\n",
       "      <td>1.0</td>\n",
       "    </tr>\n",
       "    <tr>\n",
       "      <th>111.0</th>\n",
       "      <td>1.0</td>\n",
       "      <td>1.0</td>\n",
       "    </tr>\n",
       "    <tr>\n",
       "      <th>110.0</th>\n",
       "      <td>1.0</td>\n",
       "      <td>1.0</td>\n",
       "    </tr>\n",
       "    <tr>\n",
       "      <th>118.0</th>\n",
       "      <td>1.0</td>\n",
       "      <td>1.0</td>\n",
       "    </tr>\n",
       "    <tr>\n",
       "      <th>344.0</th>\n",
       "      <td>1.0</td>\n",
       "      <td>1.0</td>\n",
       "    </tr>\n",
       "  </tbody>\n",
       "</table>\n",
       "<p>344 rows × 2 columns</p>\n",
       "</div>"
      ],
      "text/plain": [
       "             photometryCenterInIndex  photometrySideOutIndex\n",
       "nTrial_hard                                                 \n",
       "1.0                              1.0                     1.0\n",
       "234.0                            1.0                     1.0\n",
       "233.0                            1.0                     1.0\n",
       "232.0                            1.0                     1.0\n",
       "231.0                            1.0                     1.0\n",
       "...                              ...                     ...\n",
       "112.0                            1.0                     1.0\n",
       "111.0                            1.0                     1.0\n",
       "110.0                            1.0                     1.0\n",
       "118.0                            1.0                     1.0\n",
       "344.0                            1.0                     1.0\n",
       "\n",
       "[344 rows x 2 columns]"
      ]
     },
     "execution_count": 34,
     "metadata": {},
     "output_type": "execute_result"
    }
   ],
   "source": [
    "df['nTrial_hard'] = df['photometryCenterInIndex'].cumsum()\n",
    "df['nEndTrial_hard'] = df['photometrySideOutIndex'].cumsum().shift(1)\n",
    "df['diffTrialNums_hard'] = df['nTrial_hard'] - df['nEndTrial_hard']\n",
    "df[df['diffTrialNums_hard'] == 1].groupby('nTrial_hard')[['photometryCenterInIndex', 'photometrySideOutIndex']].sum().sort_values('photometryCenterInIndex')"
   ]
  },
  {
   "cell_type": "code",
   "execution_count": 36,
   "metadata": {},
   "outputs": [
    {
     "data": {
      "text/html": [
       "<div>\n",
       "<style scoped>\n",
       "    .dataframe tbody tr th:only-of-type {\n",
       "        vertical-align: middle;\n",
       "    }\n",
       "\n",
       "    .dataframe tbody tr th {\n",
       "        vertical-align: top;\n",
       "    }\n",
       "\n",
       "    .dataframe thead th {\n",
       "        text-align: right;\n",
       "    }\n",
       "</style>\n",
       "<table border=\"1\" class=\"dataframe\">\n",
       "  <thead>\n",
       "    <tr style=\"text-align: right;\">\n",
       "      <th></th>\n",
       "      <th>photometryCenterInIndex</th>\n",
       "      <th>photometrySideOutIndex</th>\n",
       "    </tr>\n",
       "    <tr>\n",
       "      <th>nTrial_hard</th>\n",
       "      <th></th>\n",
       "      <th></th>\n",
       "    </tr>\n",
       "  </thead>\n",
       "  <tbody>\n",
       "    <tr>\n",
       "      <th>1.0</th>\n",
       "      <td>1.0</td>\n",
       "      <td>1.0</td>\n",
       "    </tr>\n",
       "    <tr>\n",
       "      <th>234.0</th>\n",
       "      <td>1.0</td>\n",
       "      <td>1.0</td>\n",
       "    </tr>\n",
       "    <tr>\n",
       "      <th>233.0</th>\n",
       "      <td>1.0</td>\n",
       "      <td>1.0</td>\n",
       "    </tr>\n",
       "    <tr>\n",
       "      <th>232.0</th>\n",
       "      <td>1.0</td>\n",
       "      <td>1.0</td>\n",
       "    </tr>\n",
       "    <tr>\n",
       "      <th>231.0</th>\n",
       "      <td>1.0</td>\n",
       "      <td>1.0</td>\n",
       "    </tr>\n",
       "    <tr>\n",
       "      <th>...</th>\n",
       "      <td>...</td>\n",
       "      <td>...</td>\n",
       "    </tr>\n",
       "    <tr>\n",
       "      <th>112.0</th>\n",
       "      <td>1.0</td>\n",
       "      <td>1.0</td>\n",
       "    </tr>\n",
       "    <tr>\n",
       "      <th>111.0</th>\n",
       "      <td>1.0</td>\n",
       "      <td>1.0</td>\n",
       "    </tr>\n",
       "    <tr>\n",
       "      <th>110.0</th>\n",
       "      <td>1.0</td>\n",
       "      <td>1.0</td>\n",
       "    </tr>\n",
       "    <tr>\n",
       "      <th>118.0</th>\n",
       "      <td>1.0</td>\n",
       "      <td>1.0</td>\n",
       "    </tr>\n",
       "    <tr>\n",
       "      <th>344.0</th>\n",
       "      <td>1.0</td>\n",
       "      <td>1.0</td>\n",
       "    </tr>\n",
       "  </tbody>\n",
       "</table>\n",
       "<p>344 rows × 2 columns</p>\n",
       "</div>"
      ],
      "text/plain": [
       "             photometryCenterInIndex  photometrySideOutIndex\n",
       "nTrial_hard                                                 \n",
       "1.0                              1.0                     1.0\n",
       "234.0                            1.0                     1.0\n",
       "233.0                            1.0                     1.0\n",
       "232.0                            1.0                     1.0\n",
       "231.0                            1.0                     1.0\n",
       "...                              ...                     ...\n",
       "112.0                            1.0                     1.0\n",
       "111.0                            1.0                     1.0\n",
       "110.0                            1.0                     1.0\n",
       "118.0                            1.0                     1.0\n",
       "344.0                            1.0                     1.0\n",
       "\n",
       "[344 rows x 2 columns]"
      ]
     },
     "execution_count": 36,
     "metadata": {},
     "output_type": "execute_result"
    }
   ],
   "source": [
    "df[df['diffTrialNums_hard'] == 1].groupby('nTrial_hard')[['photometryCenterInIndex', 'photometrySideOutIndex']].sum().sort_values('photometrySideOutIndex')\n"
   ]
  },
  {
   "cell_type": "code",
   "execution_count": 24,
   "metadata": {},
   "outputs": [],
   "source": [
    "# df.groupby('nEndTrial_hard')['photometryCenterInIndex'].sum()"
   ]
  },
  {
   "cell_type": "code",
   "execution_count": 25,
   "metadata": {},
   "outputs": [
    {
     "data": {
      "text/plain": [
       "1.0    30485\n",
       "0.0     8967\n",
       "2.0     7426\n",
       "Name: diffTrialNums, dtype: int64"
      ]
     },
     "execution_count": 25,
     "metadata": {},
     "output_type": "execute_result"
    }
   ],
   "source": [
    "df['diffTrialNums'].value_counts()"
   ]
  },
  {
   "cell_type": "code",
   "execution_count": null,
   "metadata": {},
   "outputs": [],
   "source": []
  }
 ],
 "metadata": {
  "kernelspec": {
   "display_name": "Python 3.8.5 ('base')",
   "language": "python",
   "name": "python3"
  },
  "language_info": {
   "codemirror_mode": {
    "name": "ipython",
    "version": 3
   },
   "file_extension": ".py",
   "mimetype": "text/x-python",
   "name": "python",
   "nbconvert_exporter": "python",
   "pygments_lexer": "ipython3",
   "version": "3.8.5"
  },
  "orig_nbformat": 4,
  "vscode": {
   "interpreter": {
    "hash": "fa0fc083a9a7b25dab36cbe71fb89b2f1907d4eced1698b208dea6977346b521"
   }
  }
 },
 "nbformat": 4,
 "nbformat_minor": 2
}
