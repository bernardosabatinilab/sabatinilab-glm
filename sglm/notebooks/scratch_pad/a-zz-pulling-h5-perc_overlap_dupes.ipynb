{
 "cells": [
  {
   "cell_type": "code",
   "execution_count": 1,
   "metadata": {},
   "outputs": [
    {
     "data": {
      "text/html": [
       "<style>.container { width:95% !important; }</style>"
      ],
      "text/plain": [
       "<IPython.core.display.HTML object>"
      ]
     },
     "metadata": {},
     "output_type": "display_data"
    }
   ],
   "source": [
    "from IPython.display import display, HTML\n",
    "display(HTML(\"<style>.container { width:95% !important; }</style>\"))"
   ]
  },
  {
   "cell_type": "code",
   "execution_count": 2,
   "metadata": {},
   "outputs": [],
   "source": [
    "%load_ext autoreload\n",
    "%autoreload 2"
   ]
  },
  {
   "cell_type": "code",
   "execution_count": 3,
   "metadata": {},
   "outputs": [],
   "source": [
    "import glob\n",
    "import pandas as pd\n",
    "import numpy as np\n",
    "from sglm.helpers import filehelpers as fh, dfhelpers as dfh\n",
    "from pathlib import Path\n",
    "from collections import defaultdict\n",
    "from tqdm.notebook import tqdm, trange\n",
    "import scipy.stats\n",
    "import matplotlib.pyplot as plt\n"
   ]
  },
  {
   "cell_type": "code",
   "execution_count": null,
   "metadata": {},
   "outputs": [],
   "source": []
  },
  {
   "cell_type": "code",
   "execution_count": 4,
   "metadata": {
    "scrolled": false
   },
   "outputs": [
    {
     "name": "stdout",
     "output_type": "stream",
     "text": [
      "fig_folder ('Figure_4_g2', 'f4*-ft')\n"
     ]
    }
   ],
   "source": [
    "# base_location = Path(r'/Users/josh/Documents/Harvard/GLM/sabatinilab-glm/sglm/outputs')\n",
    "base_location = Path(r'C:\\Users\\Josh\\Documents\\GitHub\\sabatinilab-glm\\sglm\\outputs')\n",
    "\n",
    "# fig_folder_lst = [('Figure_1_2', 'f1*-ft'),\n",
    "#                   ('Figure_3',   'f3*-ft'),\n",
    "#                   ('Figure_4_g1',   'f4*-ft'),\n",
    "#                   ('Figure_4_g2',   'f4*-ft'),\n",
    "#                   ('Figure_5_g1',   'f5*-ft'),\n",
    "#                   ('Figure_5_g2',   'f5*-ft'),\n",
    "#                   ('Figure_5_g5',   'f5*-ft'),\n",
    "#                  ]\n",
    "fig_folder_lst = [#('Figure_1_2', 'f1-n*-ft'),\n",
    "#                   ('Figure_3',   'f3*-ft'),\n",
    "#                   ('Figure_4_g1',   'f4*-ft'),\n",
    "                  ('Figure_4_g2',   'f4*-ft'),\n",
    "#                   ('Figure_5_g1',   'f5*-ft'),\n",
    "#                   ('Figure_5_g2',   'f5*-ft'),\n",
    "#                   ('Figure_5_g5',   'f5*-ft'),\n",
    "                 ]\n",
    "\n",
    "for fig_folder in fig_folder_lst:\n",
    "    print('fig_folder', fig_folder)\n",
    "    \n",
    "    load_folder = base_location / Path(fig_folder[0])\n",
    "    h5_recons_locations = str((load_folder / Path('all') / Path(fig_folder[1]) / Path(r'reconstructs\\best_resids_*.h5')).resolve())\n",
    "    \n",
    "    out_folder = base_location / Path(r'final_outputs_rev-msesplt')\n",
    "\n",
    "    out_loc = str((out_folder).resolve())\n",
    "    h5_recons_locations = glob.glob(h5_recons_locations)\n",
    "\n",
    "    fh.create_folder_if_not_exists(out_loc)\n",
    "    \n",
    "    h5_lst = defaultdict(dict)\n",
    "\n",
    "    for ih5, h5_coef_fn in enumerate(h5_recons_locations):\n",
    "        h5f = pd.HDFStore(h5_coef_fn)\n",
    "        h5fk = h5f.keys()\n",
    "        for ik, key in enumerate(h5fk):\n",
    "            key = key.replace('/', '')\n",
    "            resp = key.split('_')[0]\n",
    "            model_version = '_'.join(key.split('_')[3:]).split('_run_num')[0]\n",
    "            if key != 'dfrel_basis':\n",
    "                \n",
    "                continue\n",
    "\n",
    "            if 'run_num' in key and 'run_num__0' not in key: #and 'run_num__1' not in key:\n",
    "                continue\n",
    "            if 'base_simple' not in model_version and 'base_words' not in model_version and '_to_' not in model_version and 'basis' not in key:\n",
    "                continue\n",
    "            \n",
    "            y_col = key.split('_')[0].replace(r'/', r'')\n",
    "            \n",
    "            h5_df = pd.read_hdf(h5f, key)\n",
    "\n",
    "            h5_df.columns = [dfh.shorten_col_name(_) for _ in h5_df.columns]\n",
    "\n",
    "        h5_res = pd.read_hdf(h5f, h5fk[1])\n",
    "        break\n",
    "    break"
   ]
  },
  {
   "cell_type": "code",
   "execution_count": null,
   "metadata": {},
   "outputs": [],
   "source": []
  },
  {
   "cell_type": "code",
   "execution_count": 5,
   "metadata": {},
   "outputs": [
    {
     "data": {
      "text/plain": [
       "'holdout_gDA_0_0_base_simple_run_num__0'"
      ]
     },
     "execution_count": 5,
     "metadata": {},
     "output_type": "execute_result"
    }
   ],
   "source": [
    "holdout_name = [_ for _ in h5_res if 'holdout' in _][0]\n",
    "holdout_name"
   ]
  },
  {
   "cell_type": "code",
   "execution_count": 6,
   "metadata": {},
   "outputs": [
    {
     "data": {
      "text/plain": [
       "['signal_file',\n",
       " 'file_num',\n",
       " 'nTrial',\n",
       " 'nEndTrial',\n",
       " 'wi_trial_keep',\n",
       " 'nTrial_hard',\n",
       " 'nEndTrial_hard',\n",
       " 'diffTrialNums_hard',\n",
       " 'wi_trial_keep_hard',\n",
       " 'has_all_cols',\n",
       " 'gDA',\n",
       " 'gACH',\n",
       " 'rDA',\n",
       " 'diffTrialNums',\n",
       " 'dupe',\n",
       " 'CI',\n",
       " 'CO',\n",
       " 'SIr',\n",
       " 'SInr',\n",
       " 'SO',\n",
       " 'spnnrOff',\n",
       " 'sl',\n",
       " 'SIAA',\n",
       " 'SIAa',\n",
       " 'SIaA',\n",
       " 'SIaa',\n",
       " 'SIAB',\n",
       " 'SIAb',\n",
       " 'SIaB',\n",
       " 'SIab']"
      ]
     },
     "execution_count": 6,
     "metadata": {},
     "output_type": "execute_result"
    }
   ],
   "source": [
    "list(h5_df.columns)"
   ]
  },
  {
   "cell_type": "code",
   "execution_count": 7,
   "metadata": {},
   "outputs": [],
   "source": [
    "combo = h5_df.join(h5_res)[['dupe', 'file_num', 'has_all_cols', 'nTrial', 'nEndTrial', 'diffTrialNums', 'wi_trial_keep', holdout_name]].dropna()\n",
    "combo = combo[combo['wi_trial_keep']&combo['has_all_cols']].reset_index()"
   ]
  },
  {
   "cell_type": "code",
   "execution_count": 8,
   "metadata": {},
   "outputs": [
    {
     "data": {
      "text/plain": [
       "0.015259094878307879"
      ]
     },
     "execution_count": 8,
     "metadata": {},
     "output_type": "execute_result"
    }
   ],
   "source": [
    "combo['dupe'].sum()/(~combo['dupe']).sum()"
   ]
  },
  {
   "cell_type": "code",
   "execution_count": 9,
   "metadata": {},
   "outputs": [],
   "source": [
    "df_d = combo[combo['dupe']].copy()\n",
    "df_d['align'] = df_d['nTrial_filenum'] + 1\n",
    "df_dnT = df_d['align'].unique()\n",
    "\n",
    "df_d2 = combo[combo['nTrial_filenum'].isin(df_dnT)].copy()\n",
    "df_d2['align'] = df_d2['nTrial_filenum']\n",
    "\n",
    "df_d = df_d[['nTrial_filenum', holdout_name, 'align']].drop_duplicates()\n",
    "df_d2 = df_d2[['nTrial_filenum', holdout_name, 'align']].drop_duplicates()"
   ]
  },
  {
   "cell_type": "code",
   "execution_count": 10,
   "metadata": {},
   "outputs": [
    {
     "data": {
      "text/html": [
       "<div>\n",
       "<style scoped>\n",
       "    .dataframe tbody tr th:only-of-type {\n",
       "        vertical-align: middle;\n",
       "    }\n",
       "\n",
       "    .dataframe tbody tr th {\n",
       "        vertical-align: top;\n",
       "    }\n",
       "\n",
       "    .dataframe thead th {\n",
       "        text-align: right;\n",
       "    }\n",
       "</style>\n",
       "<table border=\"1\" class=\"dataframe\">\n",
       "  <thead>\n",
       "    <tr style=\"text-align: right;\">\n",
       "      <th></th>\n",
       "      <th>nTrial_filenum</th>\n",
       "      <th>holdout_gDA_0_0_base_simple_run_num__0</th>\n",
       "      <th>align</th>\n",
       "    </tr>\n",
       "  </thead>\n",
       "  <tbody>\n",
       "    <tr>\n",
       "      <th>937</th>\n",
       "      <td>11</td>\n",
       "      <td>1.0</td>\n",
       "      <td>12</td>\n",
       "    </tr>\n",
       "    <tr>\n",
       "      <th>1166</th>\n",
       "      <td>14</td>\n",
       "      <td>1.0</td>\n",
       "      <td>15</td>\n",
       "    </tr>\n",
       "    <tr>\n",
       "      <th>1238</th>\n",
       "      <td>15</td>\n",
       "      <td>0.0</td>\n",
       "      <td>16</td>\n",
       "    </tr>\n",
       "    <tr>\n",
       "      <th>3182</th>\n",
       "      <td>36</td>\n",
       "      <td>0.0</td>\n",
       "      <td>37</td>\n",
       "    </tr>\n",
       "    <tr>\n",
       "      <th>3617</th>\n",
       "      <td>41</td>\n",
       "      <td>0.0</td>\n",
       "      <td>42</td>\n",
       "    </tr>\n",
       "    <tr>\n",
       "      <th>...</th>\n",
       "      <td>...</td>\n",
       "      <td>...</td>\n",
       "      <td>...</td>\n",
       "    </tr>\n",
       "    <tr>\n",
       "      <th>815104</th>\n",
       "      <td>32250</td>\n",
       "      <td>1.0</td>\n",
       "      <td>32251</td>\n",
       "    </tr>\n",
       "    <tr>\n",
       "      <th>815265</th>\n",
       "      <td>32251</td>\n",
       "      <td>0.0</td>\n",
       "      <td>32252</td>\n",
       "    </tr>\n",
       "    <tr>\n",
       "      <th>815481</th>\n",
       "      <td>32253</td>\n",
       "      <td>1.0</td>\n",
       "      <td>32254</td>\n",
       "    </tr>\n",
       "    <tr>\n",
       "      <th>815707</th>\n",
       "      <td>32255</td>\n",
       "      <td>0.0</td>\n",
       "      <td>32256</td>\n",
       "    </tr>\n",
       "    <tr>\n",
       "      <th>815944</th>\n",
       "      <td>32257</td>\n",
       "      <td>1.0</td>\n",
       "      <td>32258</td>\n",
       "    </tr>\n",
       "  </tbody>\n",
       "</table>\n",
       "<p>1448 rows × 3 columns</p>\n",
       "</div>"
      ],
      "text/plain": [
       "        nTrial_filenum  holdout_gDA_0_0_base_simple_run_num__0  align\n",
       "937                 11                                     1.0     12\n",
       "1166                14                                     1.0     15\n",
       "1238                15                                     0.0     16\n",
       "3182                36                                     0.0     37\n",
       "3617                41                                     0.0     42\n",
       "...                ...                                     ...    ...\n",
       "815104           32250                                     1.0  32251\n",
       "815265           32251                                     0.0  32252\n",
       "815481           32253                                     1.0  32254\n",
       "815707           32255                                     0.0  32256\n",
       "815944           32257                                     1.0  32258\n",
       "\n",
       "[1448 rows x 3 columns]"
      ]
     },
     "execution_count": 10,
     "metadata": {},
     "output_type": "execute_result"
    }
   ],
   "source": [
    "df_d"
   ]
  },
  {
   "cell_type": "code",
   "execution_count": 11,
   "metadata": {},
   "outputs": [
    {
     "data": {
      "text/html": [
       "<div>\n",
       "<style scoped>\n",
       "    .dataframe tbody tr th:only-of-type {\n",
       "        vertical-align: middle;\n",
       "    }\n",
       "\n",
       "    .dataframe tbody tr th {\n",
       "        vertical-align: top;\n",
       "    }\n",
       "\n",
       "    .dataframe thead th {\n",
       "        text-align: right;\n",
       "    }\n",
       "</style>\n",
       "<table border=\"1\" class=\"dataframe\">\n",
       "  <thead>\n",
       "    <tr style=\"text-align: right;\">\n",
       "      <th></th>\n",
       "      <th>nTrial_filenum</th>\n",
       "      <th>holdout_gDA_0_0_base_simple_run_num__0</th>\n",
       "      <th>align</th>\n",
       "    </tr>\n",
       "  </thead>\n",
       "  <tbody>\n",
       "    <tr>\n",
       "      <th>944</th>\n",
       "      <td>12</td>\n",
       "      <td>1.0</td>\n",
       "      <td>12</td>\n",
       "    </tr>\n",
       "    <tr>\n",
       "      <th>1170</th>\n",
       "      <td>15</td>\n",
       "      <td>0.0</td>\n",
       "      <td>15</td>\n",
       "    </tr>\n",
       "    <tr>\n",
       "      <th>1243</th>\n",
       "      <td>16</td>\n",
       "      <td>1.0</td>\n",
       "      <td>16</td>\n",
       "    </tr>\n",
       "    <tr>\n",
       "      <th>3190</th>\n",
       "      <td>37</td>\n",
       "      <td>1.0</td>\n",
       "      <td>37</td>\n",
       "    </tr>\n",
       "    <tr>\n",
       "      <th>3619</th>\n",
       "      <td>42</td>\n",
       "      <td>1.0</td>\n",
       "      <td>42</td>\n",
       "    </tr>\n",
       "    <tr>\n",
       "      <th>...</th>\n",
       "      <td>...</td>\n",
       "      <td>...</td>\n",
       "      <td>...</td>\n",
       "    </tr>\n",
       "    <tr>\n",
       "      <th>815124</th>\n",
       "      <td>32251</td>\n",
       "      <td>0.0</td>\n",
       "      <td>32251</td>\n",
       "    </tr>\n",
       "    <tr>\n",
       "      <th>815268</th>\n",
       "      <td>32252</td>\n",
       "      <td>0.0</td>\n",
       "      <td>32252</td>\n",
       "    </tr>\n",
       "    <tr>\n",
       "      <th>815496</th>\n",
       "      <td>32254</td>\n",
       "      <td>0.0</td>\n",
       "      <td>32254</td>\n",
       "    </tr>\n",
       "    <tr>\n",
       "      <th>815729</th>\n",
       "      <td>32256</td>\n",
       "      <td>1.0</td>\n",
       "      <td>32256</td>\n",
       "    </tr>\n",
       "    <tr>\n",
       "      <th>815959</th>\n",
       "      <td>32258</td>\n",
       "      <td>1.0</td>\n",
       "      <td>32258</td>\n",
       "    </tr>\n",
       "  </tbody>\n",
       "</table>\n",
       "<p>1448 rows × 3 columns</p>\n",
       "</div>"
      ],
      "text/plain": [
       "        nTrial_filenum  holdout_gDA_0_0_base_simple_run_num__0  align\n",
       "944                 12                                     1.0     12\n",
       "1170                15                                     0.0     15\n",
       "1243                16                                     1.0     16\n",
       "3190                37                                     1.0     37\n",
       "3619                42                                     1.0     42\n",
       "...                ...                                     ...    ...\n",
       "815124           32251                                     0.0  32251\n",
       "815268           32252                                     0.0  32252\n",
       "815496           32254                                     0.0  32254\n",
       "815729           32256                                     1.0  32256\n",
       "815959           32258                                     1.0  32258\n",
       "\n",
       "[1448 rows x 3 columns]"
      ]
     },
     "execution_count": 11,
     "metadata": {},
     "output_type": "execute_result"
    }
   ],
   "source": [
    "df_d2"
   ]
  },
  {
   "cell_type": "code",
   "execution_count": null,
   "metadata": {},
   "outputs": [],
   "source": []
  },
  {
   "cell_type": "code",
   "execution_count": 12,
   "metadata": {},
   "outputs": [],
   "source": [
    "m = df_d.merge(df_d2, on='align')"
   ]
  },
  {
   "cell_type": "code",
   "execution_count": 13,
   "metadata": {},
   "outputs": [
    {
     "data": {
      "text/html": [
       "<div>\n",
       "<style scoped>\n",
       "    .dataframe tbody tr th:only-of-type {\n",
       "        vertical-align: middle;\n",
       "    }\n",
       "\n",
       "    .dataframe tbody tr th {\n",
       "        vertical-align: top;\n",
       "    }\n",
       "\n",
       "    .dataframe thead th {\n",
       "        text-align: right;\n",
       "    }\n",
       "</style>\n",
       "<table border=\"1\" class=\"dataframe\">\n",
       "  <thead>\n",
       "    <tr style=\"text-align: right;\">\n",
       "      <th></th>\n",
       "      <th></th>\n",
       "      <th>nTrial_filenum_x</th>\n",
       "      <th>align</th>\n",
       "      <th>nTrial_filenum_y</th>\n",
       "    </tr>\n",
       "    <tr>\n",
       "      <th>holdout_gDA_0_0_base_simple_run_num__0_x</th>\n",
       "      <th>holdout_gDA_0_0_base_simple_run_num__0_y</th>\n",
       "      <th></th>\n",
       "      <th></th>\n",
       "      <th></th>\n",
       "    </tr>\n",
       "  </thead>\n",
       "  <tbody>\n",
       "    <tr>\n",
       "      <th rowspan=\"2\" valign=\"top\">0.0</th>\n",
       "      <th>0.0</th>\n",
       "      <td>377</td>\n",
       "      <td>377</td>\n",
       "      <td>377</td>\n",
       "    </tr>\n",
       "    <tr>\n",
       "      <th>1.0</th>\n",
       "      <td>364</td>\n",
       "      <td>364</td>\n",
       "      <td>364</td>\n",
       "    </tr>\n",
       "    <tr>\n",
       "      <th rowspan=\"2\" valign=\"top\">1.0</th>\n",
       "      <th>0.0</th>\n",
       "      <td>343</td>\n",
       "      <td>343</td>\n",
       "      <td>343</td>\n",
       "    </tr>\n",
       "    <tr>\n",
       "      <th>1.0</th>\n",
       "      <td>364</td>\n",
       "      <td>364</td>\n",
       "      <td>364</td>\n",
       "    </tr>\n",
       "  </tbody>\n",
       "</table>\n",
       "</div>"
      ],
      "text/plain": [
       "                                                                                   nTrial_filenum_x  \\\n",
       "holdout_gDA_0_0_base_simple_run_num__0_x holdout_gDA_0_0_base_simple_run_num__0_y                     \n",
       "0.0                                      0.0                                                    377   \n",
       "                                         1.0                                                    364   \n",
       "1.0                                      0.0                                                    343   \n",
       "                                         1.0                                                    364   \n",
       "\n",
       "                                                                                   align  \\\n",
       "holdout_gDA_0_0_base_simple_run_num__0_x holdout_gDA_0_0_base_simple_run_num__0_y          \n",
       "0.0                                      0.0                                         377   \n",
       "                                         1.0                                         364   \n",
       "1.0                                      0.0                                         343   \n",
       "                                         1.0                                         364   \n",
       "\n",
       "                                                                                   nTrial_filenum_y  \n",
       "holdout_gDA_0_0_base_simple_run_num__0_x holdout_gDA_0_0_base_simple_run_num__0_y                    \n",
       "0.0                                      0.0                                                    377  \n",
       "                                         1.0                                                    364  \n",
       "1.0                                      0.0                                                    343  \n",
       "                                         1.0                                                    364  "
      ]
     },
     "execution_count": 13,
     "metadata": {},
     "output_type": "execute_result"
    }
   ],
   "source": [
    "m.groupby([f'{holdout_name}_x', f'{holdout_name}_y']).count()"
   ]
  },
  {
   "cell_type": "code",
   "execution_count": null,
   "metadata": {},
   "outputs": [],
   "source": []
  },
  {
   "cell_type": "code",
   "execution_count": 14,
   "metadata": {},
   "outputs": [],
   "source": [
    "# list(h5_df.columns)"
   ]
  },
  {
   "cell_type": "code",
   "execution_count": 15,
   "metadata": {},
   "outputs": [],
   "source": [
    "# combo"
   ]
  },
  {
   "cell_type": "code",
   "execution_count": 16,
   "metadata": {},
   "outputs": [],
   "source": [
    "# combo"
   ]
  },
  {
   "cell_type": "code",
   "execution_count": 17,
   "metadata": {},
   "outputs": [
    {
     "ename": "SyntaxError",
     "evalue": "'break' outside loop (668683560.py, line 1)",
     "output_type": "error",
     "traceback": [
      "\u001b[1;36m  Input \u001b[1;32mIn [17]\u001b[1;36m\u001b[0m\n\u001b[1;33m    break\u001b[0m\n\u001b[1;37m    ^\u001b[0m\n\u001b[1;31mSyntaxError\u001b[0m\u001b[1;31m:\u001b[0m 'break' outside loop\n"
     ]
    }
   ],
   "source": [
    "break"
   ]
  },
  {
   "cell_type": "code",
   "execution_count": null,
   "metadata": {},
   "outputs": [],
   "source": []
  }
 ],
 "metadata": {
  "kernelspec": {
   "display_name": "Python 3 (ipykernel)",
   "language": "python",
   "name": "python3"
  },
  "language_info": {
   "codemirror_mode": {
    "name": "ipython",
    "version": 3
   },
   "file_extension": ".py",
   "mimetype": "text/x-python",
   "name": "python",
   "nbconvert_exporter": "python",
   "pygments_lexer": "ipython3",
   "version": "3.10.4"
  },
  "vscode": {
   "interpreter": {
    "hash": "fa0fc083a9a7b25dab36cbe71fb89b2f1907d4eced1698b208dea6977346b521"
   }
  }
 },
 "nbformat": 4,
 "nbformat_minor": 2
}
