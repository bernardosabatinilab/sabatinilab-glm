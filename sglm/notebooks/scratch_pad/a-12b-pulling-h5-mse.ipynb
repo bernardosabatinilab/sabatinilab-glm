{
 "cells": [
  {
   "cell_type": "code",
   "execution_count": 1,
   "metadata": {},
   "outputs": [
    {
     "data": {
      "text/html": [
       "<style>.container { width:95% !important; }</style>"
      ],
      "text/plain": [
       "<IPython.core.display.HTML object>"
      ]
     },
     "metadata": {},
     "output_type": "display_data"
    }
   ],
   "source": [
    "from IPython.display import display, HTML\n",
    "display(HTML(\"<style>.container { width:95% !important; }</style>\"))"
   ]
  },
  {
   "cell_type": "code",
   "execution_count": 2,
   "metadata": {},
   "outputs": [],
   "source": [
    "%load_ext autoreload\n",
    "%autoreload 2"
   ]
  },
  {
   "cell_type": "code",
   "execution_count": 3,
   "metadata": {},
   "outputs": [],
   "source": [
    "import glob\n",
    "import pandas as pd\n",
    "import numpy as np\n",
    "from sglm.helpers import filehelpers as fh, dfhelpers as dfh\n",
    "from pathlib import Path"
   ]
  },
  {
   "cell_type": "code",
   "execution_count": 4,
   "metadata": {},
   "outputs": [],
   "source": [
    "# base_location = Path(r'C:\\Users\\Josh\\Documents\\GitHub\\sabatinilab-glm\\sglm\\outputs')\n",
    "base_location = Path(r'/Users/Josh/Documents/GitHub/sabatinilab-glm/sglm/outputs-old')\n",
    "\n",
    "# load_folder = base_location / Path(r'Figure_1_2')\n",
    "# h5_beta_locations = str((load_folder / Path(r'all\\f1*-ft\\coefs\\*_best_coeffs.h5')).resolve())\n",
    "\n",
    "# load_folder = base_location / Path(r'Figure_1_2')\n",
    "# h5_beta_locations = str((load_folder / Path(r'all\\f1*-ft\\coefs\\*_best_coeffs.h5')).resolve())\n",
    "# load_folder = base_location / Path(r'Figure_3')\n",
    "# h5_beta_locations = str((load_folder / Path(r'all\\f3*-ft\\coefs\\*_best_coeffs.h5')).resolve())\n",
    "# load_folder = base_location / Path(r'Figure_4_g1')\n",
    "# h5_beta_locations = str((load_folder / Path(r'all\\f4*-ft\\coefs\\*_best_coeffs.h5')).resolve())\n",
    "# load_folder = base_location / Path(r'Figure_4_g2')\n",
    "# h5_beta_locations = str((load_folder / Path(r'all\\f4*-ft\\coefs\\*_best_coeffs.h5')).resolve())\n",
    "# load_folder = base_location / Path(r'Figure_5_g1')\n",
    "# h5_beta_locations = str((load_folder / Path(r'all\\f5*-ft\\coefs\\*_best_coeffs.h5')).resolve())\n",
    "# load_folder = base_location / Path(r'Figure_5_g2')\n",
    "# h5_beta_locations = str((load_folder / Path(r'all\\f5*-ft\\coefs\\*_best_coeffs.h5')).resolve())\n",
    "# load_folder = base_location / Path(r'Figure_5_g5')\n",
    "# h5_beta_locations = str((load_folder / Path(r'all\\f5*-ft\\coefs\\*_best_coeffs.h5')).resolve())\n",
    "\n",
    "# out_folder = base_location / Path(r'final_outputs_rev')\n",
    "# out_folder_fig = base_location / Path(r'final_outputs_rev_fig')\n",
    "\n",
    "load_folder = base_location / Path(r'Figure_7_g1--20_20sft')\n",
    "h5_beta_locations = str((load_folder / Path(r'all/tet*/coefs/*_best_coeffs.h5')).resolve())\n",
    "\n",
    "\n",
    "# out_folder = base_location / Path(r'final_outputs_rev_hps-wds3')\n",
    "out_folder = base_location / Path(r'final_outputs_old')\n",
    "\n",
    "# h5_beta_locations = Path('/Users/josh/Dropbox (HMS)/jz/Tetanus/1194_1195_1214_1258_1259_2_best_coeffs.h5')\n",
    "out_loc = str((out_folder).resolve())\n",
    "h5_beta_locations = glob.glob(h5_beta_locations)"
   ]
  },
  {
   "cell_type": "code",
   "execution_count": 5,
   "metadata": {},
   "outputs": [
    {
     "name": "stdout",
     "output_type": "stream",
     "text": [
      "/gDA_ctrl_0_0_base_simple_max_iter10000__fit_interceptFalse__alpha0____0__l1_ratio0____0_run_num__0\n",
      "/gDA_ctrl_0_0_base_simple_max_iter10000__fit_interceptFalse__alpha0____0__l1_ratio0____0_run_num__1\n",
      "/gDA_ctrl_0_0_base_simple_max_iter10000__fit_interceptFalse__alpha0____0__l1_ratio0____0_run_num__2\n",
      "/gDA_ctrl_0_0_base_simple_max_iter10000__fit_interceptFalse__alpha0____0__l1_ratio0____0_run_num__3\n",
      "/gDA_ctrl_0_0_base_simple_max_iter10000__fit_interceptFalse__alpha0____0__l1_ratio0____0_run_num__4\n",
      "/gDA_ctrl_0_0_base_simple_max_iter10000__fit_interceptFalse__alpha0____0__l1_ratio0____0_run_num__5\n",
      "/gDA_ctrl_0_0_base_simple_max_iter10000__fit_interceptFalse__alpha0____0__l1_ratio0____0_run_num__6\n",
      "/gDA_ctrl_0_0_base_simple_max_iter10000__fit_interceptFalse__alpha0____0__l1_ratio0____0_run_num__7\n",
      "/gDA_ctrl_0_0_base_simple_max_iter10000__fit_interceptFalse__alpha0____0__l1_ratio0____0_run_num__8\n",
      "/gDA_ctrl_0_0_base_simple_max_iter10000__fit_interceptFalse__alpha0____0__l1_ratio0____0_run_num__9\n",
      "/gDA_ctrl_0_1_base_words_max_iter10000__fit_interceptFalse__alpha0____0__l1_ratio0____0_run_num__0\n",
      "/gDA_ctrl_0_1_base_words_max_iter10000__fit_interceptFalse__alpha0____0__l1_ratio0____0_run_num__1\n",
      "/gDA_ctrl_0_1_base_words_max_iter10000__fit_interceptFalse__alpha0____0__l1_ratio0____0_run_num__2\n",
      "/gDA_ctrl_0_1_base_words_max_iter10000__fit_interceptFalse__alpha0____0__l1_ratio0____0_run_num__3\n",
      "/gDA_ctrl_0_1_base_words_max_iter10000__fit_interceptFalse__alpha0____0__l1_ratio0____0_run_num__4\n",
      "/gDA_ctrl_0_1_base_words_max_iter10000__fit_interceptFalse__alpha0____0__l1_ratio0____0_run_num__5\n",
      "/gDA_ctrl_0_1_base_words_max_iter10000__fit_interceptFalse__alpha0____0__l1_ratio0____0_run_num__6\n",
      "/gDA_ctrl_0_1_base_words_max_iter10000__fit_interceptFalse__alpha0____0__l1_ratio0____0_run_num__7\n",
      "/gDA_ctrl_0_1_base_words_max_iter10000__fit_interceptFalse__alpha0____0__l1_ratio0____0_run_num__8\n",
      "/gDA_ctrl_0_1_base_words_max_iter10000__fit_interceptFalse__alpha0____0__l1_ratio0____0_run_num__9\n",
      "/gDA_tet_1_0_base_simple_max_iter10000__fit_interceptFalse__alpha0____0__l1_ratio0____0_run_num__0\n",
      "/gDA_tet_1_0_base_simple_max_iter10000__fit_interceptFalse__alpha0____0__l1_ratio0____0_run_num__1\n",
      "/gDA_tet_1_0_base_simple_max_iter10000__fit_interceptFalse__alpha0____0__l1_ratio0____0_run_num__2\n",
      "/gDA_tet_1_0_base_simple_max_iter10000__fit_interceptFalse__alpha0____0__l1_ratio0____0_run_num__3\n",
      "/gDA_tet_1_0_base_simple_max_iter10000__fit_interceptFalse__alpha0____0__l1_ratio0____0_run_num__4\n",
      "/gDA_tet_1_0_base_simple_max_iter10000__fit_interceptFalse__alpha0____0__l1_ratio0____0_run_num__5\n",
      "/gDA_tet_1_0_base_simple_max_iter10000__fit_interceptFalse__alpha0____0__l1_ratio0____0_run_num__6\n",
      "/gDA_tet_1_0_base_simple_max_iter10000__fit_interceptFalse__alpha0____0__l1_ratio0____0_run_num__7\n",
      "/gDA_tet_1_0_base_simple_max_iter10000__fit_interceptFalse__alpha0____0__l1_ratio0____0_run_num__8\n",
      "/gDA_tet_1_0_base_simple_max_iter10000__fit_interceptFalse__alpha0____0__l1_ratio0____0_run_num__9\n",
      "/gDA_tet_1_1_base_words_max_iter10000__fit_interceptFalse__alpha0____0__l1_ratio0____0_run_num__0\n",
      "/gDA_tet_1_1_base_words_max_iter10000__fit_interceptFalse__alpha0____0__l1_ratio0____0_run_num__1\n",
      "/gDA_tet_1_1_base_words_max_iter10000__fit_interceptFalse__alpha0____0__l1_ratio0____0_run_num__2\n",
      "/gDA_tet_1_1_base_words_max_iter10000__fit_interceptFalse__alpha0____0__l1_ratio0____0_run_num__3\n",
      "/gDA_tet_1_1_base_words_max_iter10000__fit_interceptFalse__alpha0____0__l1_ratio0____0_run_num__4\n",
      "/gDA_tet_1_1_base_words_max_iter10000__fit_interceptFalse__alpha0____0__l1_ratio0____0_run_num__5\n",
      "/gDA_tet_1_1_base_words_max_iter10000__fit_interceptFalse__alpha0____0__l1_ratio0____0_run_num__6\n",
      "/gDA_tet_1_1_base_words_max_iter10000__fit_interceptFalse__alpha0____0__l1_ratio0____0_run_num__7\n",
      "/gDA_tet_1_1_base_words_max_iter10000__fit_interceptFalse__alpha0____0__l1_ratio0____0_run_num__8\n",
      "/gDA_tet_1_1_base_words_max_iter10000__fit_interceptFalse__alpha0____0__l1_ratio0____0_run_num__9\n"
     ]
    }
   ],
   "source": [
    "h5_lst = []\n",
    "for h5_coef_fn in h5_beta_locations:\n",
    "    h5f = pd.HDFStore(h5_coef_fn)\n",
    "    h5fk = h5f.keys()\n",
    "    for key in h5fk:\n",
    "        h5_df = pd.read_hdf(h5f, key).reset_index()\n",
    "        \n",
    "        key =  key.replace('5_base_words_gDA_to_gACH', '5_base_words_rDA_to_gACH')\n",
    "        print(key)\n",
    "        \n",
    "        h5_df['fn'] = h5_coef_fn\n",
    "        h5_df['key'] = key\n",
    "        h5_df['name'] = h5_df['key'].str.replace('/', '').apply(lambda x: '_'.join(x.split('\\\\')[-1].split('_')[3:-4]))\n",
    "        h5_df = h5_df.set_index(['fn','key'])\n",
    "        \n",
    "        \n",
    "        h5_df = h5_df.sort_values('channel_name')\n",
    "        h5_df['channel'] = h5_df['channel_name'].str.split('_').apply(lambda x: x[0])\n",
    "        h5_df['run_num'] = h5_df['channel_name'].str.split('_').apply(lambda x: x[-1])\n",
    "        \n",
    "        h5_lst.append(h5_df)\n",
    "concat = pd.concat(h5_lst, axis=0)"
   ]
  },
  {
   "cell_type": "code",
   "execution_count": 6,
   "metadata": {},
   "outputs": [
    {
     "data": {
      "text/html": [
       "<div>\n",
       "<style scoped>\n",
       "    .dataframe tbody tr th:only-of-type {\n",
       "        vertical-align: middle;\n",
       "    }\n",
       "\n",
       "    .dataframe tbody tr th {\n",
       "        vertical-align: top;\n",
       "    }\n",
       "\n",
       "    .dataframe thead th {\n",
       "        text-align: right;\n",
       "    }\n",
       "</style>\n",
       "<table border=\"1\" class=\"dataframe\">\n",
       "  <thead>\n",
       "    <tr style=\"text-align: right;\">\n",
       "      <th></th>\n",
       "      <th></th>\n",
       "      <th>level_0</th>\n",
       "      <th>mouse_id</th>\n",
       "      <th>channel_name</th>\n",
       "      <th>name</th>\n",
       "      <th>timestamp</th>\n",
       "      <th>mse_tr</th>\n",
       "      <th>mse_cv</th>\n",
       "      <th>mse_te</th>\n",
       "      <th>r2_tr</th>\n",
       "      <th>r2_cv</th>\n",
       "      <th>...</th>\n",
       "      <th>AA_cnt_ho</th>\n",
       "      <th>Aa_cnt_ho</th>\n",
       "      <th>aA_cnt_ho</th>\n",
       "      <th>aa_cnt_ho</th>\n",
       "      <th>AB_cnt_ho</th>\n",
       "      <th>Ab_cnt_ho</th>\n",
       "      <th>aB_cnt_ho</th>\n",
       "      <th>ab_cnt_ho</th>\n",
       "      <th>channel</th>\n",
       "      <th>run_num</th>\n",
       "    </tr>\n",
       "    <tr>\n",
       "      <th>fn</th>\n",
       "      <th>key</th>\n",
       "      <th></th>\n",
       "      <th></th>\n",
       "      <th></th>\n",
       "      <th></th>\n",
       "      <th></th>\n",
       "      <th></th>\n",
       "      <th></th>\n",
       "      <th></th>\n",
       "      <th></th>\n",
       "      <th></th>\n",
       "      <th></th>\n",
       "      <th></th>\n",
       "      <th></th>\n",
       "      <th></th>\n",
       "      <th></th>\n",
       "      <th></th>\n",
       "      <th></th>\n",
       "      <th></th>\n",
       "      <th></th>\n",
       "      <th></th>\n",
       "      <th></th>\n",
       "    </tr>\n",
       "  </thead>\n",
       "  <tbody>\n",
       "    <tr>\n",
       "      <th>C:\\Users\\Josh\\Documents\\GitHub\\sabatinilab-glm\\sglm\\outputs-old\\Figure_7_g1--20_20sft\\all\\tet_run_20230328--20_20sft_1-ft\\coefs\\732_735_736_776_1_max_iter10000__fit_interceptFalse__alpha0____0__l1_ratio0____0_best_coeffs.h5</th>\n",
       "      <th>/gDA_tet_1_1_base_words_max_iter10000__fit_interceptFalse__alpha0____0__l1_ratio0____0_run_num__9</th>\n",
       "      <td>732_735_736_776_1</td>\n",
       "      <td>732_735_736_776</td>\n",
       "      <td>gDA_tet_1_run_num=9</td>\n",
       "      <td>1_base_words_max_iter10000__fit_interceptFalse...</td>\n",
       "      <td>933.2286808490753 s</td>\n",
       "      <td>0.705428</td>\n",
       "      <td>0.714219</td>\n",
       "      <td>0.721836</td>\n",
       "      <td>0.273633</td>\n",
       "      <td>0.264991</td>\n",
       "      <td>...</td>\n",
       "      <td>0.526187</td>\n",
       "      <td>0.087561</td>\n",
       "      <td>0.057283</td>\n",
       "      <td>0.113748</td>\n",
       "      <td>0.009002</td>\n",
       "      <td>0.06874</td>\n",
       "      <td>0.100655</td>\n",
       "      <td>0.036825</td>\n",
       "      <td>gDA</td>\n",
       "      <td>num=9</td>\n",
       "    </tr>\n",
       "  </tbody>\n",
       "</table>\n",
       "<p>1 rows × 565 columns</p>\n",
       "</div>"
      ],
      "text/plain": [
       "                                                                                                                 level_0  \\\n",
       "fn                                                 key                                                                     \n",
       "C:\\Users\\Josh\\Documents\\GitHub\\sabatinilab-glm\\... /gDA_tet_1_1_base_words_max_iter10000__fit_inte...  732_735_736_776_1   \n",
       "\n",
       "                                                                                                              mouse_id  \\\n",
       "fn                                                 key                                                                   \n",
       "C:\\Users\\Josh\\Documents\\GitHub\\sabatinilab-glm\\... /gDA_tet_1_1_base_words_max_iter10000__fit_inte...  732_735_736_776   \n",
       "\n",
       "                                                                                                              channel_name  \\\n",
       "fn                                                 key                                                                       \n",
       "C:\\Users\\Josh\\Documents\\GitHub\\sabatinilab-glm\\... /gDA_tet_1_1_base_words_max_iter10000__fit_inte...  gDA_tet_1_run_num=9   \n",
       "\n",
       "                                                                                                                                                    name  \\\n",
       "fn                                                 key                                                                                                     \n",
       "C:\\Users\\Josh\\Documents\\GitHub\\sabatinilab-glm\\... /gDA_tet_1_1_base_words_max_iter10000__fit_inte...  1_base_words_max_iter10000__fit_interceptFalse...   \n",
       "\n",
       "                                                                                                                 timestamp  \\\n",
       "fn                                                 key                                                                       \n",
       "C:\\Users\\Josh\\Documents\\GitHub\\sabatinilab-glm\\... /gDA_tet_1_1_base_words_max_iter10000__fit_inte...  933.2286808490753 s   \n",
       "\n",
       "                                                                                                         mse_tr  \\\n",
       "fn                                                 key                                                            \n",
       "C:\\Users\\Josh\\Documents\\GitHub\\sabatinilab-glm\\... /gDA_tet_1_1_base_words_max_iter10000__fit_inte...  0.705428   \n",
       "\n",
       "                                                                                                         mse_cv  \\\n",
       "fn                                                 key                                                            \n",
       "C:\\Users\\Josh\\Documents\\GitHub\\sabatinilab-glm\\... /gDA_tet_1_1_base_words_max_iter10000__fit_inte...  0.714219   \n",
       "\n",
       "                                                                                                         mse_te  \\\n",
       "fn                                                 key                                                            \n",
       "C:\\Users\\Josh\\Documents\\GitHub\\sabatinilab-glm\\... /gDA_tet_1_1_base_words_max_iter10000__fit_inte...  0.721836   \n",
       "\n",
       "                                                                                                          r2_tr  \\\n",
       "fn                                                 key                                                            \n",
       "C:\\Users\\Josh\\Documents\\GitHub\\sabatinilab-glm\\... /gDA_tet_1_1_base_words_max_iter10000__fit_inte...  0.273633   \n",
       "\n",
       "                                                                                                          r2_cv  \\\n",
       "fn                                                 key                                                            \n",
       "C:\\Users\\Josh\\Documents\\GitHub\\sabatinilab-glm\\... /gDA_tet_1_1_base_words_max_iter10000__fit_inte...  0.264991   \n",
       "\n",
       "                                                                                                       ...  \\\n",
       "fn                                                 key                                                 ...   \n",
       "C:\\Users\\Josh\\Documents\\GitHub\\sabatinilab-glm\\... /gDA_tet_1_1_base_words_max_iter10000__fit_inte...  ...   \n",
       "\n",
       "                                                                                                       AA_cnt_ho  \\\n",
       "fn                                                 key                                                             \n",
       "C:\\Users\\Josh\\Documents\\GitHub\\sabatinilab-glm\\... /gDA_tet_1_1_base_words_max_iter10000__fit_inte...   0.526187   \n",
       "\n",
       "                                                                                                       Aa_cnt_ho  \\\n",
       "fn                                                 key                                                             \n",
       "C:\\Users\\Josh\\Documents\\GitHub\\sabatinilab-glm\\... /gDA_tet_1_1_base_words_max_iter10000__fit_inte...   0.087561   \n",
       "\n",
       "                                                                                                       aA_cnt_ho  \\\n",
       "fn                                                 key                                                             \n",
       "C:\\Users\\Josh\\Documents\\GitHub\\sabatinilab-glm\\... /gDA_tet_1_1_base_words_max_iter10000__fit_inte...   0.057283   \n",
       "\n",
       "                                                                                                       aa_cnt_ho  \\\n",
       "fn                                                 key                                                             \n",
       "C:\\Users\\Josh\\Documents\\GitHub\\sabatinilab-glm\\... /gDA_tet_1_1_base_words_max_iter10000__fit_inte...   0.113748   \n",
       "\n",
       "                                                                                                       AB_cnt_ho  \\\n",
       "fn                                                 key                                                             \n",
       "C:\\Users\\Josh\\Documents\\GitHub\\sabatinilab-glm\\... /gDA_tet_1_1_base_words_max_iter10000__fit_inte...   0.009002   \n",
       "\n",
       "                                                                                                       Ab_cnt_ho  \\\n",
       "fn                                                 key                                                             \n",
       "C:\\Users\\Josh\\Documents\\GitHub\\sabatinilab-glm\\... /gDA_tet_1_1_base_words_max_iter10000__fit_inte...    0.06874   \n",
       "\n",
       "                                                                                                       aB_cnt_ho  \\\n",
       "fn                                                 key                                                             \n",
       "C:\\Users\\Josh\\Documents\\GitHub\\sabatinilab-glm\\... /gDA_tet_1_1_base_words_max_iter10000__fit_inte...   0.100655   \n",
       "\n",
       "                                                                                                       ab_cnt_ho  \\\n",
       "fn                                                 key                                                             \n",
       "C:\\Users\\Josh\\Documents\\GitHub\\sabatinilab-glm\\... /gDA_tet_1_1_base_words_max_iter10000__fit_inte...   0.036825   \n",
       "\n",
       "                                                                                                       channel  \\\n",
       "fn                                                 key                                                           \n",
       "C:\\Users\\Josh\\Documents\\GitHub\\sabatinilab-glm\\... /gDA_tet_1_1_base_words_max_iter10000__fit_inte...      gDA   \n",
       "\n",
       "                                                                                                       run_num  \n",
       "fn                                                 key                                                          \n",
       "C:\\Users\\Josh\\Documents\\GitHub\\sabatinilab-glm\\... /gDA_tet_1_1_base_words_max_iter10000__fit_inte...    num=9  \n",
       "\n",
       "[1 rows x 565 columns]"
      ]
     },
     "execution_count": 6,
     "metadata": {},
     "output_type": "execute_result"
    }
   ],
   "source": [
    "h5_df"
   ]
  },
  {
   "cell_type": "code",
   "execution_count": 7,
   "metadata": {},
   "outputs": [],
   "source": [
    "fh.create_folder_if_not_exists(out_loc)"
   ]
  },
  {
   "cell_type": "code",
   "execution_count": 8,
   "metadata": {},
   "outputs": [],
   "source": [
    "base_keys = list({\n",
    "                # 'gACH':(0,0),\n",
    "                # 'rDA':(0,0),\n",
    "                # 'gDA':(0,0),\n",
    "                'photometryCenterInIndex':(0,0),\n",
    "                'photometryCenterOutIndex':(0,0),\n",
    "                'photometrySideInIndex':(0,0),\n",
    "                'photometrySideInIndexr':(0,0),\n",
    "                'photometrySideOutIndex':(0,0),\n",
    "                'sl': (0,0),\n",
    "                'spnnrOff': (0,0),\n",
    "                'photometryCenterInIndex':(0,0),\n",
    "                'photometryCenterOutIndex':(0,0),\n",
    "                'photometrySideInIndexAA':(0,0),\n",
    "                'photometrySideInIndexAa':(0,0),\n",
    "                'photometrySideInIndexaA':(0,0),\n",
    "                'photometrySideInIndexaa':(0,0),\n",
    "                'photometrySideInIndexAB':(0,0),\n",
    "                'photometrySideInIndexAb':(0,0),\n",
    "                'photometrySideInIndexaB':(0,0),\n",
    "                'photometrySideInIndexab':(0,0),\n",
    "                'photometrySideOutIndex':(0,0),\n",
    "                'sl': (0,0),\n",
    "                'spnnrOff': (0,0),\n",
    "                }.keys())\n",
    "# base_keys"
   ]
  },
  {
   "cell_type": "code",
   "execution_count": 9,
   "metadata": {},
   "outputs": [],
   "source": [
    "concat = concat.reset_index()"
   ]
  },
  {
   "cell_type": "code",
   "execution_count": null,
   "metadata": {},
   "outputs": [],
   "source": []
  },
  {
   "cell_type": "code",
   "execution_count": 10,
   "metadata": {},
   "outputs": [],
   "source": [
    "import matplotlib.pyplot as plt"
   ]
  },
  {
   "cell_type": "code",
   "execution_count": null,
   "metadata": {},
   "outputs": [],
   "source": []
  },
  {
   "cell_type": "code",
   "execution_count": 11,
   "metadata": {
    "scrolled": false
   },
   "outputs": [],
   "source": [
    "# concat['mod'] = concat.reset_index()['key'].apply(lambda x: '_'.join(x.split('\\\\')[-1].split('_')[0:3]).replace('/',''))\n",
    "# concat['modl'] = concat.reset_index()['key'].apply(lambda x: '_'.join(x.split('\\\\')[-1].split('_')[3:-4]).replace('/',''))\n",
    "# concat['ycol'] = concat['mod'].apply(lambda x: (x.split('_')[0]).replace('/',''))\n",
    "# concat['rn'] = concat['key'].apply(lambda x: '_'.join(x.split('_')[-1]))\n",
    "\n",
    "\n",
    "# vw = concat.set_index(['ycol', 'modl', 'rn'])[['mse_tr', 'mse_cv', 'mse_te']]\n",
    "\n",
    "# for l in vw.reset_index()['ycol'].unique():\n",
    "    \n",
    "#     fig, ax = plt.subplots(1,1,figsize=(15,5))\n",
    "    \n",
    "#     fig.suptitle(l)\n",
    "#     fig.set_facecolor('w')\n",
    "    \n",
    "#     vwyc = vw.loc[l].values\n",
    "#     ymn, ymx = np.min(vwyc), np.max(vwyc)\n",
    "#     vw.loc[l].unstack(0).swaplevel(0,1,axis=1).sort_index(axis=1).swaplevel(0,1,axis=1).boxplot(ax=ax)\n",
    "#     plt.xticks(rotation=90)\n",
    "# vw"
   ]
  },
  {
   "cell_type": "code",
   "execution_count": null,
   "metadata": {},
   "outputs": [],
   "source": []
  },
  {
   "cell_type": "code",
   "execution_count": null,
   "metadata": {},
   "outputs": [],
   "source": []
  },
  {
   "cell_type": "code",
   "execution_count": null,
   "metadata": {},
   "outputs": [],
   "source": []
  },
  {
   "cell_type": "code",
   "execution_count": 12,
   "metadata": {},
   "outputs": [],
   "source": [
    "# vw.loc[l, 'mse_tr'].unstack(0).boxplot()"
   ]
  },
  {
   "cell_type": "code",
   "execution_count": 13,
   "metadata": {},
   "outputs": [],
   "source": [
    "# vw.loc[l, ['mse_tr']]"
   ]
  },
  {
   "cell_type": "code",
   "execution_count": 14,
   "metadata": {},
   "outputs": [],
   "source": [
    "# vw"
   ]
  },
  {
   "cell_type": "code",
   "execution_count": null,
   "metadata": {},
   "outputs": [],
   "source": []
  },
  {
   "cell_type": "code",
   "execution_count": 15,
   "metadata": {},
   "outputs": [],
   "source": [
    "save_mse_scatter = concat.reset_index().set_index(['mouse_id', 'channel', 'name', 'run_num'])[['mse_tr', 'mse_cv', 'mse_te']]\n",
    "save_mse_scatter.to_csv(str((Path(out_loc) / f'{load_folder.parts[-1]}-mse_sctr.csv').resolve()))\n",
    "\n",
    "save_r2_scatter = concat.reset_index().set_index(['mouse_id', 'channel', 'name', 'run_num'])[['r2_tr', 'r2_cv', 'r2_te']]\n",
    "save_r2_scatter.to_csv(str((Path(out_loc) / f'{load_folder.parts[-1]}-r2_sctr.csv').resolve()))"
   ]
  },
  {
   "cell_type": "code",
   "execution_count": 16,
   "metadata": {},
   "outputs": [
    {
     "name": "stderr",
     "output_type": "stream",
     "text": [
      "C:\\Users\\Josh\\AppData\\Local\\Temp\\ipykernel_24700\\995889199.py:1: FutureWarning: ['fn', 'key'] did not aggregate successfully. If any error is raised this will raise in a future version of pandas. Drop these columns/ops to avoid this warning.\n",
      "  agg = concat.drop(['channel_name', 'timestamp', 'run_num'], axis=1).groupby(['channel', 'name']).agg([np.size, np.mean, np.std])\n"
     ]
    }
   ],
   "source": [
    "agg = concat.drop(['channel_name', 'timestamp', 'run_num'], axis=1).groupby(['channel', 'name']).agg([np.size, np.mean, np.std])\n",
    "stk = agg[['mse_tr', 'mse_cv', 'mse_te']].rename({'mse_tr':'01_mse_tr', 'mse_cv':'02_mse_cv', 'mse_te':'03_mse_te'}, axis=1).swaplevel(axis=1).stack()"
   ]
  },
  {
   "cell_type": "code",
   "execution_count": 17,
   "metadata": {},
   "outputs": [],
   "source": [
    "# concat[['mse_tr', 'mse_cv', 'mse_te']].unstack(0).boxplot()"
   ]
  },
  {
   "cell_type": "code",
   "execution_count": null,
   "metadata": {},
   "outputs": [],
   "source": []
  },
  {
   "cell_type": "code",
   "execution_count": 18,
   "metadata": {},
   "outputs": [],
   "source": [
    "stk['lb'] = stk['mean'] - 1.96*stk['std']/np.sqrt(stk['size'])\n",
    "stk['mn'] = stk['mean']\n",
    "stk['ub'] = stk['mean'] + 1.96*stk['std']/np.sqrt(stk['size'])\n",
    "\n",
    "plt_df = stk[['lb', 'mn', 'ub']].unstack().swaplevel(axis=1)\n",
    "\n",
    "gACH = plt_df.loc['gACH'] if 'gACH' in plt_df.reset_index()['channel'].unique() else plt_df.iloc[0:0]\n",
    "rDA = plt_df.loc['rDA'] if 'rDA' in plt_df.reset_index()['channel'].unique() else plt_df.iloc[0:0]\n",
    "gDA = plt_df.loc['gDA'] if 'gDA' in plt_df.reset_index()['channel'].unique() else plt_df.iloc[0:0]\n",
    "\n",
    "save_ci = stk[['mean', 'size', 'std']].unstack().swaplevel(axis=1).sort_index(axis=1)\n",
    "save_ci.to_csv(str((Path(out_loc) / f'{load_folder.parts[-1]}-mse_ci.csv').resolve()))"
   ]
  },
  {
   "cell_type": "code",
   "execution_count": 19,
   "metadata": {},
   "outputs": [
    {
     "data": {
      "text/html": [
       "<div>\n",
       "<style scoped>\n",
       "    .dataframe tbody tr th:only-of-type {\n",
       "        vertical-align: middle;\n",
       "    }\n",
       "\n",
       "    .dataframe tbody tr th {\n",
       "        vertical-align: top;\n",
       "    }\n",
       "\n",
       "    .dataframe thead th {\n",
       "        text-align: right;\n",
       "    }\n",
       "</style>\n",
       "<table border=\"1\" class=\"dataframe\">\n",
       "  <thead>\n",
       "    <tr style=\"text-align: right;\">\n",
       "      <th></th>\n",
       "      <th></th>\n",
       "      <th></th>\n",
       "      <th>mean</th>\n",
       "      <th>size</th>\n",
       "      <th>std</th>\n",
       "      <th>lb</th>\n",
       "      <th>mn</th>\n",
       "      <th>ub</th>\n",
       "    </tr>\n",
       "    <tr>\n",
       "      <th>channel</th>\n",
       "      <th>name</th>\n",
       "      <th></th>\n",
       "      <th></th>\n",
       "      <th></th>\n",
       "      <th></th>\n",
       "      <th></th>\n",
       "      <th></th>\n",
       "      <th></th>\n",
       "    </tr>\n",
       "  </thead>\n",
       "  <tbody>\n",
       "    <tr>\n",
       "      <th rowspan=\"6\" valign=\"top\">gDA</th>\n",
       "      <th rowspan=\"3\" valign=\"top\">0_base_simple_max_iter10000__fit_interceptFalse__alpha0____0__l1_ratio0____0</th>\n",
       "      <th>01_mse_tr</th>\n",
       "      <td>0.747809</td>\n",
       "      <td>20</td>\n",
       "      <td>0.025092</td>\n",
       "      <td>0.736812</td>\n",
       "      <td>0.747809</td>\n",
       "      <td>0.758806</td>\n",
       "    </tr>\n",
       "    <tr>\n",
       "      <th>02_mse_cv</th>\n",
       "      <td>0.751330</td>\n",
       "      <td>20</td>\n",
       "      <td>0.027295</td>\n",
       "      <td>0.739368</td>\n",
       "      <td>0.751330</td>\n",
       "      <td>0.763293</td>\n",
       "    </tr>\n",
       "    <tr>\n",
       "      <th>03_mse_te</th>\n",
       "      <td>0.748447</td>\n",
       "      <td>20</td>\n",
       "      <td>0.024968</td>\n",
       "      <td>0.737504</td>\n",
       "      <td>0.748447</td>\n",
       "      <td>0.759389</td>\n",
       "    </tr>\n",
       "    <tr>\n",
       "      <th rowspan=\"3\" valign=\"top\">1_base_words_max_iter10000__fit_interceptFalse__alpha0____0__l1_ratio0____0</th>\n",
       "      <th>01_mse_tr</th>\n",
       "      <td>0.735898</td>\n",
       "      <td>20</td>\n",
       "      <td>0.026481</td>\n",
       "      <td>0.724292</td>\n",
       "      <td>0.735898</td>\n",
       "      <td>0.747504</td>\n",
       "    </tr>\n",
       "    <tr>\n",
       "      <th>02_mse_cv</th>\n",
       "      <td>0.744651</td>\n",
       "      <td>20</td>\n",
       "      <td>0.025267</td>\n",
       "      <td>0.733577</td>\n",
       "      <td>0.744651</td>\n",
       "      <td>0.755725</td>\n",
       "    </tr>\n",
       "    <tr>\n",
       "      <th>03_mse_te</th>\n",
       "      <td>0.740994</td>\n",
       "      <td>20</td>\n",
       "      <td>0.026028</td>\n",
       "      <td>0.729586</td>\n",
       "      <td>0.740994</td>\n",
       "      <td>0.752401</td>\n",
       "    </tr>\n",
       "  </tbody>\n",
       "</table>\n",
       "</div>"
      ],
      "text/plain": [
       "                                                                          mean  \\\n",
       "channel name                                                                     \n",
       "gDA     0_base_simple_max_iter10000__fit_interceptFalse... 01_mse_tr  0.747809   \n",
       "                                                           02_mse_cv  0.751330   \n",
       "                                                           03_mse_te  0.748447   \n",
       "        1_base_words_max_iter10000__fit_interceptFalse_... 01_mse_tr  0.735898   \n",
       "                                                           02_mse_cv  0.744651   \n",
       "                                                           03_mse_te  0.740994   \n",
       "\n",
       "                                                                      size  \\\n",
       "channel name                                                                 \n",
       "gDA     0_base_simple_max_iter10000__fit_interceptFalse... 01_mse_tr    20   \n",
       "                                                           02_mse_cv    20   \n",
       "                                                           03_mse_te    20   \n",
       "        1_base_words_max_iter10000__fit_interceptFalse_... 01_mse_tr    20   \n",
       "                                                           02_mse_cv    20   \n",
       "                                                           03_mse_te    20   \n",
       "\n",
       "                                                                           std  \\\n",
       "channel name                                                                     \n",
       "gDA     0_base_simple_max_iter10000__fit_interceptFalse... 01_mse_tr  0.025092   \n",
       "                                                           02_mse_cv  0.027295   \n",
       "                                                           03_mse_te  0.024968   \n",
       "        1_base_words_max_iter10000__fit_interceptFalse_... 01_mse_tr  0.026481   \n",
       "                                                           02_mse_cv  0.025267   \n",
       "                                                           03_mse_te  0.026028   \n",
       "\n",
       "                                                                            lb  \\\n",
       "channel name                                                                     \n",
       "gDA     0_base_simple_max_iter10000__fit_interceptFalse... 01_mse_tr  0.736812   \n",
       "                                                           02_mse_cv  0.739368   \n",
       "                                                           03_mse_te  0.737504   \n",
       "        1_base_words_max_iter10000__fit_interceptFalse_... 01_mse_tr  0.724292   \n",
       "                                                           02_mse_cv  0.733577   \n",
       "                                                           03_mse_te  0.729586   \n",
       "\n",
       "                                                                            mn  \\\n",
       "channel name                                                                     \n",
       "gDA     0_base_simple_max_iter10000__fit_interceptFalse... 01_mse_tr  0.747809   \n",
       "                                                           02_mse_cv  0.751330   \n",
       "                                                           03_mse_te  0.748447   \n",
       "        1_base_words_max_iter10000__fit_interceptFalse_... 01_mse_tr  0.735898   \n",
       "                                                           02_mse_cv  0.744651   \n",
       "                                                           03_mse_te  0.740994   \n",
       "\n",
       "                                                                            ub  \n",
       "channel name                                                                    \n",
       "gDA     0_base_simple_max_iter10000__fit_interceptFalse... 01_mse_tr  0.758806  \n",
       "                                                           02_mse_cv  0.763293  \n",
       "                                                           03_mse_te  0.759389  \n",
       "        1_base_words_max_iter10000__fit_interceptFalse_... 01_mse_tr  0.747504  \n",
       "                                                           02_mse_cv  0.755725  \n",
       "                                                           03_mse_te  0.752401  "
      ]
     },
     "execution_count": 19,
     "metadata": {},
     "output_type": "execute_result"
    }
   ],
   "source": [
    "stk"
   ]
  },
  {
   "cell_type": "code",
   "execution_count": 20,
   "metadata": {},
   "outputs": [],
   "source": [
    "import matplotlib.pyplot as plt"
   ]
  },
  {
   "cell_type": "code",
   "execution_count": 21,
   "metadata": {
    "scrolled": false
   },
   "outputs": [
    {
     "data": {
      "image/png": "[encoded data removed]",
      "text/plain": [
       "<Figure size 720x1440 with 3 Axes>"
      ]
     },
     "metadata": {},
     "output_type": "display_data"
    }
   ],
   "source": [
    "rot = 15\n",
    "\n",
    "fig,axes=plt.subplots(3,1,figsize=(10,20))\n",
    "fig.set_facecolor('w')\n",
    "\n",
    "if len(gACH) > 0:\n",
    "    ax = axes[0]\n",
    "    ax.plot(gACH.index, gACH['01_mse_tr']['mn'], label='mse_tr')\n",
    "    ax.fill_between(gACH.index, gACH['01_mse_tr']['lb'], gACH['01_mse_tr']['ub'], alpha=0.2, label='mse_tr - CI')\n",
    "    ax.plot(gACH.index, gACH['02_mse_cv']['mn'], label='mse_cv')\n",
    "    ax.fill_between(gACH.index, gACH['02_mse_cv']['lb'], gACH['02_mse_cv']['ub'], alpha=0.2, label='mse_cv - CI')\n",
    "    ax.plot(gACH.index, gACH['03_mse_te']['mn'], label='mse_te')\n",
    "    ax.fill_between(gACH.index, gACH['03_mse_te']['lb'], gACH['03_mse_te']['ub'], alpha=0.2, label='mse_te - CI')\n",
    "    print([_.get_text() for _ in ax.xaxis.get_ticklabels()])\n",
    "    ax.set_title('gACH - GLM MSEs')\n",
    "    ax.legend()\n",
    "    ax.grid(True)\n",
    "    for tick in ax.get_xticklabels():\n",
    "        tick.set_rotation(rot)\n",
    "\n",
    "if len(gDA) > 0:\n",
    "    ax = axes[1]\n",
    "    ax.plot(gDA.index, gDA['01_mse_tr']['mn'], label='mse_tr')\n",
    "    ax.fill_between(gDA.index, gDA['01_mse_tr']['lb'], gDA['01_mse_tr']['ub'], alpha=0.2, label='mse_tr - CI')\n",
    "    ax.plot(gDA.index, gDA['02_mse_cv']['mn'], label='mse_cv')\n",
    "    ax.fill_between(gDA.index, gDA['02_mse_cv']['lb'], gDA['02_mse_cv']['ub'], alpha=0.2, label='mse_cv - CI')\n",
    "    ax.plot(gDA.index, gDA['03_mse_te']['mn'], label='mse_te')\n",
    "    ax.fill_between(gDA.index, gDA['03_mse_te']['lb'], gDA['03_mse_te']['ub'], alpha=0.2, label='mse_te - CI')\n",
    "    ax.set_title('gDA - GLM MSEs')\n",
    "    ax.legend()\n",
    "    ax.grid(True)\n",
    "    for tick in ax.get_xticklabels():\n",
    "        tick.set_rotation(rot)\n",
    "\n",
    "if len(rDA) > 0:\n",
    "    ax = axes[2]\n",
    "    ax.plot(rDA.index, rDA['01_mse_tr']['mn'], label='mse_tr')\n",
    "    ax.fill_between(rDA.index, rDA['01_mse_tr']['lb'], rDA['01_mse_tr']['ub'], alpha=0.2, label='mse_tr - CI')\n",
    "    ax.plot(rDA.index, rDA['02_mse_cv']['mn'], label='mse_cv')\n",
    "    ax.fill_between(rDA.index, rDA['02_mse_cv']['lb'], rDA['02_mse_cv']['ub'], alpha=0.2, label='mse_cv - CI')\n",
    "    ax.plot(rDA.index, rDA['03_mse_te']['mn'], label='mse_te')\n",
    "    ax.fill_between(rDA.index, rDA['03_mse_te']['lb'], rDA['03_mse_te']['ub'], alpha=0.2, label='mse_te - CI')\n",
    "    ax.set_title('rDA - GLM MSEs')\n",
    "    ax.legend()\n",
    "    ax.grid(True)\n",
    "\n",
    "    for tick in ax.get_xticklabels():\n",
    "        tick.set_rotation(rot)\n",
    "\n",
    "plt.show()\n"
   ]
  },
  {
   "cell_type": "code",
   "execution_count": 22,
   "metadata": {},
   "outputs": [
    {
     "name": "stdout",
     "output_type": "stream",
     "text": [
      "Done.\n"
     ]
    }
   ],
   "source": [
    "print('Done.')"
   ]
  }
 ],
 "metadata": {
  "kernelspec": {
   "display_name": "Python 3 (ipykernel)",
   "language": "python",
   "name": "python3"
  },
  "language_info": {
   "codemirror_mode": {
    "name": "ipython",
    "version": 3
   },
   "file_extension": ".py",
   "mimetype": "text/x-python",
   "name": "python",
   "nbconvert_exporter": "python",
   "pygments_lexer": "ipython3",
   "version": "3.10.4"
  },
  "vscode": {
   "interpreter": {
    "hash": "fa0fc083a9a7b25dab36cbe71fb89b2f1907d4eced1698b208dea6977346b521"
   }
  }
 },
 "nbformat": 4,
 "nbformat_minor": 2
}
