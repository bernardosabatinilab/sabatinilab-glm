{
 "cells": [
  {
   "cell_type": "code",
   "execution_count": 2,
   "metadata": {},
   "outputs": [],
   "source": [
    "%load_ext autoreload\n",
    "%autoreload 2"
   ]
  },
  {
   "cell_type": "code",
   "execution_count": 72,
   "metadata": {},
   "outputs": [],
   "source": [
    "import pandas as pd\n",
    "import seaborn as sns\n",
    "import numpy as np\n",
    "\n",
    "# resid_df = pd.read_csv('/Users/josh/Documents/Harvard/GLM/sabatinilab-glm/sglm/outputs/fig1/all/full-run_0-ft/reports/residuals/best_resids/63_64_65_66_67_68_69_57_58_59_60_61_53_55_56_best_resids_R2_0.1986_all.csv')\n",
    "resid_df = pd.read_csv('/Users/josh/Documents/Harvard/GLM/sabatinilab-glm/sglm/outputs/fig1/all/only-all_0-ft/reports/residuals/best_resids/63_64_65_66_67_68_69_57_58_59_60_61_53_55_56_best_resids_R2_0.2127_all.csv')\n",
    "resid_df = resid_df[~resid_df['dupe']]\n",
    "def get_triplicated_data_for_time_alignment(df, alignment_col):\n",
    "    \"\"\"\n",
    "\n",
    "    \"\"\"\n",
    "\n",
    "    rel_points = df[df[alignment_col] > 0].reset_index()\n",
    "    identifiers = rel_points[['index', 'nTrial', 'nEndTrial']].dropna().values.astype(int)\n",
    "    if len(identifiers) == 0:\n",
    "        return pd.DataFrame(columns=df.reset_index().columns)\n",
    "\n",
    "    lst_extendeds = []\n",
    "    \n",
    "    for idx, nTrial, nEndTrial in identifiers:\n",
    "        extended_trial = df[(df['nTrial'] == nTrial) | (df['nEndTrial'] == nEndTrial)].reset_index().copy()\n",
    "        extended_trial = extended_trial[(extended_trial['nTrial'] - extended_trial['nEndTrial']) == extended_trial['diffTrialNums']]\n",
    "        extended_trial['index'] -= idx\n",
    "\n",
    "        lst_extendeds.append(extended_trial.copy())\n",
    "        \n",
    "    relative_df = pd.concat(lst_extendeds)\n",
    "    return relative_df\n",
    "\n",
    "def plot_single_avg_reconstruction_v2(df, alignment_col, channel,\n",
    "                                      title=None, trial_num=None, x_label=None, y_label=None,\n",
    "                                      inx_bounds=(-40, 60), signal_bounds=(-1, 2.5),\n",
    "                                      ic=None, color_lst=['b', 'g', 'y', 'k'],\n",
    "                                      fig=None, ax=None, show_pred=True):\n",
    "    \"\"\"\n",
    "    \n",
    "    \"\"\"\n",
    "\n",
    "    color = color_lst[ic]\n",
    "    \n",
    "    relative_df = get_triplicated_data_for_time_alignment(df, alignment_col)\n",
    "\n",
    "    df_filt_to_bounds = relative_df[relative_df['index'].between(*inx_bounds)].copy()\n",
    "    df_filt_to_bounds['resids'] = df_filt_to_bounds[channel] - df_filt_to_bounds['pred']\n",
    "    num_trials = (df_filt_to_bounds['index'] == 0).sum()\n",
    "\n",
    "    rmse = np.sqrt((df_filt_to_bounds['resids']**2).mean())\n",
    "\n",
    "    alignment_name = alignment_col.split('_')[-1]\n",
    "    sns.lineplot(x='index', y=channel, data=df_filt_to_bounds, label=f'{alignment_col} — {channel} — True', ax=ax, color=color)\n",
    "    if show_pred:\n",
    "        sns.lineplot(x='index', y='pred', data=df_filt_to_bounds, label=f'{alignment_col} — {channel} — Pred', ax=ax, color='r')\n",
    "    \n",
    "    ax.title.set_text(f'{title} — {num_trials} Trials — RMSE: {rmse:.2f}')\n",
    "    ax.set_xlabel(x_label)\n",
    "    ax.set_ylabel(y_label)\n",
    "\n",
    "    ax.set_ylim(*signal_bounds)\n",
    "    ax.grid(visible=True)\n",
    "    \n",
    "    return\n"
   ]
  },
  {
   "cell_type": "code",
   "execution_count": 98,
   "metadata": {},
   "outputs": [
    {
     "data": {
      "text/plain": [
       "array([      0,       1,       2, ..., 1992474, 1992475, 1992476])"
      ]
     },
     "metadata": {},
     "output_type": "display_data"
    },
    {
     "name": "stdout",
     "output_type": "stream",
     "text": [
      "(1992477,) (13011,)\n"
     ]
    }
   ],
   "source": [
    "b0 = np.arange(len(resid_df))\n",
    "display(b0)\n",
    "\n",
    "rdc = []\n",
    "\n",
    "lb = -40\n",
    "ub = 100\n",
    "for event_col in ['photometrySideInIndexr']:\n",
    "    resid_df_cutdown = resid_df[['Unnamed: 0', 'file_num', 'nTrial', 'nEndTrial', 'wi_trial_keep',\n",
    "                                 'gDA', 'gACH', 'rDA', event_col, 'pred_paramsNum=0_gACH']].copy()\n",
    "\n",
    "    event = np.where(resid_df_cutdown[event_col].values == 1)[0]\n",
    "    print(b0.shape, event.shape)\n",
    "    for iev, ev in enumerate(event):\n",
    "        delta = b0 - ev\n",
    "        # print(delta)\n",
    "        keep_eg = (delta >= -40)&(delta <= 100)\n",
    "        delta_keep_eg = delta[keep_eg]\n",
    "        rdf_tmp = resid_df_cutdown.loc[keep_eg].copy()\n",
    "        rdf_tmp['delta'] = delta_keep_eg\n",
    "        # display(rdf_tmp)\n",
    "        # display(list(rdf_tmp.columns))\n",
    "        rdc.append(rdf_tmp)\n",
    "        if iev > 10000:\n",
    "            break\n",
    "    break\n",
    "\n",
    "rdc_df = pd.concat(rdc)#.groupby('delta').agg([np.mean, np.std, np.size])"
   ]
  },
  {
   "cell_type": "code",
   "execution_count": 99,
   "metadata": {},
   "outputs": [],
   "source": [
    "seed = np.random.randint(1000000000)"
   ]
  },
  {
   "cell_type": "code",
   "execution_count": 100,
   "metadata": {},
   "outputs": [
    {
     "name": "stderr",
     "output_type": "stream",
     "text": [
      "/Users/josh/opt/anaconda3/lib/python3.8/site-packages/seaborn/_decorators.py:36: FutureWarning: Pass the following variables as keyword args: x, y. From version 0.12, the only valid positional argument will be `data`, and passing other arguments without an explicit keyword will result in an error or misinterpretation.\n",
      "  warnings.warn(\n",
      "/Users/josh/opt/anaconda3/lib/python3.8/site-packages/seaborn/_decorators.py:36: FutureWarning: Pass the following variables as keyword args: x, y. From version 0.12, the only valid positional argument will be `data`, and passing other arguments without an explicit keyword will result in an error or misinterpretation.\n",
      "  warnings.warn(\n"
     ]
    },
    {
     "data": {
      "text/plain": [
       "<AxesSubplot:xlabel='delta', ylabel='gACH'>"
      ]
     },
     "execution_count": 100,
     "metadata": {},
     "output_type": "execute_result"
    },
    {
     "data": {
      "image/png": "[encoded data removed]",
      "text/plain": [
       "<Figure size 720x720 with 1 Axes>"
      ]
     },
     "metadata": {
      "needs_background": "light"
     },
     "output_type": "display_data"
    }
   ],
   "source": [
    "import matplotlib.pyplot as plt\n",
    "fig, ax = plt.subplots(1,1,figsize=(10,10))\n",
    "sns.lineplot(rdc_df['delta'], rdc_df['gACH'], seed=seed, ax=ax)\n",
    "sns.lineplot(rdc_df['delta'], rdc_df['pred_paramsNum=0_gACH'], seed=seed, ax=ax)"
   ]
  },
  {
   "cell_type": "code",
   "execution_count": 101,
   "metadata": {},
   "outputs": [],
   "source": [
    "# rdc_df.columns = ['_'.join(_) for _ in rdc_df.columns]\n",
    "# rdc_df\n",
    "# col_to_use = 'gACH'\n",
    "# pred_col_to_use = f'pred_paramsNum=0_{col_to_use}'\n",
    "\n",
    "# rdc_df[f'lb_{col_to_use}'] = rdc_df[f'{col_to_use}_mean'] - 2*rdc_df[f'{col_to_use}_std']/np.sqrt(rdc_df[f'{col_to_use}_size'])\n",
    "# rdc_df[f'ub_{col_to_use}'] = rdc_df[f'{col_to_use}_mean'] + 2*rdc_df[f'{col_to_use}_std']/np.sqrt(rdc_df[f'{col_to_use}_size'])\n",
    "\n",
    "# rdc_df[f'lb_{pred_col_to_use}'] = rdc_df[f'{pred_col_to_use}_mean'] - 2*rdc_df[f'{pred_col_to_use}_std']/np.sqrt(rdc_df[f'{pred_col_to_use}_size'])\n",
    "# rdc_df[f'ub_{pred_col_to_use}'] = rdc_df[f'{pred_col_to_use}_mean'] + 2*rdc_df[f'{pred_col_to_use}_std']/np.sqrt(rdc_df[f'{pred_col_to_use}_size'])\n",
    "\n",
    "# # display(rdc_df['gDA_mean'] - 2*rdc_df['gDA_std']/np.sqrt(rdc_df['gDA_size']))\n",
    "# # display(rdc_df['gDA_mean'] + 2*rdc_df['gDA_std']/np.sqrt(rdc_df['gDA_size']))\n",
    "\n",
    "# # display(rdc_df['gDA_mean'] - 2*rdc_df['gDA_std']/np.sqrt(rdc_df['gDA_size']))\n",
    "# # display(rdc_df['gDA_mean'] + 2*rdc_df['gDA_std']/np.sqrt(rdc_df['gDA_size']))\n",
    "\n",
    "# rdc_df[[f'lb_{col_to_use}', f'{col_to_use}_mean', f'ub_{col_to_use}',\n",
    "#         f'lb_{pred_col_to_use}', f'{pred_col_to_use}_mean', f'ub_{pred_col_to_use}', \n",
    "#         ]].plot()\n"
   ]
  },
  {
   "cell_type": "code",
   "execution_count": 137,
   "metadata": {},
   "outputs": [],
   "source": [
    "import glob\n",
    "\n",
    "coef_dfs = []\n",
    "for run_file in glob.glob('/Users/josh/Documents/Harvard/GLM/sabatinilab-glm/sglm/outputs/fig1/all/only-all-10x-te_0-ft/reports/coeffs/best_coeffs/*'):\n",
    "    coef_dfs.append(pd.read_csv(run_file))\n",
    "\n",
    "concat = pd.concat(coef_dfs)"
   ]
  },
  {
   "cell_type": "code",
   "execution_count": null,
   "metadata": {},
   "outputs": [],
   "source": []
  },
  {
   "cell_type": "code",
   "execution_count": 138,
   "metadata": {},
   "outputs": [
    {
     "data": {
      "text/plain": [
       "name\n",
       "base-simple    AxesSubplot(0.125,0.125;0.775x0.755)\n",
       "no-CI          AxesSubplot(0.125,0.125;0.775x0.755)\n",
       "dtype: object"
      ]
     },
     "execution_count": 138,
     "metadata": {},
     "output_type": "execute_result"
    },
    {
     "data": {
      "image/png": "[encoded data removed]",
      "text/plain": [
       "<Figure size 432x288 with 1 Axes>"
      ]
     },
     "metadata": {
      "needs_background": "light"
     },
     "output_type": "display_data"
    },
    {
     "data": {
      "image/png": "[encoded data removed]",
      "text/plain": [
       "<Figure size 432x288 with 1 Axes>"
      ]
     },
     "metadata": {
      "needs_background": "light"
     },
     "output_type": "display_data"
    }
   ],
   "source": [
    "# coef_ci = concat.sort_values('channel_name').groupby('name')[\n",
    "#     ['mse_tr', 'mse_cv', 'mse_te', \n",
    "#     #'r2_tr', 'r2_cv', 'r2_te'\n",
    "#     ]\n",
    "# ].agg([np.min, np.max, np.mean, #np.std, np.size\n",
    "#     ])\n",
    "# coef_ci.columns = ['_'.join(_) for _ in coef_ci.columns]\n",
    "concat.groupby('name')[['mse_tr', 'mse_cv', 'mse_te']].plot(marker='.', linestyle='', alpha=0.5)"
   ]
  },
  {
   "cell_type": "code",
   "execution_count": 156,
   "metadata": {},
   "outputs": [
    {
     "data": {
      "text/html": [
       "<div>\n",
       "<style scoped>\n",
       "    .dataframe tbody tr th:only-of-type {\n",
       "        vertical-align: middle;\n",
       "    }\n",
       "\n",
       "    .dataframe tbody tr th {\n",
       "        vertical-align: top;\n",
       "    }\n",
       "\n",
       "    .dataframe thead tr th {\n",
       "        text-align: left;\n",
       "    }\n",
       "\n",
       "    .dataframe thead tr:last-of-type th {\n",
       "        text-align: right;\n",
       "    }\n",
       "</style>\n",
       "<table border=\"1\" class=\"dataframe\">\n",
       "  <thead>\n",
       "    <tr>\n",
       "      <th></th>\n",
       "      <th colspan=\"3\" halign=\"left\">mse_dif</th>\n",
       "      <th colspan=\"3\" halign=\"left\">r2_dif</th>\n",
       "    </tr>\n",
       "    <tr>\n",
       "      <th></th>\n",
       "      <th>sum</th>\n",
       "      <th>size</th>\n",
       "      <th>mean</th>\n",
       "      <th>sum</th>\n",
       "      <th>size</th>\n",
       "      <th>mean</th>\n",
       "    </tr>\n",
       "    <tr>\n",
       "      <th>name</th>\n",
       "      <th></th>\n",
       "      <th></th>\n",
       "      <th></th>\n",
       "      <th></th>\n",
       "      <th></th>\n",
       "      <th></th>\n",
       "    </tr>\n",
       "  </thead>\n",
       "  <tbody>\n",
       "    <tr>\n",
       "      <th>base-simple</th>\n",
       "      <td>6</td>\n",
       "      <td>8</td>\n",
       "      <td>0.7500</td>\n",
       "      <td>6</td>\n",
       "      <td>8</td>\n",
       "      <td>0.7500</td>\n",
       "    </tr>\n",
       "    <tr>\n",
       "      <th>no-CI</th>\n",
       "      <td>5</td>\n",
       "      <td>7</td>\n",
       "      <td>0.7143</td>\n",
       "      <td>5</td>\n",
       "      <td>7</td>\n",
       "      <td>0.7143</td>\n",
       "    </tr>\n",
       "  </tbody>\n",
       "</table>\n",
       "</div>"
      ],
      "text/plain": [
       "            mse_dif              r2_dif             \n",
       "                sum size    mean    sum size    mean\n",
       "name                                                \n",
       "base-simple       6    8  0.7500      6    8  0.7500\n",
       "no-CI             5    7  0.7143      5    7  0.7143"
      ]
     },
     "metadata": {},
     "output_type": "display_data"
    },
    {
     "data": {
      "text/html": [
       "<div>\n",
       "<style scoped>\n",
       "    .dataframe tbody tr th:only-of-type {\n",
       "        vertical-align: middle;\n",
       "    }\n",
       "\n",
       "    .dataframe tbody tr th {\n",
       "        vertical-align: top;\n",
       "    }\n",
       "\n",
       "    .dataframe thead tr th {\n",
       "        text-align: left;\n",
       "    }\n",
       "\n",
       "    .dataframe thead tr:last-of-type th {\n",
       "        text-align: right;\n",
       "    }\n",
       "</style>\n",
       "<table border=\"1\" class=\"dataframe\">\n",
       "  <thead>\n",
       "    <tr>\n",
       "      <th></th>\n",
       "      <th colspan=\"3\" halign=\"left\">mse_del</th>\n",
       "      <th colspan=\"3\" halign=\"left\">r2_del</th>\n",
       "    </tr>\n",
       "    <tr>\n",
       "      <th></th>\n",
       "      <th>mean</th>\n",
       "      <th>amax</th>\n",
       "      <th>amin</th>\n",
       "      <th>mean</th>\n",
       "      <th>amax</th>\n",
       "      <th>amin</th>\n",
       "    </tr>\n",
       "    <tr>\n",
       "      <th>name</th>\n",
       "      <th></th>\n",
       "      <th></th>\n",
       "      <th></th>\n",
       "      <th></th>\n",
       "      <th></th>\n",
       "      <th></th>\n",
       "    </tr>\n",
       "  </thead>\n",
       "  <tbody>\n",
       "    <tr>\n",
       "      <th>base-simple</th>\n",
       "      <td>0.0065</td>\n",
       "      <td>0.0211</td>\n",
       "      <td>-0.0152</td>\n",
       "      <td>0.0070</td>\n",
       "      <td>0.0183</td>\n",
       "      <td>-0.0138</td>\n",
       "    </tr>\n",
       "    <tr>\n",
       "      <th>no-CI</th>\n",
       "      <td>0.0041</td>\n",
       "      <td>0.0214</td>\n",
       "      <td>-0.0152</td>\n",
       "      <td>0.0074</td>\n",
       "      <td>0.0183</td>\n",
       "      <td>-0.0141</td>\n",
       "    </tr>\n",
       "  </tbody>\n",
       "</table>\n",
       "</div>"
      ],
      "text/plain": [
       "            mse_del                  r2_del                \n",
       "               mean    amax    amin    mean    amax    amin\n",
       "name                                                       \n",
       "base-simple  0.0065  0.0211 -0.0152  0.0070  0.0183 -0.0138\n",
       "no-CI        0.0041  0.0214 -0.0152  0.0074  0.0183 -0.0141"
      ]
     },
     "metadata": {},
     "output_type": "display_data"
    }
   ],
   "source": [
    "concat2 = concat.copy()\n",
    "concat2['mse_dif'] = (concat2['mse_tr'] <= concat2['mse_te'])\n",
    "concat2['mse_del'] = (concat2['mse_te'] - concat2['mse_tr'])\n",
    "concat2['r2_dif'] = (concat2['r2_tr'] > concat2['r2_te'])\n",
    "concat2['r2_del'] = (concat2['r2_tr'] - concat2['r2_te'])\n",
    "concat2_out = np.round(concat2.groupby('name')[['mse_dif', 'r2_dif']].agg([np.sum, np.size, np.mean]), 4)\n",
    "display(concat2_out)\n",
    "concat2_out = np.round(concat2.groupby('name')[['mse_del', 'r2_del']].agg([np.mean, np.max, np.min]), 4)\n",
    "display(concat2_out)"
   ]
  },
  {
   "cell_type": "code",
   "execution_count": 102,
   "metadata": {},
   "outputs": [],
   "source": [
    "# delta"
   ]
  },
  {
   "cell_type": "code",
   "execution_count": null,
   "metadata": {},
   "outputs": [],
   "source": []
  }
 ],
 "metadata": {
  "kernelspec": {
   "display_name": "Python 3.8.5 ('base')",
   "language": "python",
   "name": "python3"
  },
  "language_info": {
   "codemirror_mode": {
    "name": "ipython",
    "version": 3
   },
   "file_extension": ".py",
   "mimetype": "text/x-python",
   "name": "python",
   "nbconvert_exporter": "python",
   "pygments_lexer": "ipython3",
   "version": "3.8.5"
  },
  "orig_nbformat": 4,
  "vscode": {
   "interpreter": {
    "hash": "fa0fc083a9a7b25dab36cbe71fb89b2f1907d4eced1698b208dea6977346b521"
   }
  }
 },
 "nbformat": 4,
 "nbformat_minor": 2
}
