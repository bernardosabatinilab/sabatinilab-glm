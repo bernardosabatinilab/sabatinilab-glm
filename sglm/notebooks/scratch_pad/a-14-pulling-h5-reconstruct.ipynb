{
 "cells": [
  {
   "cell_type": "code",
   "execution_count": 1,
   "metadata": {},
   "outputs": [
    {
     "data": {
      "text/html": [
       "<style>.container { width:95% !important; }</style>"
      ],
      "text/plain": [
       "<IPython.core.display.HTML object>"
      ]
     },
     "metadata": {},
     "output_type": "display_data"
    }
   ],
   "source": [
    "from IPython.display import display, HTML\n",
    "display(HTML(\"<style>.container { width:95% !important; }</style>\"))"
   ]
  },
  {
   "cell_type": "code",
   "execution_count": 2,
   "metadata": {},
   "outputs": [],
   "source": [
    "%load_ext autoreload\n",
    "%autoreload 2"
   ]
  },
  {
   "cell_type": "code",
   "execution_count": 3,
   "metadata": {},
   "outputs": [],
   "source": [
    "import glob\n",
    "import pandas as pd\n",
    "import numpy as np\n",
    "from sglm.helpers import filehelpers as fh, dfhelpers as dfh\n",
    "from pathlib import Path\n",
    "from collections import defaultdict\n",
    "from tqdm.notebook import tqdm, trange\n",
    "import scipy.stats\n",
    "import matplotlib.pyplot as plt\n"
   ]
  },
  {
   "cell_type": "code",
   "execution_count": 4,
   "metadata": {},
   "outputs": [],
   "source": [
    "# base_location = Path(r'/Users/josh/Documents/Harvard/GLM/sabatinilab-glm/sglm/outputs')\n",
    "base_location = Path(r'C:\\Users\\Josh\\Documents\\GitHub\\sabatinilab-glm\\sglm\\outputs')\n",
    "\n",
    "load_folder = base_location / Path(r'Figure_1_2')\n",
    "# load_folder = base_location / Path(r'tmp')\n",
    "h5_recons_locations = str((load_folder / Path(r'all\\f1*-ft\\reconstructs\\best_resids_*.h5')).resolve())\n",
    "# h5_recons_locations = str((load_folder / Path(r'all/f1*-ft/reconstructs/best_resids_*.h5')).resolve())\n",
    "# load_folder = base_location / Path(r'Figure_3')\n",
    "# h5_beta_locations = str((load_folder / Path(r'all\\f3*-ft\\reconstructs\\best_resids_*.h5')).resolve())\n",
    "# load_folder = base_location / Path(r'Figure_4_g1')\n",
    "# h5_beta_locations = str((load_folder / Path(r'all\\f4*-ft\\reconstructs\\best_resids_*.h5')).resolve())\n",
    "# load_folder = base_location / Path(r'Figure_4_g2')\n",
    "# h5_beta_locations = str((load_folder / Path(r'all\\f4*-ft\\reconstructs\\best_resids_*.h5')).resolve())\n",
    "# load_folder = base_location / Path(r'Figure_5_g1')\n",
    "# h5_beta_locations = str((load_folder / Path(r'all\\f5*-ft\\reconstructs\\best_resids_*.h5')).resolve())\n",
    "# load_folder = base_location / Path(r'Figure_5_g2')\n",
    "# h5_beta_locations = str((load_folder / Path(r'all\\f5*-ft\\coefs\\*_best_coeffs.h5')).resolve())\n",
    "\n",
    "out_folder = base_location / Path(r'final_outputs')\n",
    "\n",
    "out_loc = str((out_folder).resolve())\n",
    "h5_recons_locations = glob.glob(h5_recons_locations)"
   ]
  },
  {
   "cell_type": "code",
   "execution_count": 5,
   "metadata": {},
   "outputs": [],
   "source": [
    "base_keys = list({\n",
    "                'gACH':(0,0),\n",
    "                'rDA':(0,0),\n",
    "                'gDA':(0,0),\n",
    "#                 'photometryCenterInIndex':(0,0),\n",
    "#                 'photometryCenterOutIndex':(0,0),\n",
    "# #                 'photometrySideInIndex':(0,0),\n",
    "                'photometrySideInIndexr':(0,0),\n",
    "                'photometrySideInIndexnr':(0,0),\n",
    "#                 'photometrySideOutIndex':(0,0),\n",
    "#                 'sl': (0,0),\n",
    "#                 'spnnrOff': (0,0),\n",
    "#                 'photometryCenterInIndex':(0,0),\n",
    "#                 'photometryCenterOutIndex':(0,0),\n",
    "                'photometrySideInIndexAA':(0,0),\n",
    "                'photometrySideInIndexAa':(0,0),\n",
    "                'photometrySideInIndexaA':(0,0),\n",
    "                'photometrySideInIndexaa':(0,0),\n",
    "                'photometrySideInIndexAB':(0,0),\n",
    "                'photometrySideInIndexAb':(0,0),\n",
    "                'photometrySideInIndexaB':(0,0),\n",
    "                'photometrySideInIndexab':(0,0),\n",
    "#                 'photometrySideOutIndex':(0,0),\n",
    "#                 'sl': (0,0),\n",
    "#                 'spnnrOff': (0,0),\n",
    "                }.keys())\n",
    "shortened_keys = [dfh.shorten_col_name(_) for _ in base_keys]\n",
    "# base_keys"
   ]
  },
  {
   "cell_type": "code",
   "execution_count": null,
   "metadata": {},
   "outputs": [],
   "source": []
  },
  {
   "cell_type": "code",
   "execution_count": 6,
   "metadata": {},
   "outputs": [],
   "source": [
    "def get_delta_list(event_srs, event_col, keep_srs):\n",
    "    \n",
    "    keep_eg_lst = []\n",
    "    delta_keep_eg_lst = []\n",
    "\n",
    "    rdc = []\n",
    "    entry_num = np.arange(len(event_srs))\n",
    "    event = np.where(event_srs.values == 1)\n",
    "    assert len(event) == 1\n",
    "    event = event[0]\n",
    "    \n",
    "    for iev, ev in enumerate(event):\n",
    "        delta = entry_num - ev\n",
    "        keep_eg = (delta >= -40)&(delta <= 100)&keep_srs\n",
    "        delta_keep_eg = delta[keep_eg]\n",
    "        keep_eg_lst.append(keep_eg)\n",
    "        delta_keep_eg_lst.append(delta_keep_eg)\n",
    "\n",
    "    return keep_eg_lst, delta_keep_eg_lst\n",
    "\n",
    "# full_df = h5_lst[0]\n"
   ]
  },
  {
   "cell_type": "code",
   "execution_count": 7,
   "metadata": {},
   "outputs": [],
   "source": [
    "\n",
    "\n",
    "# resid_df = resid_df[~resid_df['dupe']]\n",
    "\n",
    "# # display(resid_df)\n",
    "# # break\n",
    "\n",
    "# b0 = np.arange(len(resid_df))\n",
    "# # display(b0)\n",
    "\n",
    "# rdc = []\n",
    "\n",
    "# lb = -40\n",
    "# ub = 100\n",
    "\n",
    "# pred_params_cols = [_ for _ in resid_df.columns if 'pred_paramsNum=' in _]\n",
    "\n",
    "\n",
    "# true_col = pred_params_cols[0].replace('pred_paramsNum=0_', '').split('_')[0]\n",
    "# print('true_col', true_col)\n",
    "\n",
    "# for event_col in ['photometrySideInIndexr']:\n",
    "#     resid_df_cutdown = resid_df[['Unnamed: 0', 'file_num', 'dupe', 'nTrial', 'nEndTrial', 'wi_trial_keep',\n",
    "#                                 'gDA', 'gACH', 'rDA', event_col] + pred_params_cols].copy()\n",
    "\n",
    "#     event = np.where(resid_df_cutdown[event_col].values == 1)[0]\n",
    "#     print(b0.shape, event.shape)\n",
    "#     for iev, ev in enumerate(event):\n",
    "#         delta = b0 - ev\n",
    "#         # print(delta)\n",
    "#         keep_eg = (delta >= -40)&(delta <= 100)&(resid_df['is_holdout'])\n",
    "#         delta_keep_eg = delta[keep_eg]\n",
    "#         rdf_tmp = resid_df_cutdown.loc[keep_eg].copy()\n",
    "#         rdf_tmp['delta'] = delta_keep_eg\n",
    "#         # rdf_tmp = rdf_tmp[~rdf_tmp['dupe']]\n",
    "#         # display(rdf_tmp)\n",
    "#         # display(list(rdf_tmp.columns))\n",
    "#         rdc.append(rdf_tmp.set_index('delta'))\n",
    "\n",
    "#     # rdc_df = pd.concat(rdc, axis=0)\n",
    "#     # display(rdc_df)\n",
    "#     # rdc_df = rdc_df[[true_col]]\n",
    "#     # delta_index.append(delta)\n",
    "#     # delta_val.append((bs.confidence_interval.low, mn_val, bs.confidence_interval.high))\n",
    "\n",
    "#     reconstruction_data_list = []\n",
    "\n",
    "#     seed = np.random.randint(1000000000)\n",
    "#     for bootstrap_col in [true_col] + pred_params_cols:\n",
    "#         rdc_lst = []\n",
    "#         for rdc_df in rdc:\n",
    "#             rdc_lst.append(rdc_df[[bootstrap_col]])\n",
    "#         rdc_df = pd.concat(rdc_lst, axis=1)\n",
    "\n",
    "#         for delta in rdc_df.index:\n",
    "#             row = rdc_df.loc[delta].dropna().values\n",
    "#             mn_val = row.mean()\n",
    "#             bs = scipy.stats.bootstrap((row,), np.mean, n_resamples=9999,\n",
    "#                                        batch=None, vectorized=True, paired=False,\n",
    "#                                        axis=0, confidence_level=0.95, method='BCa',\n",
    "#                                        random_state=seed)\n",
    "\n",
    "#             rtup = (bootstrap_col, delta, bs.confidence_interval.low, mn_val, bs.confidence_interval.high)\n",
    "#             reconstruction_data_list.append(rtup)\n",
    "#             print(reconstruction_data_list[-1])"
   ]
  },
  {
   "cell_type": "code",
   "execution_count": 8,
   "metadata": {
    "scrolled": true
   },
   "outputs": [
    {
     "name": "stdout",
     "output_type": "stream",
     "text": [
      "/dfrel_basis \n",
      "/gACH_0_0_base_simple_run_num__0 base_simple\n",
      "/gACH_0_8_base_words_run_num__0 base_words\n",
      "/dfrel_basis \n",
      "/rDA_1_0_base_simple_run_num__0 base_simple\n",
      "/rDA_1_8_base_words_run_num__0 base_words\n",
      "/dfrel_basis \n",
      "/gDA_2_0_base_simple_run_num__0 base_simple\n",
      "/gDA_2_8_base_words_run_num__0 base_words\n"
     ]
    }
   ],
   "source": [
    "h5_lst = defaultdict(list)\n",
    "run_id_dct = defaultdict(list)\n",
    "\n",
    "for h5_coef_fn in h5_recons_locations:\n",
    "    h5f = pd.HDFStore(h5_coef_fn)\n",
    "    h5fk = h5f.keys()\n",
    "    for key in h5fk:\n",
    "        \n",
    "        resp = key.split('_')[0].replace('/', '')\n",
    "        model_version = '_'.join(key.split('_')[3:]).split('_run_num')[0]\n",
    "        \n",
    "        if 'run_num' in key and 'run_num__0' not in key: #and 'run_num__1' not in key:\n",
    "            continue\n",
    "        if 'base_simple' not in key and 'base_words' not in key and 'basis' not in key:\n",
    "            continue\n",
    "        print(key, model_version)\n",
    "        \n",
    "        y_col = key.split('_')[0].replace(r'/', r'')\n",
    "        h5_df = pd.read_hdf(h5f, key)\n",
    "        \n",
    "        h5_df.columns = [dfh.shorten_col_name(_) for _ in h5_df.columns]\n",
    "        \n",
    "        if 'dfrel_basis' != key.replace('/', ''):\n",
    "            h5_df.columns = [_.split('_')[0] for _ in h5_df.columns]\n",
    "            h5_df['true'] = h5_lst['dfrel'][0][y_col]\n",
    "            h5_df['resid2'] = (h5_df['true'] - h5_df['pred'])**2\n",
    "\n",
    "            h5_df['file_num'] = h5_lst['dfrel'][0]['file_num']\n",
    "            \n",
    "            h5_df['dupe'] = h5_lst['dfrel'][0]['dupe']\n",
    "            h5_df['wi_trial_keep'] = h5_lst['dfrel'][0]['wi_trial_keep']\n",
    "            \n",
    "#             h5_df.columns = [_.split('_')[0] for _ in h5_df.columns]\n",
    "            h5_lst[y_col].append(h5_df)\n",
    "            run_id_dct[y_col].append(model_version)\n",
    "        else:\n",
    "            h5_lst[y_col].append(h5_df)\n",
    "            run_id_dct[y_col].append('basis')\n",
    "        \n",
    "# concat = pd.concat(h5_lst, axis=0)"
   ]
  },
  {
   "cell_type": "code",
   "execution_count": null,
   "metadata": {},
   "outputs": [],
   "source": []
  },
  {
   "cell_type": "code",
   "execution_count": null,
   "metadata": {},
   "outputs": [],
   "source": []
  },
  {
   "cell_type": "code",
   "execution_count": null,
   "metadata": {},
   "outputs": [],
   "source": []
  },
  {
   "cell_type": "code",
   "execution_count": null,
   "metadata": {},
   "outputs": [],
   "source": []
  },
  {
   "cell_type": "code",
   "execution_count": 15,
   "metadata": {
    "scrolled": false
   },
   "outputs": [
    {
     "name": "stdout",
     "output_type": "stream",
     "text": [
      "Pulling delta list\n"
     ]
    },
    {
     "data": {
      "application/vnd.jupyter.widget-view+json": {
       "model_id": "1dca4530f6284034bea52a15bd55247a",
       "version_major": 2,
       "version_minor": 0
      },
      "text/plain": [
       "  0%|          | 0/555 [00:00<?, ?it/s]"
      ]
     },
     "metadata": {},
     "output_type": "display_data"
    },
    {
     "name": "stdout",
     "output_type": "stream",
     "text": [
      "keys dict_keys(['true', 'pred'])\n",
      "Pulling delta list\n"
     ]
    },
    {
     "data": {
      "application/vnd.jupyter.widget-view+json": {
       "model_id": "07405ea4ac2b4b66906f981e94d3cf6a",
       "version_major": 2,
       "version_minor": 0
      },
      "text/plain": [
       "  0%|          | 0/159 [00:00<?, ?it/s]"
      ]
     },
     "metadata": {},
     "output_type": "display_data"
    },
    {
     "name": "stdout",
     "output_type": "stream",
     "text": [
      "keys dict_keys(['true', 'pred'])\n",
      "Pulling delta list\n"
     ]
    },
    {
     "data": {
      "application/vnd.jupyter.widget-view+json": {
       "model_id": "b455f64c001045fda0c372ebc50e80af",
       "version_major": 2,
       "version_minor": 0
      },
      "text/plain": [
       "  0%|          | 0/99 [00:00<?, ?it/s]"
      ]
     },
     "metadata": {},
     "output_type": "display_data"
    },
    {
     "name": "stdout",
     "output_type": "stream",
     "text": [
      "keys dict_keys(['true', 'pred'])\n",
      "Pulling delta list\n"
     ]
    },
    {
     "data": {
      "application/vnd.jupyter.widget-view+json": {
       "model_id": "e47de1692682479ea79a7b747b1edfad",
       "version_major": 2,
       "version_minor": 0
      },
      "text/plain": [
       "  0%|          | 0/96 [00:00<?, ?it/s]"
      ]
     },
     "metadata": {},
     "output_type": "display_data"
    },
    {
     "name": "stdout",
     "output_type": "stream",
     "text": [
      "keys dict_keys(['true', 'pred'])\n",
      "Pulling delta list\n"
     ]
    },
    {
     "data": {
      "application/vnd.jupyter.widget-view+json": {
       "model_id": "309689d8cae7416dab58c453f87e02e5",
       "version_major": 2,
       "version_minor": 0
      },
      "text/plain": [
       "  0%|          | 0/14 [00:00<?, ?it/s]"
      ]
     },
     "metadata": {},
     "output_type": "display_data"
    },
    {
     "name": "stdout",
     "output_type": "stream",
     "text": [
      "keys dict_keys(['true', 'pred'])\n",
      "Pulling delta list\n"
     ]
    },
    {
     "data": {
      "application/vnd.jupyter.widget-view+json": {
       "model_id": "52a23d27fc6b416688913e066c391081",
       "version_major": 2,
       "version_minor": 0
      },
      "text/plain": [
       "  0%|          | 0/35 [00:00<?, ?it/s]"
      ]
     },
     "metadata": {},
     "output_type": "display_data"
    },
    {
     "name": "stdout",
     "output_type": "stream",
     "text": [
      "keys dict_keys(['true', 'pred'])\n",
      "Pulling delta list\n"
     ]
    },
    {
     "data": {
      "application/vnd.jupyter.widget-view+json": {
       "model_id": "f376fe0904cf4ed9bcf8b1f0f8b7c5c3",
       "version_major": 2,
       "version_minor": 0
      },
      "text/plain": [
       "  0%|          | 0/95 [00:00<?, ?it/s]"
      ]
     },
     "metadata": {},
     "output_type": "display_data"
    },
    {
     "name": "stdout",
     "output_type": "stream",
     "text": [
      "keys dict_keys(['true', 'pred'])\n",
      "Pulling delta list\n"
     ]
    },
    {
     "data": {
      "application/vnd.jupyter.widget-view+json": {
       "model_id": "259d965a795649989ddc048729b860ca",
       "version_major": 2,
       "version_minor": 0
      },
      "text/plain": [
       "  0%|          | 0/68 [00:00<?, ?it/s]"
      ]
     },
     "metadata": {},
     "output_type": "display_data"
    },
    {
     "name": "stdout",
     "output_type": "stream",
     "text": [
      "keys dict_keys(['true', 'pred'])\n",
      "Pulling delta list\n"
     ]
    },
    {
     "data": {
      "application/vnd.jupyter.widget-view+json": {
       "model_id": "8f824855e277424b920e1dadd1fa075c",
       "version_major": 2,
       "version_minor": 0
      },
      "text/plain": [
       "  0%|          | 0/763 [00:00<?, ?it/s]"
      ]
     },
     "metadata": {},
     "output_type": "display_data"
    },
    {
     "name": "stdout",
     "output_type": "stream",
     "text": [
      "keys dict_keys(['true', 'pred'])\n",
      "Pulling delta list\n"
     ]
    },
    {
     "data": {
      "application/vnd.jupyter.widget-view+json": {
       "model_id": "15ed480f5ac740259ea2f70bd7f6d949",
       "version_major": 2,
       "version_minor": 0
      },
      "text/plain": [
       "  0%|          | 0/358 [00:00<?, ?it/s]"
      ]
     },
     "metadata": {},
     "output_type": "display_data"
    },
    {
     "name": "stdout",
     "output_type": "stream",
     "text": [
      "keys dict_keys(['true', 'pred'])\n"
     ]
    },
    {
     "data": {
      "image/png": "[encoded data removed]",
      "text/plain": [
       "<Figure size 720x2160 with 10 Axes>"
      ]
     },
     "metadata": {
      "needs_background": "light"
     },
     "output_type": "display_data"
    }
   ],
   "source": [
    "all_alignment_cols = [\n",
    "                        'SIAA', 'SIAa', 'SIaA', 'SIaa',\n",
    "                        'SIAB', 'SIAb', 'SIaB', 'SIab',\n",
    "                        'SIr', 'SInr', \n",
    "                     ]\n",
    "i = 2\n",
    "\n",
    "for i in range(2):\n",
    "    for y_col in ['gACH', 'rDA', 'gDA']:\n",
    "        fig,axes = plt.subplots(5,2,figsize=(10,30))\n",
    "        \n",
    "#         combo_rdc_by_ac = {}\n",
    "        combo_rdc = {}\n",
    "        for iac, alignment_col in enumerate(all_alignment_cols):\n",
    "            ic, ir = iac%2, iac//2\n",
    "            ax = axes[ir, ic]\n",
    "            # keep_rows, assoc_deltas = get_delta_list(h5_lst[0][alignment_col], alignment_col, ((h5_lst[i]['holdout']==0)*0+1).astype(bool))\n",
    "#             keep_rows, assoc_deltas = get_delta_list(h5_lst['dfrel'][0][alignment_col], alignment_col, (h5_lst[y_col][i]['holdout']==1).astype(bool))\n",
    "            \n",
    "            dupe = h5_lst['dfrel'][0]['dupe']\n",
    "            dfrel_basis = h5_lst['dfrel'][0].loc[~dupe].iloc[:100000]\n",
    "            dfrel_basis_run = h5_lst[y_col][i].loc[~dupe].iloc[:100000]\n",
    "            \n",
    "            model_version = run_id_dct[y_col][i]\n",
    "            \n",
    "            print('Pulling delta list')\n",
    "            keep_rows, assoc_deltas = get_delta_list(dfrel_basis[alignment_col], alignment_col, ((dfrel_basis_run['holdout']==1)).astype(bool))\n",
    "            rdc_lst = defaultdict(list)\n",
    "            for entry_num in trange(len(keep_rows)):\n",
    "                keep_row_single = keep_rows[entry_num]\n",
    "                deltas = assoc_deltas[entry_num]\n",
    "                rdc_df = dfrel_basis_run.loc[keep_row_single].set_index(deltas)\n",
    "                \n",
    "#                 print('file_num', rdc_df['file_num'].nunique())\n",
    "                if rdc_df['file_num'].nunique() > 1:\n",
    "                    continue\n",
    "                    \n",
    "                reconstruction_data_list = []\n",
    "\n",
    "                for bootstrap_col in ['true', 'pred']:\n",
    "                    rdc_lst[bootstrap_col].append(rdc_df[[bootstrap_col]])\n",
    "\n",
    "            print('keys', rdc_lst.keys())\n",
    "\n",
    "#             combo_rdc = {}\n",
    "            seed = np.random.randint(1000000000)\n",
    "            for bootstrap_col in (rdc_lst):\n",
    "                tmp_rdc = pd.concat(rdc_lst[bootstrap_col], axis=1).sort_index()\n",
    "\n",
    "                reconstruction_data_list = []\n",
    "                for delta in (tmp_rdc.index):\n",
    "                    row = tmp_rdc.loc[delta].dropna().values\n",
    "                    bs = scipy.stats.bootstrap((row,), np.mean, n_resamples=9999,\n",
    "#                     bs = scipy.stats.bootstrap((row,), np.mean, n_resamples=1000,\n",
    "                                               batch=None, vectorized=True, paired=False,\n",
    "                                               axis=0, confidence_level=0.95, method='BCa',\n",
    "                                               random_state=seed)\n",
    "\n",
    "                    mn_val = row.mean()\n",
    "                    rtup = (bootstrap_col, delta, bs.confidence_interval.low, mn_val, bs.confidence_interval.high)\n",
    "\n",
    "                    reconstruction_data_list.append(rtup)\n",
    "\n",
    "                tmp_combo_rdc = pd.DataFrame(reconstruction_data_list, columns=['basis_column', 'delta', 'lb', 'mn', 'ub']).set_index('delta')\n",
    "                combo_rdc[f'{alignment_col}_{bootstrap_col}'] = tmp_combo_rdc.drop('basis_column',axis=1)\n",
    "\n",
    "#                 # if bootstrap_col == 'true':\n",
    "#                 ax.plot(tmp_combo_rdc.index, tmp_combo_rdc['mean'], label=f'{bootstrap_col}')#, color='b')\n",
    "#                 ax.fill_between(tmp_combo_rdc.index, tmp_combo_rdc['boot_lower_bound'], tmp_combo_rdc['boot_upper_bound'], alpha=0.1, label=f'{bootstrap_col} - CI')#, color='b')\n",
    "#                 ax.grid(True)\n",
    "#                 ax.legend()\n",
    "                \n",
    "#                 print('save_file --', f'{load_folder.parts[-1]}-reconstruct-{y_col}={model_version}-{alignment_col}')\n",
    "#                 combo_rdc[bootstrap_col].to_csv(str((Path(out_loc) / f'{load_folder.parts[-1]}-reconstruct-{y_col}={model_version}-{alignment_col}-{bootstrap_col}.csv').resolve()))\n",
    "            \n",
    "#             combo_rdc_w_tp = pd.concat(combo_rdc, axis=1)\n",
    "#             combo_rdc_w_tp.columns = ['_'.join(_) for _ in combo_rdc_w_tp.columns]\n",
    "            \n",
    "        \n",
    "        combo_rdc = pd.concat(combo_rdc, axis=1)\n",
    "        combo_rdc.columns = ['_'.join(_).replace('_true_', '_T_').replace('_pred_', '_P_') for _ in combo_rdc.columns]\n",
    "        combo_rdc.to_csv(str((Path(out_loc) / f'{load_folder.parts[-1]}-reconstruct-{y_col}={model_version}.csv').resolve()))\n",
    "        \n",
    "        break\n",
    "    break\n",
    "                \n",
    "                \n",
    "                \n",
    "#             # plt.suptitle(alignment_col)\n",
    "#             ax.set_title(alignment_col)\n",
    "#         plt.suptitle(y_col)\n",
    "#     plt.show()"
   ]
  },
  {
   "cell_type": "code",
   "execution_count": 19,
   "metadata": {},
   "outputs": [
    {
     "data": {
      "text/plain": [
       "<AxesSubplot:xlabel='delta'>"
      ]
     },
     "execution_count": 19,
     "metadata": {},
     "output_type": "execute_result"
    },
    {
     "data": {
      "image/png": "[encoded data removed]",
      "text/plain": [
       "<Figure size 432x288 with 1 Axes>"
      ]
     },
     "metadata": {
      "needs_background": "light"
     },
     "output_type": "display_data"
    }
   ],
   "source": [
    "combo_rdc[[_ for _ in combo_rdc.columns if '_mn' in _]].plot()"
   ]
  },
  {
   "cell_type": "code",
   "execution_count": 17,
   "metadata": {},
   "outputs": [
    {
     "data": {
      "text/plain": [
       "('gACH', 'base_simple')"
      ]
     },
     "execution_count": 17,
     "metadata": {},
     "output_type": "execute_result"
    }
   ],
   "source": [
    "y_col, model_version"
   ]
  },
  {
   "cell_type": "code",
   "execution_count": null,
   "metadata": {},
   "outputs": [],
   "source": [
    "# run_id_dct[y_col]"
   ]
  },
  {
   "cell_type": "code",
   "execution_count": null,
   "metadata": {},
   "outputs": [],
   "source": []
  },
  {
   "cell_type": "code",
   "execution_count": null,
   "metadata": {},
   "outputs": [],
   "source": []
  },
  {
   "cell_type": "code",
   "execution_count": null,
   "metadata": {},
   "outputs": [],
   "source": []
  }
 ],
 "metadata": {
  "kernelspec": {
   "display_name": "Python 3 (ipykernel)",
   "language": "python",
   "name": "python3"
  },
  "language_info": {
   "codemirror_mode": {
    "name": "ipython",
    "version": 3
   },
   "file_extension": ".py",
   "mimetype": "text/x-python",
   "name": "python",
   "nbconvert_exporter": "python",
   "pygments_lexer": "ipython3",
   "version": "3.10.4"
  },
  "vscode": {
   "interpreter": {
    "hash": "fa0fc083a9a7b25dab36cbe71fb89b2f1907d4eced1698b208dea6977346b521"
   }
  }
 },
 "nbformat": 4,
 "nbformat_minor": 2
}
