{
 "cells": [
  {
   "cell_type": "code",
   "execution_count": 1,
   "metadata": {},
   "outputs": [
    {
     "data": {
      "text/html": [
       "<style>.container { width:95% !important; }</style>"
      ],
      "text/plain": [
       "<IPython.core.display.HTML object>"
      ]
     },
     "metadata": {},
     "output_type": "display_data"
    }
   ],
   "source": [
    "from IPython.display import display, HTML\n",
    "display(HTML(\"<style>.container { width:95% !important; }</style>\"))"
   ]
  },
  {
   "cell_type": "code",
   "execution_count": 2,
   "metadata": {},
   "outputs": [],
   "source": [
    "%load_ext autoreload\n",
    "%autoreload 2"
   ]
  },
  {
   "cell_type": "code",
   "execution_count": 3,
   "metadata": {},
   "outputs": [],
   "source": [
    "import glob\n",
    "import pandas as pd\n",
    "import numpy as np\n",
    "from sglm.helpers import filehelpers as fh, dfhelpers as dfh\n",
    "from pathlib import Path\n",
    "from collections import defaultdict\n",
    "from tqdm.notebook import tqdm, trange\n",
    "import scipy.stats\n",
    "import matplotlib.pyplot as plt\n"
   ]
  },
  {
   "cell_type": "code",
   "execution_count": null,
   "metadata": {},
   "outputs": [],
   "source": []
  },
  {
   "cell_type": "code",
   "execution_count": 4,
   "metadata": {},
   "outputs": [],
   "source": [
    "base_keys = list({\n",
    "                'gACH':(0,0),\n",
    "                'rDA':(0,0),\n",
    "                'gDA':(0,0),\n",
    "                'photometrySideInIndexr':(0,0),\n",
    "                'photometrySideInIndexnr':(0,0),\n",
    "                'photometrySideInIndexAA':(0,0),\n",
    "                'photometrySideInIndexAa':(0,0),\n",
    "                'photometrySideInIndexaA':(0,0),\n",
    "                'photometrySideInIndexaa':(0,0),\n",
    "                'photometrySideInIndexAB':(0,0),\n",
    "                'photometrySideInIndexAb':(0,0),\n",
    "                'photometrySideInIndexaB':(0,0),\n",
    "                'photometrySideInIndexab':(0,0),\n",
    "                }.keys())\n",
    "shortened_keys = [dfh.shorten_col_name(_) for _ in base_keys]\n",
    "\n",
    "all_alignment_cols = [\n",
    "                        'SIAA', 'SIAa', 'SIaA', 'SIaa',\n",
    "                        'SIAB', 'SIAb', 'SIaB', 'SIab',\n",
    "                        'SIr', 'SInr', \n",
    "                     ]\n",
    "# base_keys"
   ]
  },
  {
   "cell_type": "code",
   "execution_count": 5,
   "metadata": {},
   "outputs": [],
   "source": [
    "def get_delta_list(event_srs, event_col, keep_srs):\n",
    "    \n",
    "    keep_eg_lst = []\n",
    "    delta_keep_eg_lst = []\n",
    "\n",
    "    rdc = []\n",
    "    entry_num = np.arange(len(event_srs))\n",
    "    event = np.where(event_srs.values == 1)\n",
    "    assert len(event) == 1\n",
    "    event = event[0]\n",
    "    \n",
    "    for iev, ev in enumerate(event):\n",
    "        delta = entry_num - ev\n",
    "        keep_eg = (delta >= -40)&(delta <= 100)&keep_srs\n",
    "        delta_keep_eg = delta[keep_eg]\n",
    "        keep_eg_lst.append(keep_eg)\n",
    "        delta_keep_eg_lst.append(delta_keep_eg)\n",
    "\n",
    "    return keep_eg_lst, delta_keep_eg_lst\n",
    "\n",
    "# full_df = h5_lst[0]\n"
   ]
  },
  {
   "cell_type": "code",
   "execution_count": null,
   "metadata": {
    "scrolled": true
   },
   "outputs": [],
   "source": []
  },
  {
   "cell_type": "code",
   "execution_count": null,
   "metadata": {},
   "outputs": [],
   "source": []
  },
  {
   "cell_type": "code",
   "execution_count": null,
   "metadata": {},
   "outputs": [],
   "source": []
  },
  {
   "cell_type": "code",
   "execution_count": null,
   "metadata": {},
   "outputs": [],
   "source": []
  },
  {
   "cell_type": "code",
   "execution_count": null,
   "metadata": {},
   "outputs": [],
   "source": []
  },
  {
   "cell_type": "code",
   "execution_count": 11,
   "metadata": {
    "scrolled": false
   },
   "outputs": [
    {
     "name": "stdout",
     "output_type": "stream",
     "text": [
      "fig_folder ('Figure_7_g1--20_20sft', '*')\n",
      "gDAc_0_0_base_simple_max_iter10000__fit_interceptFalse__alpha0____0__l1_ratio0____0_run_num__0 SIAA\n",
      "0_base_simple_max_iter10000__fit_interceptFalse__alpha0____0__l1_ratio0____0\n",
      "Pulling delta list\n"
     ]
    },
    {
     "data": {
      "application/vnd.jupyter.widget-view+json": {
       "model_id": "b6080030a0294ed2adb8238ab08a5fdb",
       "version_major": 2,
       "version_minor": 0
      },
      "text/plain": [
       "  0%|          | 0/1282 [00:00<?, ?it/s]"
      ]
     },
     "metadata": {},
     "output_type": "display_data"
    },
    {
     "name": "stdout",
     "output_type": "stream",
     "text": [
      "keys dict_keys(['true', 'pred'])\n",
      "gDAc_0_0_base_simple_max_iter10000__fit_interceptFalse__alpha0____0__l1_ratio0____0_run_num__0 SIAa\n",
      "0_base_simple_max_iter10000__fit_interceptFalse__alpha0____0__l1_ratio0____0\n",
      "Pulling delta list\n"
     ]
    },
    {
     "data": {
      "application/vnd.jupyter.widget-view+json": {
       "model_id": "d08bb495d68c47d590db90c643b09af1",
       "version_major": 2,
       "version_minor": 0
      },
      "text/plain": [
       "  0%|          | 0/237 [00:00<?, ?it/s]"
      ]
     },
     "metadata": {},
     "output_type": "display_data"
    },
    {
     "name": "stdout",
     "output_type": "stream",
     "text": [
      "keys dict_keys(['true', 'pred'])\n",
      "gDAc_0_0_base_simple_max_iter10000__fit_interceptFalse__alpha0____0__l1_ratio0____0_run_num__0 SIaA\n",
      "0_base_simple_max_iter10000__fit_interceptFalse__alpha0____0__l1_ratio0____0\n",
      "Pulling delta list\n"
     ]
    },
    {
     "data": {
      "application/vnd.jupyter.widget-view+json": {
       "model_id": "04797322a91a44a8a6e7a2c81f415643",
       "version_major": 2,
       "version_minor": 0
      },
      "text/plain": [
       "  0%|          | 0/130 [00:00<?, ?it/s]"
      ]
     },
     "metadata": {},
     "output_type": "display_data"
    },
    {
     "name": "stdout",
     "output_type": "stream",
     "text": [
      "keys dict_keys(['true', 'pred'])\n",
      "gDAc_0_0_base_simple_max_iter10000__fit_interceptFalse__alpha0____0__l1_ratio0____0_run_num__0 SIaa\n",
      "0_base_simple_max_iter10000__fit_interceptFalse__alpha0____0__l1_ratio0____0\n",
      "Pulling delta list\n"
     ]
    },
    {
     "data": {
      "application/vnd.jupyter.widget-view+json": {
       "model_id": "d32dfcc554ce4bd6be02043c90ada8dd",
       "version_major": 2,
       "version_minor": 0
      },
      "text/plain": [
       "  0%|          | 0/270 [00:00<?, ?it/s]"
      ]
     },
     "metadata": {},
     "output_type": "display_data"
    },
    {
     "name": "stdout",
     "output_type": "stream",
     "text": [
      "keys dict_keys(['true', 'pred'])\n",
      "gDAc_0_0_base_simple_max_iter10000__fit_interceptFalse__alpha0____0__l1_ratio0____0_run_num__0 SIAB\n",
      "0_base_simple_max_iter10000__fit_interceptFalse__alpha0____0__l1_ratio0____0\n",
      "Pulling delta list\n"
     ]
    },
    {
     "data": {
      "application/vnd.jupyter.widget-view+json": {
       "model_id": "bacd9969dbd140779a12981ba62f5fff",
       "version_major": 2,
       "version_minor": 0
      },
      "text/plain": [
       "  0%|          | 0/24 [00:00<?, ?it/s]"
      ]
     },
     "metadata": {},
     "output_type": "display_data"
    },
    {
     "name": "stdout",
     "output_type": "stream",
     "text": [
      "keys dict_keys(['true', 'pred'])\n",
      "Warning: Assuming std = 0... No variability found in bootstrap_col: pred -- [1.93785315 1.93785315 1.93785315 1.93785315 1.93785315 1.93785315\n",
      " 1.93785315 1.93785315 1.93785315 1.93785315 1.93785315 1.93785315\n",
      " 1.93785315 1.93785315]\n",
      "Warning: Assuming std = 0... No variability found in bootstrap_col: pred -- [1.73143541 1.73143541 1.73143541 1.73143541 1.73143541 1.73143541\n",
      " 1.73143541 1.73143541 1.73143541 1.73143541 1.73143541 1.73143541\n",
      " 1.73143541 1.73143541]\n",
      "Warning: Assuming std = 0... No variability found in bootstrap_col: pred -- [1.34562601 1.34562601 1.34562601 1.34562601 1.34562601 1.34562601\n",
      " 1.34562601 1.34562601 1.34562601 1.34562601 1.34562601 1.34562601\n",
      " 1.34562601 1.34562601]\n",
      "Warning: Assuming std = 0... No variability found in bootstrap_col: pred -- [0.97420414 0.97420414 0.97420414 0.97420414 0.97420414 0.97420414\n",
      " 0.97420414 0.97420414 0.97420414 0.97420414 0.97420414 0.97420414\n",
      " 0.97420414 0.97420414]\n",
      "Warning: Assuming std = 0... No variability found in bootstrap_col: pred -- [0.83482168 0.83482168 0.83482168 0.83482168 0.83482168 0.83482168\n",
      " 0.83482168 0.83482168 0.83482168 0.83482168 0.83482168 0.83482168\n",
      " 0.83482168 0.83482168]\n",
      "Warning: Assuming std = 0... No variability found in bootstrap_col: pred -- [0.7316707 0.7316707 0.7316707 0.7316707 0.7316707 0.7316707 0.7316707\n",
      " 0.7316707 0.7316707 0.7316707 0.7316707 0.7316707 0.7316707 0.7316707]\n",
      "Warning: Assuming std = 0... No variability found in bootstrap_col: pred -- [0.69677702 0.69677702 0.69677702 0.69677702 0.69677702 0.69677702\n",
      " 0.69677702 0.69677702 0.69677702 0.69677702 0.69677702 0.69677702\n",
      " 0.69677702 0.69677702]\n",
      "Warning: Assuming std = 0... No variability found in bootstrap_col: pred -- [0.50045363 0.50045363 0.50045363 0.50045363 0.50045363 0.50045363\n",
      " 0.50045363 0.50045363 0.50045363 0.50045363 0.50045363 0.50045363\n",
      " 0.50045363 0.50045363]\n",
      "Warning: Assuming std = 0... No variability found in bootstrap_col: pred -- [0.32669811 0.32669811 0.32669811 0.32669811 0.32669811 0.32669811\n",
      " 0.32669811 0.32669811 0.32669811 0.32669811 0.32669811 0.32669811\n",
      " 0.32669811 0.32669811]\n",
      "Warning: Assuming std = 0... No variability found in bootstrap_col: pred -- [0.14629912 0.14629912 0.14629912 0.14629912 0.14629912 0.14629912\n",
      " 0.14629912 0.14629912 0.14629912 0.14629912 0.14629912 0.14629912\n",
      " 0.14629912 0.14629912]\n",
      "Warning: Assuming std = 0... No variability found in bootstrap_col: pred -- [0.02096461 0.02096461 0.02096461 0.02096461 0.02096461 0.02096461\n",
      " 0.02096461 0.02096461 0.02096461 0.02096461 0.02096461 0.02096461\n",
      " 0.02096461 0.02096461]\n",
      "Warning: Assuming std = 0... No variability found in bootstrap_col: pred -- [-0.03000349 -0.03000349 -0.03000349 -0.03000349 -0.03000349 -0.03000349\n",
      " -0.03000349 -0.03000349 -0.03000349 -0.03000349 -0.03000349 -0.03000349\n",
      " -0.03000349 -0.03000349]\n",
      "gDAc_0_0_base_simple_max_iter10000__fit_interceptFalse__alpha0____0__l1_ratio0____0_run_num__0 SIAb\n",
      "0_base_simple_max_iter10000__fit_interceptFalse__alpha0____0__l1_ratio0____0\n",
      "Pulling delta list\n"
     ]
    },
    {
     "data": {
      "application/vnd.jupyter.widget-view+json": {
       "model_id": "da5992017eb5474ca2a68e0ff640879b",
       "version_major": 2,
       "version_minor": 0
      },
      "text/plain": [
       "  0%|          | 0/143 [00:00<?, ?it/s]"
      ]
     },
     "metadata": {},
     "output_type": "display_data"
    },
    {
     "name": "stdout",
     "output_type": "stream",
     "text": [
      "keys dict_keys(['true', 'pred'])\n",
      "gDAc_0_0_base_simple_max_iter10000__fit_interceptFalse__alpha0____0__l1_ratio0____0_run_num__0 SIaB\n",
      "0_base_simple_max_iter10000__fit_interceptFalse__alpha0____0__l1_ratio0____0\n",
      "Pulling delta list\n"
     ]
    },
    {
     "data": {
      "application/vnd.jupyter.widget-view+json": {
       "model_id": "1c3d003473564ba3af82be1a9824668e",
       "version_major": 2,
       "version_minor": 0
      },
      "text/plain": [
       "  0%|          | 0/250 [00:00<?, ?it/s]"
      ]
     },
     "metadata": {},
     "output_type": "display_data"
    },
    {
     "name": "stdout",
     "output_type": "stream",
     "text": [
      "keys dict_keys(['true', 'pred'])\n",
      "gDAc_0_0_base_simple_max_iter10000__fit_interceptFalse__alpha0____0__l1_ratio0____0_run_num__0 SIab\n",
      "0_base_simple_max_iter10000__fit_interceptFalse__alpha0____0__l1_ratio0____0\n",
      "Pulling delta list\n"
     ]
    },
    {
     "data": {
      "application/vnd.jupyter.widget-view+json": {
       "model_id": "11ba3f5b18134ba3a6b48715b8c307cf",
       "version_major": 2,
       "version_minor": 0
      },
      "text/plain": [
       "  0%|          | 0/96 [00:00<?, ?it/s]"
      ]
     },
     "metadata": {},
     "output_type": "display_data"
    },
    {
     "name": "stdout",
     "output_type": "stream",
     "text": [
      "keys dict_keys(['true', 'pred'])\n",
      "gDAc_0_0_base_simple_max_iter10000__fit_interceptFalse__alpha0____0__l1_ratio0____0_run_num__0 SIr\n",
      "0_base_simple_max_iter10000__fit_interceptFalse__alpha0____0__l1_ratio0____0\n",
      "Pulling delta list\n"
     ]
    },
    {
     "data": {
      "application/vnd.jupyter.widget-view+json": {
       "model_id": "c1868cda1e2d49c8816c90d97af9ea60",
       "version_major": 2,
       "version_minor": 0
      },
      "text/plain": [
       "  0%|          | 0/1686 [00:00<?, ?it/s]"
      ]
     },
     "metadata": {},
     "output_type": "display_data"
    },
    {
     "name": "stdout",
     "output_type": "stream",
     "text": [
      "keys dict_keys(['true', 'pred'])\n",
      "gDAc_0_0_base_simple_max_iter10000__fit_interceptFalse__alpha0____0__l1_ratio0____0_run_num__0 SInr\n",
      "0_base_simple_max_iter10000__fit_interceptFalse__alpha0____0__l1_ratio0____0\n",
      "Pulling delta list\n"
     ]
    },
    {
     "data": {
      "application/vnd.jupyter.widget-view+json": {
       "model_id": "56170feb8af24f8cb0eefef618a33434",
       "version_major": 2,
       "version_minor": 0
      },
      "text/plain": [
       "  0%|          | 0/746 [00:00<?, ?it/s]"
      ]
     },
     "metadata": {},
     "output_type": "display_data"
    },
    {
     "name": "stdout",
     "output_type": "stream",
     "text": [
      "keys dict_keys(['true', 'pred'])\n"
     ]
    }
   ],
   "source": [
    "# base_location = Path(r'/Users/josh/Documents/Harvard/GLM/sabatinilab-glm/sglm/outputs')\n",
    "base_location = Path(r'C:\\Users\\Josh\\Documents\\GitHub\\sabatinilab-glm\\sglm\\outputs-old')\n",
    "\n",
    "# fig_folder_lst = [('Figure_1_2', 'f1*-ft'),\n",
    "#                   ('Figure_3',   'f3*-ft'),\n",
    "#                   ('Figure_4_g1',   'f4*-ft'),\n",
    "#                   ('Figure_4_g2',   'f4*-ft'),\n",
    "#                   ('Figure_5_g1',   'f5*-ft'),\n",
    "#                   ('Figure_5_g2',   'f5*-ft'),\n",
    "#                   ('Figure_5_g5',   'f5*-ft'),\n",
    "#                  ]\n",
    "fig_folder_lst = [#('Figure_1_2', 'f1-n*-ft'),\n",
    "#                   ('Figure_1_2_g1--20_20sft', '*'),\n",
    "#                   ('Figure_3',   'f3*-ft'),\n",
    "#                   ('Figure_4_g1',   'f4*-ft'),\n",
    "#                   ('Figure_4_g2',   'f4*-ft'),\n",
    "#                   ('Figure_5_g1',   'f5*-ft'),\n",
    "#                   ('Figure_5_g2',   'f5*-ft'),\n",
    "#                   ('Figure_5_g5',   'f5*-ft'),\n",
    "                  ('Figure_7_g1--20_20sft', '*'),\n",
    "                 ]\n",
    "\n",
    "for fig_folder in fig_folder_lst:\n",
    "    print('fig_folder', fig_folder)\n",
    "    \n",
    "    load_folder = base_location / Path(fig_folder[0])\n",
    "    # load_folder = base_location / Path(r'tmp')\n",
    "    h5_recons_locations = str((load_folder / Path('all') / Path(fig_folder[1]) / Path(r'reconstructs\\best_resids_*.h5')).resolve())\n",
    "    \n",
    "#     print(h5_recons_locations)\n",
    "    \n",
    "#     load_folder = base_location / Path(r'Figure_1_2')\n",
    "#     # load_folder = base_location / Path(r'tmp')\n",
    "#     h5_recons_locations = str((load_folder / Path(r'all\\f1*-ft\\reconstructs\\best_resids_*.h5')).resolve())\n",
    "#     # h5_recons_locations = str((load_folder / Path(r'all/f1*-ft/reconstructs/best_resids_*.h5')).resolve())\n",
    "#     # load_folder = base_location / Path(r'Figure_3')\n",
    "#     # h5_beta_locations = str((load_folder / Path(r'all\\f3*-ft\\reconstructs\\best_resids_*.h5')).resolve())\n",
    "#     # load_folder = base_location / Path(r'Figure_4_g1')\n",
    "#     # h5_beta_locations = str((load_folder / Path(r'all\\f4*-ft\\reconstructs\\best_resids_*.h5')).resolve())\n",
    "#     # load_folder = base_location / Path(r'Figure_4_g2')\n",
    "#     # h5_beta_locations = str((load_folder / Path(r'all\\f4*-ft\\reconstructs\\best_resids_*.h5')).resolve())\n",
    "#     # load_folder = base_location / Path(r'Figure_5_g1')\n",
    "#     # h5_beta_locations = str((load_folder / Path(r'all\\f5*-ft\\reconstructs\\best_resids_*.h5')).resolve())\n",
    "#     # load_folder = base_location / Path(r'Figure_5_g2')\n",
    "#     # h5_beta_locations = str((load_folder / Path(r'all\\f5*-ft\\coefs\\*_best_coeffs.h5')).resolve())\n",
    "#     # load_folder = base_location / Path(r'Figure_5_g5')\n",
    "#     # h5_beta_locations = str((load_folder / Path(r'all\\f5*-ft\\coefs\\*_best_coeffs.h5')).resolve())\n",
    "\n",
    "    out_folder = base_location / Path(r'final_outputs-old-msesplt')\n",
    "\n",
    "    out_loc = str((out_folder).resolve())\n",
    "    h5_recons_locations = glob.glob(h5_recons_locations)\n",
    "\n",
    "    fh.create_folder_if_not_exists(out_loc)\n",
    "    \n",
    "    h5_lst = defaultdict(dict)\n",
    "#     run_id_dct = defaultdict(dict)\n",
    "\n",
    "\n",
    "    for ih5, h5_coef_fn in enumerate(h5_recons_locations):\n",
    "        h5f = pd.HDFStore(h5_coef_fn)\n",
    "        h5fk = h5f.keys()\n",
    "        for ik, key in enumerate(h5fk):\n",
    "            key = key.replace('/', '')\n",
    "            resp = key.split('_')[0]\n",
    "            model_version = '_'.join(key.split('_')[3:]).split('_run_num')[0]\n",
    "            \n",
    "\n",
    "            if 'run_num' in key and 'run_num__0' not in key: #and 'run_num__1' not in key:\n",
    "                continue\n",
    "            if 'base_simple' not in model_version and 'base_words' not in model_version and '_to_' not in model_version and 'basis' not in key:\n",
    "                continue\n",
    "            \n",
    "#             print('model_version', model_version)\n",
    "            \n",
    "#             print(key, model_version)\n",
    "#             print(f'ih5, ik, model_version, key, h5_coef_fn - {ih5}, {ik}, {model_version}, {key}, {h5_coef_fn}')\n",
    "\n",
    "            y_col = key.split('_')[0].replace(r'/', r'')\n",
    "            \n",
    "            h5_df = pd.read_hdf(h5f, key)\n",
    "\n",
    "            h5_df.columns = [dfh.shorten_col_name(_) for _ in h5_df.columns]\n",
    "\n",
    "            if 'dfrel_basis' != key.replace('/', ''):\n",
    "                h5_df.columns = [_.split('_')[0] for _ in h5_df.columns]\n",
    "                h5_df['true'] = h5_lst[ih5]['dfrel'][y_col]\n",
    "\n",
    "                h5_df['file_num'] = h5_lst[ih5]['dfrel']['file_num']\n",
    "\n",
    "                h5_df['dupe'] = h5_lst[ih5]['dfrel']['dupe']\n",
    "                h5_df['wi_trial_keep'] = h5_lst[ih5]['dfrel']['wi_trial_keep']\n",
    "\n",
    "                h5_lst[ih5][key] = h5_df\n",
    "            else:\n",
    "                h5_lst[ih5]['dfrel'] = h5_df\n",
    "\n",
    "#     for k in h5_lst:\n",
    "#         for kk in h5_lst[k]:\n",
    "#             print(k, kk)\n",
    "\n",
    "\n",
    "\n",
    "    for ih5 in h5_lst:\n",
    "#     for y_col in ['gACH', 'rDA', 'gDA']:\n",
    "#             fig,axes = plt.subplots(5,2,figsize=(10,30))\n",
    "\n",
    "        for key in h5_lst[ih5]:\n",
    "#         for y_col in ['gACH', 'rDA', 'gDA']:\n",
    "#         for ih5 in h5_lst:\n",
    "            if key == 'dfrel':\n",
    "                continue\n",
    "            \n",
    "            mse_ac = {}\n",
    "            combo_rdc = {}\n",
    "            for iac, alignment_col in enumerate(all_alignment_cols):\n",
    "    #                 ic, ir = iac%2, iac//2\n",
    "    #                 ax = axes[ir, ic]\n",
    "\n",
    "                \n",
    "                resp = key.split('_')[0].replace('/', '')\n",
    "                model_version = '_'.join(key.split('_')[2:]).split('_run_num')[0]\n",
    "                model_version = model_version.replace('5_base_words_gDA_to_gACH', '5_base_words_rDA_to_gACH')\n",
    "                print(key, alignment_col)\n",
    "                print(model_version)\n",
    "#                 break\n",
    "#             break\n",
    "#         break\n",
    "#     break\n",
    "                y_col = key.split('_')[0].replace(r'/', r'')\n",
    "                \n",
    "                dupe = h5_lst[ih5]['dfrel']['dupe']\n",
    "                dfrel_basis = h5_lst[ih5]['dfrel'].loc[~dupe]\n",
    "                dfrel_basis_run = h5_lst[ih5][key].loc[~dupe]\n",
    "\n",
    "                print('Pulling delta list')\n",
    "                keep_rows, assoc_deltas = get_delta_list(dfrel_basis[alignment_col], alignment_col, ((dfrel_basis_run['holdout']==1)).astype(bool))\n",
    "                rdc_lst = defaultdict(list)\n",
    "                for entry_num in trange(len(keep_rows)):\n",
    "                    keep_row_single = keep_rows[entry_num]\n",
    "                    deltas = assoc_deltas[entry_num]\n",
    "                    rdc_df = dfrel_basis_run.loc[keep_row_single].set_index(deltas)\n",
    "\n",
    "                    if rdc_df['file_num'].nunique() > 1:\n",
    "                        continue\n",
    "\n",
    "                    reconstruction_data_list = []\n",
    "\n",
    "                    for bootstrap_col in ['true', 'pred']:\n",
    "                        rdc_lst[bootstrap_col].append(rdc_df[[bootstrap_col]])\n",
    "\n",
    "                print('keys', rdc_lst.keys())\n",
    "                \n",
    "                \n",
    "                \n",
    "                t, p = pd.concat(rdc_lst['true'], axis=1).sort_index(), pd.concat(rdc_lst['pred'], axis=1).sort_index()\n",
    "                dffsq = np.square(t.values - p.values)\n",
    "                mse_ac[alignment_col] = np.sum(dffsq[np.where(~np.isnan(dffsq))])/np.sum(~np.isnan(dffsq))\n",
    "                \n",
    "                \n",
    "                \n",
    "\n",
    "                seed = np.random.randint(1000000000)\n",
    "                for bootstrap_col in (rdc_lst):\n",
    "                    tmp_rdc = pd.concat(rdc_lst[bootstrap_col], axis=1).sort_index()\n",
    "\n",
    "                    reconstruction_data_list = []\n",
    "                    for delta in (tmp_rdc.index):\n",
    "                        row = tmp_rdc.loc[delta].dropna().values\n",
    "                        mn_val = row.mean()\n",
    "                        if np.std(row) < 1e-9:\n",
    "                            print(f'Warning: Assuming std = 0... No variability found in bootstrap_col: {bootstrap_col} -- {row}')\n",
    "                            rtup = (bootstrap_col, delta, mn_val, mn_val, mn_val)\n",
    "                        else:\n",
    "                            bs = scipy.stats.bootstrap((row,), np.mean, n_resamples=9999,\n",
    "        #                     bs = scipy.stats.bootstrap((row,), np.mean, n_resamples=1000,\n",
    "                                                       batch=None, vectorized=True, paired=False,\n",
    "                                                       axis=0, confidence_level=0.95, method='BCa',\n",
    "                                                       random_state=seed)\n",
    "                            rtup = (bootstrap_col, delta, bs.confidence_interval.low, mn_val, bs.confidence_interval.high)\n",
    "\n",
    "                        reconstruction_data_list.append(rtup)\n",
    "\n",
    "                    tmp_combo_rdc = pd.DataFrame(reconstruction_data_list, columns=['basis_column', 'delta', 'lb', 'mn', 'ub']).set_index('delta')\n",
    "                    combo_rdc[f'{alignment_col}_{bootstrap_col}'] = tmp_combo_rdc.drop('basis_column',axis=1)\n",
    "            \n",
    "            combo_rdc = pd.concat(combo_rdc, axis=1)\n",
    "            combo_rdc.columns = ['_'.join(_).replace('_true_', '_T_').replace('_pred_', '_P_') for _ in combo_rdc.columns]\n",
    "            combo_rdc.to_csv(str((Path(out_loc) / f'{load_folder.parts[-1]}-reconstruct-{y_col}={model_version}.csv').resolve()))\n",
    "            \n",
    "            import json\n",
    "            with open(str((Path(out_loc) / f'{load_folder.parts[-1]}-mse_seg-{y_col}={model_version}.json').resolve()), 'w') as f:\n",
    "                json.dump(mse_ac, f)"
   ]
  },
  {
   "cell_type": "code",
   "execution_count": null,
   "metadata": {},
   "outputs": [],
   "source": []
  },
  {
   "cell_type": "code",
   "execution_count": null,
   "metadata": {},
   "outputs": [],
   "source": []
  },
  {
   "cell_type": "code",
   "execution_count": 12,
   "metadata": {},
   "outputs": [
    {
     "ename": "SyntaxError",
     "evalue": "'break' outside loop (668683560.py, line 1)",
     "output_type": "error",
     "traceback": [
      "\u001b[1;36m  Input \u001b[1;32mIn [12]\u001b[1;36m\u001b[0m\n\u001b[1;33m    break\u001b[0m\n\u001b[1;37m    ^\u001b[0m\n\u001b[1;31mSyntaxError\u001b[0m\u001b[1;31m:\u001b[0m 'break' outside loop\n"
     ]
    }
   ],
   "source": [
    "break"
   ]
  },
  {
   "cell_type": "code",
   "execution_count": null,
   "metadata": {},
   "outputs": [],
   "source": []
  },
  {
   "cell_type": "code",
   "execution_count": null,
   "metadata": {},
   "outputs": [],
   "source": []
  },
  {
   "cell_type": "code",
   "execution_count": null,
   "metadata": {},
   "outputs": [],
   "source": []
  },
  {
   "cell_type": "code",
   "execution_count": null,
   "metadata": {},
   "outputs": [],
   "source": []
  },
  {
   "cell_type": "code",
   "execution_count": null,
   "metadata": {},
   "outputs": [],
   "source": []
  },
  {
   "cell_type": "code",
   "execution_count": 13,
   "metadata": {},
   "outputs": [
    {
     "data": {
      "text/html": [
       "<div>\n",
       "<style scoped>\n",
       "    .dataframe tbody tr th:only-of-type {\n",
       "        vertical-align: middle;\n",
       "    }\n",
       "\n",
       "    .dataframe tbody tr th {\n",
       "        vertical-align: top;\n",
       "    }\n",
       "\n",
       "    .dataframe thead th {\n",
       "        text-align: right;\n",
       "    }\n",
       "</style>\n",
       "<table border=\"1\" class=\"dataframe\">\n",
       "  <thead>\n",
       "    <tr style=\"text-align: right;\">\n",
       "      <th></th>\n",
       "      <th>SIAA_T_lb</th>\n",
       "      <th>SIAA_T_mn</th>\n",
       "      <th>SIAA_T_ub</th>\n",
       "      <th>SIAA_P_lb</th>\n",
       "      <th>SIAA_P_mn</th>\n",
       "      <th>SIAA_P_ub</th>\n",
       "      <th>SIAa_T_lb</th>\n",
       "      <th>SIAa_T_mn</th>\n",
       "      <th>SIAa_T_ub</th>\n",
       "      <th>SIAa_P_lb</th>\n",
       "      <th>...</th>\n",
       "      <th>SIr_T_ub</th>\n",
       "      <th>SIr_P_lb</th>\n",
       "      <th>SIr_P_mn</th>\n",
       "      <th>SIr_P_ub</th>\n",
       "      <th>SInr_T_lb</th>\n",
       "      <th>SInr_T_mn</th>\n",
       "      <th>SInr_T_ub</th>\n",
       "      <th>SInr_P_lb</th>\n",
       "      <th>SInr_P_mn</th>\n",
       "      <th>SInr_P_ub</th>\n",
       "    </tr>\n",
       "    <tr>\n",
       "      <th>delta</th>\n",
       "      <th></th>\n",
       "      <th></th>\n",
       "      <th></th>\n",
       "      <th></th>\n",
       "      <th></th>\n",
       "      <th></th>\n",
       "      <th></th>\n",
       "      <th></th>\n",
       "      <th></th>\n",
       "      <th></th>\n",
       "      <th></th>\n",
       "      <th></th>\n",
       "      <th></th>\n",
       "      <th></th>\n",
       "      <th></th>\n",
       "      <th></th>\n",
       "      <th></th>\n",
       "      <th></th>\n",
       "      <th></th>\n",
       "      <th></th>\n",
       "      <th></th>\n",
       "    </tr>\n",
       "  </thead>\n",
       "  <tbody>\n",
       "    <tr>\n",
       "      <th>-40</th>\n",
       "      <td>-0.224517</td>\n",
       "      <td>-0.161009</td>\n",
       "      <td>-0.097854</td>\n",
       "      <td>-0.187746</td>\n",
       "      <td>-0.178371</td>\n",
       "      <td>-0.169293</td>\n",
       "      <td>-0.270104</td>\n",
       "      <td>-0.130732</td>\n",
       "      <td>0.021902</td>\n",
       "      <td>-0.184996</td>\n",
       "      <td>...</td>\n",
       "      <td>-0.151385</td>\n",
       "      <td>-0.194549</td>\n",
       "      <td>-0.183009</td>\n",
       "      <td>-0.171382</td>\n",
       "      <td>-0.315321</td>\n",
       "      <td>-0.221182</td>\n",
       "      <td>-0.125309</td>\n",
       "      <td>-0.202992</td>\n",
       "      <td>-0.185267</td>\n",
       "      <td>-0.167132</td>\n",
       "    </tr>\n",
       "    <tr>\n",
       "      <th>-39</th>\n",
       "      <td>-0.251079</td>\n",
       "      <td>-0.189529</td>\n",
       "      <td>-0.128658</td>\n",
       "      <td>-0.198759</td>\n",
       "      <td>-0.188725</td>\n",
       "      <td>-0.178797</td>\n",
       "      <td>-0.276333</td>\n",
       "      <td>-0.135735</td>\n",
       "      <td>0.017278</td>\n",
       "      <td>-0.208551</td>\n",
       "      <td>...</td>\n",
       "      <td>-0.193776</td>\n",
       "      <td>-0.201164</td>\n",
       "      <td>-0.190442</td>\n",
       "      <td>-0.179835</td>\n",
       "      <td>-0.342722</td>\n",
       "      <td>-0.254359</td>\n",
       "      <td>-0.163600</td>\n",
       "      <td>-0.212923</td>\n",
       "      <td>-0.197024</td>\n",
       "      <td>-0.181621</td>\n",
       "    </tr>\n",
       "    <tr>\n",
       "      <th>-38</th>\n",
       "      <td>-0.219606</td>\n",
       "      <td>-0.159964</td>\n",
       "      <td>-0.099960</td>\n",
       "      <td>-0.218728</td>\n",
       "      <td>-0.207438</td>\n",
       "      <td>-0.196925</td>\n",
       "      <td>-0.204983</td>\n",
       "      <td>-0.068265</td>\n",
       "      <td>0.068807</td>\n",
       "      <td>-0.215445</td>\n",
       "      <td>...</td>\n",
       "      <td>-0.187132</td>\n",
       "      <td>-0.217904</td>\n",
       "      <td>-0.206908</td>\n",
       "      <td>-0.197044</td>\n",
       "      <td>-0.320801</td>\n",
       "      <td>-0.234065</td>\n",
       "      <td>-0.146757</td>\n",
       "      <td>-0.214721</td>\n",
       "      <td>-0.198895</td>\n",
       "      <td>-0.183578</td>\n",
       "    </tr>\n",
       "    <tr>\n",
       "      <th>-37</th>\n",
       "      <td>-0.272404</td>\n",
       "      <td>-0.209760</td>\n",
       "      <td>-0.148936</td>\n",
       "      <td>-0.226655</td>\n",
       "      <td>-0.215613</td>\n",
       "      <td>-0.205001</td>\n",
       "      <td>-0.229031</td>\n",
       "      <td>-0.083005</td>\n",
       "      <td>0.063591</td>\n",
       "      <td>-0.210538</td>\n",
       "      <td>...</td>\n",
       "      <td>-0.219515</td>\n",
       "      <td>-0.223569</td>\n",
       "      <td>-0.212916</td>\n",
       "      <td>-0.202648</td>\n",
       "      <td>-0.349284</td>\n",
       "      <td>-0.265703</td>\n",
       "      <td>-0.184108</td>\n",
       "      <td>-0.205738</td>\n",
       "      <td>-0.190979</td>\n",
       "      <td>-0.176889</td>\n",
       "    </tr>\n",
       "    <tr>\n",
       "      <th>-36</th>\n",
       "      <td>-0.282610</td>\n",
       "      <td>-0.218675</td>\n",
       "      <td>-0.154437</td>\n",
       "      <td>-0.222915</td>\n",
       "      <td>-0.211822</td>\n",
       "      <td>-0.201597</td>\n",
       "      <td>-0.191099</td>\n",
       "      <td>-0.052818</td>\n",
       "      <td>0.082644</td>\n",
       "      <td>-0.204047</td>\n",
       "      <td>...</td>\n",
       "      <td>-0.235120</td>\n",
       "      <td>-0.218691</td>\n",
       "      <td>-0.208100</td>\n",
       "      <td>-0.198219</td>\n",
       "      <td>-0.313880</td>\n",
       "      <td>-0.230353</td>\n",
       "      <td>-0.144785</td>\n",
       "      <td>-0.200631</td>\n",
       "      <td>-0.185703</td>\n",
       "      <td>-0.170910</td>\n",
       "    </tr>\n",
       "    <tr>\n",
       "      <th>...</th>\n",
       "      <td>...</td>\n",
       "      <td>...</td>\n",
       "      <td>...</td>\n",
       "      <td>...</td>\n",
       "      <td>...</td>\n",
       "      <td>...</td>\n",
       "      <td>...</td>\n",
       "      <td>...</td>\n",
       "      <td>...</td>\n",
       "      <td>...</td>\n",
       "      <td>...</td>\n",
       "      <td>...</td>\n",
       "      <td>...</td>\n",
       "      <td>...</td>\n",
       "      <td>...</td>\n",
       "      <td>...</td>\n",
       "      <td>...</td>\n",
       "      <td>...</td>\n",
       "      <td>...</td>\n",
       "      <td>...</td>\n",
       "      <td>...</td>\n",
       "    </tr>\n",
       "    <tr>\n",
       "      <th>96</th>\n",
       "      <td>-0.034572</td>\n",
       "      <td>0.045216</td>\n",
       "      <td>0.126087</td>\n",
       "      <td>0.061459</td>\n",
       "      <td>0.094152</td>\n",
       "      <td>0.129474</td>\n",
       "      <td>-0.202064</td>\n",
       "      <td>-0.014258</td>\n",
       "      <td>0.188724</td>\n",
       "      <td>-0.003389</td>\n",
       "      <td>...</td>\n",
       "      <td>0.126424</td>\n",
       "      <td>0.070125</td>\n",
       "      <td>0.099235</td>\n",
       "      <td>0.131023</td>\n",
       "      <td>-0.037573</td>\n",
       "      <td>0.074351</td>\n",
       "      <td>0.196307</td>\n",
       "      <td>0.008273</td>\n",
       "      <td>0.043396</td>\n",
       "      <td>0.083709</td>\n",
       "    </tr>\n",
       "    <tr>\n",
       "      <th>97</th>\n",
       "      <td>-0.024427</td>\n",
       "      <td>0.054888</td>\n",
       "      <td>0.137980</td>\n",
       "      <td>0.058134</td>\n",
       "      <td>0.091647</td>\n",
       "      <td>0.127504</td>\n",
       "      <td>-0.143423</td>\n",
       "      <td>0.041367</td>\n",
       "      <td>0.244288</td>\n",
       "      <td>-0.002072</td>\n",
       "      <td>...</td>\n",
       "      <td>0.119653</td>\n",
       "      <td>0.066791</td>\n",
       "      <td>0.096421</td>\n",
       "      <td>0.128119</td>\n",
       "      <td>-0.055503</td>\n",
       "      <td>0.050073</td>\n",
       "      <td>0.170728</td>\n",
       "      <td>0.003416</td>\n",
       "      <td>0.038895</td>\n",
       "      <td>0.080822</td>\n",
       "    </tr>\n",
       "    <tr>\n",
       "      <th>98</th>\n",
       "      <td>-0.020963</td>\n",
       "      <td>0.057052</td>\n",
       "      <td>0.138931</td>\n",
       "      <td>0.057220</td>\n",
       "      <td>0.089909</td>\n",
       "      <td>0.127149</td>\n",
       "      <td>-0.262476</td>\n",
       "      <td>-0.090834</td>\n",
       "      <td>0.092059</td>\n",
       "      <td>-0.024583</td>\n",
       "      <td>...</td>\n",
       "      <td>0.134654</td>\n",
       "      <td>0.065886</td>\n",
       "      <td>0.095450</td>\n",
       "      <td>0.127090</td>\n",
       "      <td>-0.066487</td>\n",
       "      <td>0.035381</td>\n",
       "      <td>0.149467</td>\n",
       "      <td>-0.007130</td>\n",
       "      <td>0.029256</td>\n",
       "      <td>0.071177</td>\n",
       "    </tr>\n",
       "    <tr>\n",
       "      <th>99</th>\n",
       "      <td>-0.073732</td>\n",
       "      <td>0.005146</td>\n",
       "      <td>0.081978</td>\n",
       "      <td>0.050747</td>\n",
       "      <td>0.084003</td>\n",
       "      <td>0.121362</td>\n",
       "      <td>-0.272615</td>\n",
       "      <td>-0.104947</td>\n",
       "      <td>0.068222</td>\n",
       "      <td>-0.053394</td>\n",
       "      <td>...</td>\n",
       "      <td>0.107777</td>\n",
       "      <td>0.058546</td>\n",
       "      <td>0.088267</td>\n",
       "      <td>0.120355</td>\n",
       "      <td>-0.064735</td>\n",
       "      <td>0.042341</td>\n",
       "      <td>0.154664</td>\n",
       "      <td>-0.010817</td>\n",
       "      <td>0.027663</td>\n",
       "      <td>0.070966</td>\n",
       "    </tr>\n",
       "    <tr>\n",
       "      <th>100</th>\n",
       "      <td>-0.100088</td>\n",
       "      <td>-0.022768</td>\n",
       "      <td>0.054331</td>\n",
       "      <td>0.051379</td>\n",
       "      <td>0.084125</td>\n",
       "      <td>0.122065</td>\n",
       "      <td>-0.186222</td>\n",
       "      <td>-0.024557</td>\n",
       "      <td>0.152145</td>\n",
       "      <td>-0.067193</td>\n",
       "      <td>...</td>\n",
       "      <td>0.076178</td>\n",
       "      <td>0.055290</td>\n",
       "      <td>0.084903</td>\n",
       "      <td>0.116442</td>\n",
       "      <td>-0.039569</td>\n",
       "      <td>0.072195</td>\n",
       "      <td>0.195343</td>\n",
       "      <td>-0.012947</td>\n",
       "      <td>0.026312</td>\n",
       "      <td>0.070561</td>\n",
       "    </tr>\n",
       "  </tbody>\n",
       "</table>\n",
       "<p>141 rows × 60 columns</p>\n",
       "</div>"
      ],
      "text/plain": [
       "       SIAA_T_lb  SIAA_T_mn  SIAA_T_ub  SIAA_P_lb  SIAA_P_mn  SIAA_P_ub  \\\n",
       "delta                                                                     \n",
       "-40    -0.224517  -0.161009  -0.097854  -0.187746  -0.178371  -0.169293   \n",
       "-39    -0.251079  -0.189529  -0.128658  -0.198759  -0.188725  -0.178797   \n",
       "-38    -0.219606  -0.159964  -0.099960  -0.218728  -0.207438  -0.196925   \n",
       "-37    -0.272404  -0.209760  -0.148936  -0.226655  -0.215613  -0.205001   \n",
       "-36    -0.282610  -0.218675  -0.154437  -0.222915  -0.211822  -0.201597   \n",
       "...          ...        ...        ...        ...        ...        ...   \n",
       " 96    -0.034572   0.045216   0.126087   0.061459   0.094152   0.129474   \n",
       " 97    -0.024427   0.054888   0.137980   0.058134   0.091647   0.127504   \n",
       " 98    -0.020963   0.057052   0.138931   0.057220   0.089909   0.127149   \n",
       " 99    -0.073732   0.005146   0.081978   0.050747   0.084003   0.121362   \n",
       " 100   -0.100088  -0.022768   0.054331   0.051379   0.084125   0.122065   \n",
       "\n",
       "       SIAa_T_lb  SIAa_T_mn  SIAa_T_ub  SIAa_P_lb  ...  SIr_T_ub  SIr_P_lb  \\\n",
       "delta                                              ...                       \n",
       "-40    -0.270104  -0.130732   0.021902  -0.184996  ... -0.151385 -0.194549   \n",
       "-39    -0.276333  -0.135735   0.017278  -0.208551  ... -0.193776 -0.201164   \n",
       "-38    -0.204983  -0.068265   0.068807  -0.215445  ... -0.187132 -0.217904   \n",
       "-37    -0.229031  -0.083005   0.063591  -0.210538  ... -0.219515 -0.223569   \n",
       "-36    -0.191099  -0.052818   0.082644  -0.204047  ... -0.235120 -0.218691   \n",
       "...          ...        ...        ...        ...  ...       ...       ...   \n",
       " 96    -0.202064  -0.014258   0.188724  -0.003389  ...  0.126424  0.070125   \n",
       " 97    -0.143423   0.041367   0.244288  -0.002072  ...  0.119653  0.066791   \n",
       " 98    -0.262476  -0.090834   0.092059  -0.024583  ...  0.134654  0.065886   \n",
       " 99    -0.272615  -0.104947   0.068222  -0.053394  ...  0.107777  0.058546   \n",
       " 100   -0.186222  -0.024557   0.152145  -0.067193  ...  0.076178  0.055290   \n",
       "\n",
       "       SIr_P_mn  SIr_P_ub  SInr_T_lb  SInr_T_mn  SInr_T_ub  SInr_P_lb  \\\n",
       "delta                                                                   \n",
       "-40   -0.183009 -0.171382  -0.315321  -0.221182  -0.125309  -0.202992   \n",
       "-39   -0.190442 -0.179835  -0.342722  -0.254359  -0.163600  -0.212923   \n",
       "-38   -0.206908 -0.197044  -0.320801  -0.234065  -0.146757  -0.214721   \n",
       "-37   -0.212916 -0.202648  -0.349284  -0.265703  -0.184108  -0.205738   \n",
       "-36   -0.208100 -0.198219  -0.313880  -0.230353  -0.144785  -0.200631   \n",
       "...         ...       ...        ...        ...        ...        ...   \n",
       " 96    0.099235  0.131023  -0.037573   0.074351   0.196307   0.008273   \n",
       " 97    0.096421  0.128119  -0.055503   0.050073   0.170728   0.003416   \n",
       " 98    0.095450  0.127090  -0.066487   0.035381   0.149467  -0.007130   \n",
       " 99    0.088267  0.120355  -0.064735   0.042341   0.154664  -0.010817   \n",
       " 100   0.084903  0.116442  -0.039569   0.072195   0.195343  -0.012947   \n",
       "\n",
       "       SInr_P_mn  SInr_P_ub  \n",
       "delta                        \n",
       "-40    -0.185267  -0.167132  \n",
       "-39    -0.197024  -0.181621  \n",
       "-38    -0.198895  -0.183578  \n",
       "-37    -0.190979  -0.176889  \n",
       "-36    -0.185703  -0.170910  \n",
       "...          ...        ...  \n",
       " 96     0.043396   0.083709  \n",
       " 97     0.038895   0.080822  \n",
       " 98     0.029256   0.071177  \n",
       " 99     0.027663   0.070966  \n",
       " 100    0.026312   0.070561  \n",
       "\n",
       "[141 rows x 60 columns]"
      ]
     },
     "execution_count": 13,
     "metadata": {},
     "output_type": "execute_result"
    }
   ],
   "source": [
    "combo_rdc"
   ]
  },
  {
   "cell_type": "code",
   "execution_count": 14,
   "metadata": {},
   "outputs": [],
   "source": [
    "# for k in h5_lst:\n",
    "#     for kk in h5_lst[k]:\n",
    "#         print(k, kk)\n",
    "# #         display(h5_lst[k][kk])\n",
    "# #     break"
   ]
  },
  {
   "cell_type": "code",
   "execution_count": 15,
   "metadata": {},
   "outputs": [],
   "source": [
    "# [len(h5_lst['dfrel'][_]) for _ in range(len(h5_lst['dfrel']))], [len(h5_lst[y_col][_]) for _ in range(len(h5_lst[y_col]))]"
   ]
  },
  {
   "cell_type": "code",
   "execution_count": null,
   "metadata": {},
   "outputs": [],
   "source": [
    "# len(dupe), len(h5_lst[y_col][i])"
   ]
  },
  {
   "cell_type": "code",
   "execution_count": null,
   "metadata": {},
   "outputs": [],
   "source": []
  },
  {
   "cell_type": "code",
   "execution_count": null,
   "metadata": {},
   "outputs": [],
   "source": [
    "combo_rdc[[_ for _ in combo_rdc.columns if '_mn' in _]].plot()"
   ]
  },
  {
   "cell_type": "code",
   "execution_count": null,
   "metadata": {},
   "outputs": [],
   "source": []
  },
  {
   "cell_type": "code",
   "execution_count": null,
   "metadata": {},
   "outputs": [],
   "source": [
    "y_col, model_version"
   ]
  },
  {
   "cell_type": "code",
   "execution_count": null,
   "metadata": {},
   "outputs": [],
   "source": [
    "# run_id_dct[y_col]"
   ]
  },
  {
   "cell_type": "code",
   "execution_count": null,
   "metadata": {},
   "outputs": [],
   "source": []
  },
  {
   "cell_type": "code",
   "execution_count": null,
   "metadata": {},
   "outputs": [],
   "source": []
  },
  {
   "cell_type": "code",
   "execution_count": null,
   "metadata": {},
   "outputs": [],
   "source": [
    "# # base_location = Path(r'/Users/josh/Documents/Harvard/GLM/sabatinilab-glm/sglm/outputs')\n",
    "# base_location = Path(r'C:\\Users\\Josh\\Documents\\GitHub\\sabatinilab-glm\\sglm\\outputs')\n",
    "\n",
    "# fig_folder_lst = [#('Figure_1_2', 'f1*-ft'),\n",
    "#                   #('Figure_3',   'f3*-ft'),\n",
    "#                   #('Figure_4_g1',   'f4*-ft'),\n",
    "#                   ('Figure_4_g2',   'f4*-ft'),\n",
    "#                   #('Figure_5_g1',   'f5*-ft'),\n",
    "#                   #('Figure_5_g2',   'f5*-ft'),\n",
    "#                   #('Figure_5_g5',   'f5*-ft'),\n",
    "#                  ]\n",
    "\n",
    "# for fig_folder in fig_folder_lst:\n",
    "#     print('fig_folder', fig_folder)\n",
    "    \n",
    "#     load_folder = base_location / Path(fig_folder[0])\n",
    "#     # load_folder = base_location / Path(r'tmp')\n",
    "#     h5_recons_locations = str((load_folder / Path('all') / Path(fig_folder[1]) / Path(r'reconstructs\\best_resids_*.h5')).resolve())\n",
    "    \n",
    "#     print(h5_recons_locations)\n",
    "    \n",
    "# #     load_folder = base_location / Path(r'Figure_1_2')\n",
    "# #     # load_folder = base_location / Path(r'tmp')\n",
    "# #     h5_recons_locations = str((load_folder / Path(r'all\\f1*-ft\\reconstructs\\best_resids_*.h5')).resolve())\n",
    "# #     # h5_recons_locations = str((load_folder / Path(r'all/f1*-ft/reconstructs/best_resids_*.h5')).resolve())\n",
    "# #     # load_folder = base_location / Path(r'Figure_3')\n",
    "# #     # h5_beta_locations = str((load_folder / Path(r'all\\f3*-ft\\reconstructs\\best_resids_*.h5')).resolve())\n",
    "# #     # load_folder = base_location / Path(r'Figure_4_g1')\n",
    "# #     # h5_beta_locations = str((load_folder / Path(r'all\\f4*-ft\\reconstructs\\best_resids_*.h5')).resolve())\n",
    "# #     # load_folder = base_location / Path(r'Figure_4_g2')\n",
    "# #     # h5_beta_locations = str((load_folder / Path(r'all\\f4*-ft\\reconstructs\\best_resids_*.h5')).resolve())\n",
    "# #     # load_folder = base_location / Path(r'Figure_5_g1')\n",
    "# #     # h5_beta_locations = str((load_folder / Path(r'all\\f5*-ft\\reconstructs\\best_resids_*.h5')).resolve())\n",
    "# #     # load_folder = base_location / Path(r'Figure_5_g2')\n",
    "# #     # h5_beta_locations = str((load_folder / Path(r'all\\f5*-ft\\coefs\\*_best_coeffs.h5')).resolve())\n",
    "# #     # load_folder = base_location / Path(r'Figure_5_g5')\n",
    "# #     # h5_beta_locations = str((load_folder / Path(r'all\\f5*-ft\\coefs\\*_best_coeffs.h5')).resolve())\n",
    "\n",
    "#     out_folder = base_location / Path(r'final_outputs')\n",
    "\n",
    "#     out_loc = str((out_folder).resolve())\n",
    "#     h5_recons_locations = glob.glob(h5_recons_locations)\n",
    "\n",
    "\n",
    "#     h5_lst = defaultdict(list)\n",
    "#     run_id_dct = defaultdict(list)\n",
    "\n",
    "\n",
    "#     for h5_coef_fn in h5_recons_locations:\n",
    "#         h5f = pd.HDFStore(h5_coef_fn)\n",
    "#         h5fk = h5f.keys()\n",
    "#         for key in h5fk:\n",
    "\n",
    "#             resp = key.split('_')[0].replace('/', '')\n",
    "#             model_version = '_'.join(key.split('_')[3:]).split('_run_num')[0]\n",
    "\n",
    "#             if 'run_num' in key and 'run_num__0' not in key: #and 'run_num__1' not in key:\n",
    "#                 continue\n",
    "#             if 'base_simple' not in key and 'base_words' not in key and 'basis' not in key:\n",
    "#                 continue\n",
    "#             print(key, model_version)\n",
    "\n",
    "#             y_col = key.split('_')[0].replace(r'/', r'')\n",
    "#             h5_df = pd.read_hdf(h5f, key)\n",
    "\n",
    "#             h5_df.columns = [dfh.shorten_col_name(_) for _ in h5_df.columns]\n",
    "\n",
    "#             if 'dfrel_basis' != key.replace('/', ''):\n",
    "#                 h5_df.columns = [_.split('_')[0] for _ in h5_df.columns]\n",
    "#                 h5_df['true'] = h5_lst['dfrel'][-1][y_col]\n",
    "#                 h5_df['resid2'] = (h5_df['true'] - h5_df['pred'])**2\n",
    "\n",
    "#                 h5_df['file_num'] = h5_lst['dfrel'][-1]['file_num']\n",
    "\n",
    "#                 h5_df['dupe'] = h5_lst['dfrel'][-1]['dupe']\n",
    "#                 h5_df['wi_trial_keep'] = h5_lst['dfrel'][-1]['wi_trial_keep']\n",
    "\n",
    "#                 h5_lst[y_col].append(h5_df)\n",
    "#                 run_id_dct[y_col].append(model_version)\n",
    "#             else:\n",
    "#                 h5_lst[y_col].append(h5_df)\n",
    "#                 run_id_dct[y_col].append('basis')\n",
    "#         break\n",
    "#     break\n",
    "\n",
    "#     for i in range(2):\n",
    "#         for y_col in ['gACH', 'rDA', 'gDA']:\n",
    "# #             fig,axes = plt.subplots(5,2,figsize=(10,30))\n",
    "\n",
    "#             combo_rdc = {}\n",
    "#             for iac, alignment_col in enumerate(all_alignment_cols):\n",
    "# #                 ic, ir = iac%2, iac//2\n",
    "# #                 ax = axes[ir, ic]\n",
    "\n",
    "#                 dupe = h5_lst['dfrel'][-1]['dupe']\n",
    "#                 dfrel_basis = h5_lst['dfrel'][-1].loc[~dupe]\n",
    "#                 dfrel_basis_run = h5_lst[y_col][i].loc[~dupe]\n",
    "\n",
    "#                 model_version = run_id_dct[y_col][i]\n",
    "\n",
    "#                 print('Pulling delta list')\n",
    "#                 keep_rows, assoc_deltas = get_delta_list(dfrel_basis[alignment_col], alignment_col, ((dfrel_basis_run['holdout']==1)).astype(bool))\n",
    "#                 rdc_lst = defaultdict(list)\n",
    "#                 for entry_num in trange(len(keep_rows)):\n",
    "#                     keep_row_single = keep_rows[entry_num]\n",
    "#                     deltas = assoc_deltas[entry_num]\n",
    "#                     rdc_df = dfrel_basis_run.loc[keep_row_single].set_index(deltas)\n",
    "\n",
    "#                     if rdc_df['file_num'].nunique() > 1:\n",
    "#                         continue\n",
    "\n",
    "#                     reconstruction_data_list = []\n",
    "\n",
    "#                     for bootstrap_col in ['true', 'pred']:\n",
    "#                         rdc_lst[bootstrap_col].append(rdc_df[[bootstrap_col]])\n",
    "\n",
    "#                 print('keys', rdc_lst.keys())\n",
    "\n",
    "#                 seed = np.random.randint(1000000000)\n",
    "#                 for bootstrap_col in (rdc_lst):\n",
    "#                     tmp_rdc = pd.concat(rdc_lst[bootstrap_col], axis=1).sort_index()\n",
    "\n",
    "#                     reconstruction_data_list = []\n",
    "#                     for delta in (tmp_rdc.index):\n",
    "#                         row = tmp_rdc.loc[delta].dropna().values\n",
    "#                         bs = scipy.stats.bootstrap((row,), np.mean, n_resamples=9999,\n",
    "#     #                     bs = scipy.stats.bootstrap((row,), np.mean, n_resamples=1000,\n",
    "#                                                    batch=None, vectorized=True, paired=False,\n",
    "#                                                    axis=0, confidence_level=0.95, method='BCa',\n",
    "#                                                    random_state=seed)\n",
    "\n",
    "#                         mn_val = row.mean()\n",
    "#                         rtup = (bootstrap_col, delta, bs.confidence_interval.low, mn_val, bs.confidence_interval.high)\n",
    "\n",
    "#                         reconstruction_data_list.append(rtup)\n",
    "\n",
    "#                     tmp_combo_rdc = pd.DataFrame(reconstruction_data_list, columns=['basis_column', 'delta', 'lb', 'mn', 'ub']).set_index('delta')\n",
    "#                     combo_rdc[f'{alignment_col}_{bootstrap_col}'] = tmp_combo_rdc.drop('basis_column',axis=1)\n",
    "\n",
    "#             combo_rdc = pd.concat(combo_rdc, axis=1)\n",
    "#             combo_rdc.columns = ['_'.join(_).replace('_true_', '_T_').replace('_pred_', '_P_') for _ in combo_rdc.columns]\n",
    "#             combo_rdc.to_csv(str((Path(out_loc) / f'{load_folder.parts[-1]}-reconstruct-{y_col}={model_version}.csv').resolve()))\n"
   ]
  },
  {
   "cell_type": "code",
   "execution_count": null,
   "metadata": {},
   "outputs": [],
   "source": [
    "# np.all(h5_lst['dfrel'][0].dropna() == h5_lst['dfrel'][1].dropna())"
   ]
  },
  {
   "cell_type": "code",
   "execution_count": null,
   "metadata": {},
   "outputs": [],
   "source": [
    "# h5_lst['dfrel'][0]['rDA']"
   ]
  },
  {
   "cell_type": "code",
   "execution_count": null,
   "metadata": {},
   "outputs": [],
   "source": [
    "# h5_df"
   ]
  },
  {
   "cell_type": "code",
   "execution_count": null,
   "metadata": {},
   "outputs": [],
   "source": [
    "# h5f"
   ]
  },
  {
   "cell_type": "code",
   "execution_count": null,
   "metadata": {},
   "outputs": [],
   "source": []
  },
  {
   "cell_type": "code",
   "execution_count": null,
   "metadata": {},
   "outputs": [],
   "source": [
    "h5_lst.keys()"
   ]
  },
  {
   "cell_type": "code",
   "execution_count": null,
   "metadata": {},
   "outputs": [],
   "source": []
  },
  {
   "cell_type": "code",
   "execution_count": null,
   "metadata": {},
   "outputs": [],
   "source": []
  }
 ],
 "metadata": {
  "kernelspec": {
   "display_name": "Python 3 (ipykernel)",
   "language": "python",
   "name": "python3"
  },
  "language_info": {
   "codemirror_mode": {
    "name": "ipython",
    "version": 3
   },
   "file_extension": ".py",
   "mimetype": "text/x-python",
   "name": "python",
   "nbconvert_exporter": "python",
   "pygments_lexer": "ipython3",
   "version": "3.10.4"
  },
  "vscode": {
   "interpreter": {
    "hash": "fa0fc083a9a7b25dab36cbe71fb89b2f1907d4eced1698b208dea6977346b521"
   }
  }
 },
 "nbformat": 4,
 "nbformat_minor": 2
}
