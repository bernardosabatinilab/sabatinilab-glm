{
 "cells": [
  {
   "cell_type": "code",
   "execution_count": 1,
   "metadata": {},
   "outputs": [
    {
     "data": {
      "text/html": [
       "<style>.container { width:95% !important; }</style>"
      ],
      "text/plain": [
       "<IPython.core.display.HTML object>"
      ]
     },
     "metadata": {},
     "output_type": "display_data"
    }
   ],
   "source": [
    "from IPython.display import display, HTML\n",
    "display(HTML(\"<style>.container { width:95% !important; }</style>\"))"
   ]
  },
  {
   "cell_type": "code",
   "execution_count": 2,
   "metadata": {},
   "outputs": [],
   "source": [
    "%load_ext autoreload\n",
    "%autoreload 2"
   ]
  },
  {
   "cell_type": "code",
   "execution_count": 3,
   "metadata": {},
   "outputs": [],
   "source": [
    "import glob\n",
    "import pandas as pd\n",
    "import numpy as np\n",
    "from sglm.helpers import filehelpers\n",
    "from pathlib import Path"
   ]
  },
  {
   "cell_type": "code",
   "execution_count": 4,
   "metadata": {},
   "outputs": [],
   "source": [
    "base_location = Path(r'C:\\Users\\Josh\\Documents\\GitHub\\sabatinilab-glm\\sglm\\outputs')\n",
    "\n",
    "# load_folder = base_location / Path(r'Figure_1_2')\n",
    "# h5_beta_locations = str((load_folder / Path(r'all\\f1*-ft\\coefs\\*_best_coeffs.h5')).resolve())\n",
    "# load_folder = base_location / Path(r'Figure_3')\n",
    "# h5_beta_locations = str((load_folder / Path(r'all\\f3*-ft\\coefs\\*_best_coeffs.h5')).resolve())\n",
    "# load_folder = base_location / Path(r'Figure_4_g1')\n",
    "# h5_beta_locations = str((load_folder / Path(r'all\\f4*-ft\\coefs\\*_best_coeffs.h5')).resolve())\n",
    "# load_folder = base_location / Path(r'Figure_4_g2')\n",
    "# h5_beta_locations = str((load_folder / Path(r'all\\f4*-ft\\coefs\\*_best_coeffs.h5')).resolve())\n",
    "load_folder = base_location / Path(r'Figure_5_g1')\n",
    "h5_beta_locations = str((load_folder / Path(r'all\\f5*-ft\\coefs\\*_best_coeffs.h5')).resolve())\n",
    "\n",
    "out_folder = base_location / Path(r'final_outputs')\n",
    "\n",
    "# h5_beta_locations = Path('/Users/josh/Dropbox (HMS)/jz/Tetanus/1194_1195_1214_1258_1259_2_best_coeffs.h5')\n",
    "out_loc = str((out_folder).resolve())\n",
    "h5_beta_locations = glob.glob(h5_beta_locations)"
   ]
  },
  {
   "cell_type": "code",
   "execution_count": 5,
   "metadata": {},
   "outputs": [],
   "source": [
    "h5_lst = []\n",
    "for h5_coef_fn in h5_beta_locations:\n",
    "    h5f = pd.HDFStore(h5_coef_fn)\n",
    "    h5fk = h5f.keys()\n",
    "    for key in h5fk:\n",
    "        h5_df = pd.read_hdf(h5f, key).reset_index()\n",
    "        h5_df['fn'] = h5_coef_fn\n",
    "        h5_df['key'] = key\n",
    "        h5_df = h5_df.set_index(['fn','key'])\n",
    "        \n",
    "        \n",
    "        h5_df = h5_df.sort_values('channel_name')\n",
    "        h5_df['channel'] = h5_df['channel_name'].str.split('_').apply(lambda x: x[0])\n",
    "        h5_df['run_num'] = h5_df['channel_name'].str.split('_').apply(lambda x: x[-1])\n",
    "        \n",
    "        h5_lst.append(h5_df)\n",
    "concat = pd.concat(h5_lst, axis=0)"
   ]
  },
  {
   "cell_type": "code",
   "execution_count": 6,
   "metadata": {},
   "outputs": [],
   "source": [
    "filehelpers.create_folder_if_not_exists(out_loc)"
   ]
  },
  {
   "cell_type": "code",
   "execution_count": 7,
   "metadata": {},
   "outputs": [],
   "source": [
    "base_keys = list({\n",
    "                'gACH':(0,0),\n",
    "                'rDA':(0,0),\n",
    "                'gDA':(0,0),\n",
    "                'photometryCenterInIndex':(0,0),\n",
    "                'photometryCenterOutIndex':(0,0),\n",
    "                'photometrySideInIndex':(0,0),\n",
    "                'photometrySideInIndexr':(0,0),\n",
    "                'photometrySideOutIndex':(0,0),\n",
    "                'sl': (0,0),\n",
    "                'spnnrOff': (0,0),\n",
    "                'photometryCenterInIndex':(0,0),\n",
    "                'photometryCenterOutIndex':(0,0),\n",
    "                'photometrySideInIndexAA':(0,0),\n",
    "                'photometrySideInIndexAa':(0,0),\n",
    "                'photometrySideInIndexaA':(0,0),\n",
    "                'photometrySideInIndexaa':(0,0),\n",
    "                'photometrySideInIndexAB':(0,0),\n",
    "                'photometrySideInIndexAb':(0,0),\n",
    "                'photometrySideInIndexaB':(0,0),\n",
    "                'photometrySideInIndexab':(0,0),\n",
    "                'photometrySideOutIndex':(0,0),\n",
    "                'sl': (0,0),\n",
    "                'spnnrOff': (0,0),\n",
    "                }.keys())\n",
    "# base_keys"
   ]
  },
  {
   "cell_type": "code",
   "execution_count": 8,
   "metadata": {},
   "outputs": [],
   "source": [
    "def get_kernel_from_basename(base_name, column_names):\n",
    "    kernel = [(_, int(_.split('_')[-1])) for _ in column_names if base_name+'_' == _[:len(base_name)+1]]\n",
    "    kernel = sorted(kernel, key=lambda x: x[-1])\n",
    "    kernel = [_[0] for _ in kernel]\n",
    "    return kernel\n",
    "\n",
    "all_kernels = []\n",
    "for base_key in base_keys:\n",
    "    all_kernels += get_kernel_from_basename(base_key, list(concat.columns))"
   ]
  },
  {
   "cell_type": "code",
   "execution_count": 9,
   "metadata": {},
   "outputs": [],
   "source": [
    "gb_columns = ['mouse_id', 'channel', 'name']\n",
    "kernels = (concat.reset_index().set_index(['mouse_id', 'channel', 'name', 'run_num']))[all_kernels].groupby(gb_columns).agg([np.mean, np.size, np.std])\n",
    "kernels = kernels.swaplevel(axis=1)\n",
    "# kernels['lb'] = kernels['mean'] - kernels['std']/np.sqrt(kernels['size'])\n",
    "# kernels['mn'] = kernels['mean']\n",
    "# kernels['ub'] = kernels['mean'] + kernels['std']/np.sqrt(kernels['size'])"
   ]
  },
  {
   "cell_type": "code",
   "execution_count": 10,
   "metadata": {},
   "outputs": [],
   "source": [
    "(concat.reset_index().set_index(['mouse_id', 'channel', 'name', 'run_num']))[all_kernels].to_csv(str((Path(out_loc) / f'{load_folder.parts[-1]}-kernel_raw.csv').resolve()))"
   ]
  },
  {
   "cell_type": "code",
   "execution_count": 11,
   "metadata": {},
   "outputs": [],
   "source": [
    "# entry"
   ]
  },
  {
   "cell_type": "code",
   "execution_count": 12,
   "metadata": {},
   "outputs": [],
   "source": [
    "entries = []\n",
    "for col in ['mean', 'size', 'std']:\n",
    "    entry = kernels.unstack().unstack()[col]\n",
    "    entry.index = [col]\n",
    "    entries.append(entry)\n",
    "stk = pd.concat(entries, axis=0).swaplevel(0,1,axis=1).swaplevel(0,2,axis=1)"
   ]
  },
  {
   "cell_type": "code",
   "execution_count": null,
   "metadata": {},
   "outputs": [],
   "source": []
  },
  {
   "cell_type": "code",
   "execution_count": null,
   "metadata": {},
   "outputs": [],
   "source": []
  },
  {
   "cell_type": "code",
   "execution_count": 14,
   "metadata": {},
   "outputs": [],
   "source": [
    "# pd.read_csv(r'C:\\Users\\Josh\\Documents\\GitHub\\sabatinilab-glm\\sglm\\outputs\\final_outputs\\Figure_1_2-kernel_mn_size_std.csv', index_col=[0], header=[0,1,2])"
   ]
  },
  {
   "cell_type": "code",
   "execution_count": null,
   "metadata": {},
   "outputs": [],
   "source": []
  },
  {
   "cell_type": "code",
   "execution_count": 15,
   "metadata": {},
   "outputs": [],
   "source": [
    "stk.to_csv(str((Path(out_loc) / f'{load_folder.parts[-1]}-kernel_mn_size_std.csv').resolve()))"
   ]
  },
  {
   "cell_type": "code",
   "execution_count": 16,
   "metadata": {},
   "outputs": [],
   "source": [
    "stk2 = stk.T.copy()\n",
    "stk2['lb'] = stk2['mean'] - 1.96*stk2['std']/np.sqrt(stk2['size'])\n",
    "stk2['mn'] = stk2['mean']\n",
    "stk2['ub'] = stk2['mean'] + 1.96*stk2['std']/np.sqrt(stk2['size'])"
   ]
  },
  {
   "cell_type": "code",
   "execution_count": 17,
   "metadata": {},
   "outputs": [],
   "source": [
    "stk2.to_csv(str((Path(out_loc) / f'{load_folder.parts[-1]}-kernel_mn_size_std_lb_mn_ub.csv').resolve()))"
   ]
  },
  {
   "cell_type": "code",
   "execution_count": 18,
   "metadata": {},
   "outputs": [],
   "source": [
    "stk3 = stk2.swaplevel(-1, -2, axis=0).unstack()[['mn', 'lb', 'ub']].swaplevel(0,1,axis=1)[all_kernels].swaplevel(0,1,axis=1)[['mn', 'lb', 'ub']].copy()"
   ]
  },
  {
   "cell_type": "code",
   "execution_count": 19,
   "metadata": {},
   "outputs": [],
   "source": [
    "stk3.to_csv(str((Path(out_loc) / f'{load_folder.parts[-1]}-kernel_mn_lb_ub.csv').resolve()))"
   ]
  }
 ],
 "metadata": {
  "kernelspec": {
   "display_name": "Python 3 (ipykernel)",
   "language": "python",
   "name": "python3"
  },
  "language_info": {
   "codemirror_mode": {
    "name": "ipython",
    "version": 3
   },
   "file_extension": ".py",
   "mimetype": "text/x-python",
   "name": "python",
   "nbconvert_exporter": "python",
   "pygments_lexer": "ipython3",
   "version": "3.10.4"
  },
  "vscode": {
   "interpreter": {
    "hash": "fa0fc083a9a7b25dab36cbe71fb89b2f1907d4eced1698b208dea6977346b521"
   }
  }
 },
 "nbformat": 4,
 "nbformat_minor": 2
}
