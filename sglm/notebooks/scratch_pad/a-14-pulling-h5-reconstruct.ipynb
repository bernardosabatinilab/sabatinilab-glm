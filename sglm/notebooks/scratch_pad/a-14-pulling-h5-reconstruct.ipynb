{
 "cells": [
  {
   "cell_type": "code",
   "execution_count": 1,
   "metadata": {},
   "outputs": [
    {
     "data": {
      "text/html": [
       "<style>.container { width:95% !important; }</style>"
      ],
      "text/plain": [
       "<IPython.core.display.HTML object>"
      ]
     },
     "metadata": {},
     "output_type": "display_data"
    }
   ],
   "source": [
    "from IPython.display import display, HTML\n",
    "display(HTML(\"<style>.container { width:95% !important; }</style>\"))"
   ]
  },
  {
   "cell_type": "code",
   "execution_count": 2,
   "metadata": {},
   "outputs": [],
   "source": [
    "%load_ext autoreload\n",
    "%autoreload 2"
   ]
  },
  {
   "cell_type": "code",
   "execution_count": 3,
   "metadata": {},
   "outputs": [],
   "source": [
    "import glob\n",
    "import pandas as pd\n",
    "import numpy as np\n",
    "from sglm.helpers import filehelpers as fh, dfhelpers as dfh\n",
    "from pathlib import Path\n",
    "from collections import defaultdict\n",
    "from tqdm.notebook import tqdm, trange\n",
    "import scipy.stats\n",
    "import matplotlib.pyplot as plt\n"
   ]
  },
  {
   "cell_type": "code",
   "execution_count": null,
   "metadata": {},
   "outputs": [],
   "source": []
  },
  {
   "cell_type": "code",
   "execution_count": 4,
   "metadata": {},
   "outputs": [],
   "source": [
    "base_keys = list({\n",
    "                'gACH':(0,0),\n",
    "                'rDA':(0,0),\n",
    "                'gDA':(0,0),\n",
    "                'photometrySideInIndexr':(0,0),\n",
    "                'photometrySideInIndexnr':(0,0),\n",
    "                'photometrySideInIndexAA':(0,0),\n",
    "                'photometrySideInIndexAa':(0,0),\n",
    "                'photometrySideInIndexaA':(0,0),\n",
    "                'photometrySideInIndexaa':(0,0),\n",
    "                'photometrySideInIndexAB':(0,0),\n",
    "                'photometrySideInIndexAb':(0,0),\n",
    "                'photometrySideInIndexaB':(0,0),\n",
    "                'photometrySideInIndexab':(0,0),\n",
    "                }.keys())\n",
    "shortened_keys = [dfh.shorten_col_name(_) for _ in base_keys]\n",
    "\n",
    "all_alignment_cols = [\n",
    "                        'SIAA', 'SIAa', 'SIaA', 'SIaa',\n",
    "                        'SIAB', 'SIAb', 'SIaB', 'SIab',\n",
    "                        'SIr', 'SInr', \n",
    "                     ]\n",
    "# base_keys"
   ]
  },
  {
   "cell_type": "code",
   "execution_count": 5,
   "metadata": {},
   "outputs": [],
   "source": [
    "def get_delta_list(event_srs, event_col, keep_srs):\n",
    "    \n",
    "    keep_eg_lst = []\n",
    "    delta_keep_eg_lst = []\n",
    "\n",
    "    rdc = []\n",
    "    entry_num = np.arange(len(event_srs))\n",
    "    event = np.where(event_srs.values == 1)\n",
    "    assert len(event) == 1\n",
    "    event = event[0]\n",
    "    \n",
    "    for iev, ev in enumerate(event):\n",
    "        delta = entry_num - ev\n",
    "        keep_eg = (delta >= -40)&(delta <= 100)&keep_srs\n",
    "        delta_keep_eg = delta[keep_eg]\n",
    "        keep_eg_lst.append(keep_eg)\n",
    "        delta_keep_eg_lst.append(delta_keep_eg)\n",
    "\n",
    "    return keep_eg_lst, delta_keep_eg_lst\n",
    "\n",
    "# full_df = h5_lst[0]\n"
   ]
  },
  {
   "cell_type": "code",
   "execution_count": null,
   "metadata": {
    "scrolled": true
   },
   "outputs": [],
   "source": []
  },
  {
   "cell_type": "code",
   "execution_count": null,
   "metadata": {},
   "outputs": [],
   "source": []
  },
  {
   "cell_type": "code",
   "execution_count": null,
   "metadata": {},
   "outputs": [],
   "source": []
  },
  {
   "cell_type": "code",
   "execution_count": null,
   "metadata": {},
   "outputs": [],
   "source": []
  },
  {
   "cell_type": "code",
   "execution_count": null,
   "metadata": {},
   "outputs": [],
   "source": []
  },
  {
   "cell_type": "code",
   "execution_count": null,
   "metadata": {
    "scrolled": true
   },
   "outputs": [
    {
     "name": "stdout",
     "output_type": "stream",
     "text": [
      "fig_folder ('Figure_1_2', 'f1*-ft')\n",
      "gACH_0_0_base_simple_run_num__0\n",
      "0_base_simple\n",
      "Pulling delta list\n"
     ]
    },
    {
     "data": {
      "application/vnd.jupyter.widget-view+json": {
       "model_id": "6a1f906cc06344aeb8dd9ec74e208af0",
       "version_major": 2,
       "version_minor": 0
      },
      "text/plain": [
       "  0%|          | 0/9602 [00:00<?, ?it/s]"
      ]
     },
     "metadata": {},
     "output_type": "display_data"
    },
    {
     "name": "stdout",
     "output_type": "stream",
     "text": [
      "keys dict_keys(['true', 'pred'])\n",
      "gACH_0_0_base_simple_run_num__0\n",
      "0_base_simple\n",
      "Pulling delta list\n"
     ]
    },
    {
     "data": {
      "application/vnd.jupyter.widget-view+json": {
       "model_id": "1d623867adcb473c93ee14f8882dba5b",
       "version_major": 2,
       "version_minor": 0
      },
      "text/plain": [
       "  0%|          | 0/2076 [00:00<?, ?it/s]"
      ]
     },
     "metadata": {},
     "output_type": "display_data"
    },
    {
     "name": "stdout",
     "output_type": "stream",
     "text": [
      "keys dict_keys(['true', 'pred'])\n",
      "gACH_0_0_base_simple_run_num__0\n",
      "0_base_simple\n",
      "Pulling delta list\n"
     ]
    },
    {
     "data": {
      "application/vnd.jupyter.widget-view+json": {
       "model_id": "76397d783f77457ca8f52efe4374fb14",
       "version_major": 2,
       "version_minor": 0
      },
      "text/plain": [
       "  0%|          | 0/1296 [00:00<?, ?it/s]"
      ]
     },
     "metadata": {},
     "output_type": "display_data"
    },
    {
     "name": "stdout",
     "output_type": "stream",
     "text": [
      "keys dict_keys(['true', 'pred'])\n",
      "gACH_0_0_base_simple_run_num__0\n",
      "0_base_simple\n",
      "Pulling delta list\n"
     ]
    },
    {
     "data": {
      "application/vnd.jupyter.widget-view+json": {
       "model_id": "8778807cc6c8424ca68cea7495971dd0",
       "version_major": 2,
       "version_minor": 0
      },
      "text/plain": [
       "  0%|          | 0/1927 [00:00<?, ?it/s]"
      ]
     },
     "metadata": {},
     "output_type": "display_data"
    },
    {
     "name": "stdout",
     "output_type": "stream",
     "text": [
      "keys dict_keys(['true', 'pred'])\n",
      "gACH_0_0_base_simple_run_num__0\n",
      "0_base_simple\n",
      "Pulling delta list\n"
     ]
    },
    {
     "data": {
      "application/vnd.jupyter.widget-view+json": {
       "model_id": "c081ea92fd09411ba2469f895973d0c8",
       "version_major": 2,
       "version_minor": 0
      },
      "text/plain": [
       "  0%|          | 0/175 [00:00<?, ?it/s]"
      ]
     },
     "metadata": {},
     "output_type": "display_data"
    },
    {
     "name": "stdout",
     "output_type": "stream",
     "text": [
      "keys dict_keys(['true', 'pred'])\n",
      "gACH_0_0_base_simple_run_num__0\n",
      "0_base_simple\n",
      "Pulling delta list\n"
     ]
    },
    {
     "data": {
      "application/vnd.jupyter.widget-view+json": {
       "model_id": "05197b86c0d74dddba91f9eac9f5c518",
       "version_major": 2,
       "version_minor": 0
      },
      "text/plain": [
       "  0%|          | 0/862 [00:00<?, ?it/s]"
      ]
     },
     "metadata": {},
     "output_type": "display_data"
    },
    {
     "name": "stdout",
     "output_type": "stream",
     "text": [
      "keys dict_keys(['true', 'pred'])\n",
      "gACH_0_0_base_simple_run_num__0\n",
      "0_base_simple\n",
      "Pulling delta list\n"
     ]
    },
    {
     "data": {
      "application/vnd.jupyter.widget-view+json": {
       "model_id": "e19837a7e8cf4f45882311013c9a4165",
       "version_major": 2,
       "version_minor": 0
      },
      "text/plain": [
       "  0%|          | 0/1643 [00:00<?, ?it/s]"
      ]
     },
     "metadata": {},
     "output_type": "display_data"
    },
    {
     "name": "stdout",
     "output_type": "stream",
     "text": [
      "keys dict_keys(['true', 'pred'])\n",
      "gACH_0_0_base_simple_run_num__0\n",
      "0_base_simple\n",
      "Pulling delta list\n"
     ]
    },
    {
     "data": {
      "application/vnd.jupyter.widget-view+json": {
       "model_id": "4bac1f0a818742c28d85c41c66be3ff3",
       "version_major": 2,
       "version_minor": 0
      },
      "text/plain": [
       "  0%|          | 0/707 [00:00<?, ?it/s]"
      ]
     },
     "metadata": {},
     "output_type": "display_data"
    },
    {
     "name": "stdout",
     "output_type": "stream",
     "text": [
      "keys dict_keys(['true', 'pred'])\n",
      "gACH_0_0_base_simple_run_num__0\n",
      "0_base_simple\n",
      "Pulling delta list\n"
     ]
    },
    {
     "data": {
      "application/vnd.jupyter.widget-view+json": {
       "model_id": "698e79ca857c4716b32e9e1cb0bd7e15",
       "version_major": 2,
       "version_minor": 0
      },
      "text/plain": [
       "  0%|          | 0/12716 [00:00<?, ?it/s]"
      ]
     },
     "metadata": {},
     "output_type": "display_data"
    },
    {
     "name": "stdout",
     "output_type": "stream",
     "text": [
      "keys dict_keys(['true', 'pred'])\n",
      "gACH_0_0_base_simple_run_num__0\n",
      "0_base_simple\n",
      "Pulling delta list\n"
     ]
    },
    {
     "data": {
      "application/vnd.jupyter.widget-view+json": {
       "model_id": "20a69308d389499e85e3ef98a1164bad",
       "version_major": 2,
       "version_minor": 0
      },
      "text/plain": [
       "  0%|          | 0/5572 [00:00<?, ?it/s]"
      ]
     },
     "metadata": {},
     "output_type": "display_data"
    },
    {
     "name": "stdout",
     "output_type": "stream",
     "text": [
      "keys dict_keys(['true', 'pred'])\n",
      "gACH_0_8_base_words_run_num__0\n",
      "8_base_words\n",
      "Pulling delta list\n"
     ]
    },
    {
     "data": {
      "application/vnd.jupyter.widget-view+json": {
       "model_id": "c6a29abea7134b09bb6542d335ea4268",
       "version_major": 2,
       "version_minor": 0
      },
      "text/plain": [
       "  0%|          | 0/9602 [00:00<?, ?it/s]"
      ]
     },
     "metadata": {},
     "output_type": "display_data"
    },
    {
     "name": "stdout",
     "output_type": "stream",
     "text": [
      "keys dict_keys(['true', 'pred'])\n",
      "gACH_0_8_base_words_run_num__0\n",
      "8_base_words\n",
      "Pulling delta list\n"
     ]
    },
    {
     "data": {
      "application/vnd.jupyter.widget-view+json": {
       "model_id": "e9d884ebbeca489d8fc571eb21df6d9c",
       "version_major": 2,
       "version_minor": 0
      },
      "text/plain": [
       "  0%|          | 0/2076 [00:00<?, ?it/s]"
      ]
     },
     "metadata": {},
     "output_type": "display_data"
    },
    {
     "name": "stdout",
     "output_type": "stream",
     "text": [
      "keys dict_keys(['true', 'pred'])\n",
      "gACH_0_8_base_words_run_num__0\n",
      "8_base_words\n",
      "Pulling delta list\n"
     ]
    },
    {
     "data": {
      "application/vnd.jupyter.widget-view+json": {
       "model_id": "65d31c8e92784a93948a106c8e0867c6",
       "version_major": 2,
       "version_minor": 0
      },
      "text/plain": [
       "  0%|          | 0/1296 [00:00<?, ?it/s]"
      ]
     },
     "metadata": {},
     "output_type": "display_data"
    },
    {
     "name": "stdout",
     "output_type": "stream",
     "text": [
      "keys dict_keys(['true', 'pred'])\n",
      "gACH_0_8_base_words_run_num__0\n",
      "8_base_words\n",
      "Pulling delta list\n"
     ]
    },
    {
     "data": {
      "application/vnd.jupyter.widget-view+json": {
       "model_id": "32dbede54a1645ebbe571a23028707c2",
       "version_major": 2,
       "version_minor": 0
      },
      "text/plain": [
       "  0%|          | 0/1927 [00:00<?, ?it/s]"
      ]
     },
     "metadata": {},
     "output_type": "display_data"
    },
    {
     "name": "stdout",
     "output_type": "stream",
     "text": [
      "keys dict_keys(['true', 'pred'])\n",
      "gACH_0_8_base_words_run_num__0\n",
      "8_base_words\n",
      "Pulling delta list\n"
     ]
    },
    {
     "data": {
      "application/vnd.jupyter.widget-view+json": {
       "model_id": "0af5cc5ab5184544afaa1c289ea21db7",
       "version_major": 2,
       "version_minor": 0
      },
      "text/plain": [
       "  0%|          | 0/175 [00:00<?, ?it/s]"
      ]
     },
     "metadata": {},
     "output_type": "display_data"
    },
    {
     "name": "stdout",
     "output_type": "stream",
     "text": [
      "keys dict_keys(['true', 'pred'])\n",
      "gACH_0_8_base_words_run_num__0\n",
      "8_base_words\n",
      "Pulling delta list\n"
     ]
    },
    {
     "data": {
      "application/vnd.jupyter.widget-view+json": {
       "model_id": "6c060b7f301a44aea0eb799eda993948",
       "version_major": 2,
       "version_minor": 0
      },
      "text/plain": [
       "  0%|          | 0/862 [00:00<?, ?it/s]"
      ]
     },
     "metadata": {},
     "output_type": "display_data"
    },
    {
     "name": "stdout",
     "output_type": "stream",
     "text": [
      "keys dict_keys(['true', 'pred'])\n",
      "gACH_0_8_base_words_run_num__0\n",
      "8_base_words\n",
      "Pulling delta list\n"
     ]
    },
    {
     "data": {
      "application/vnd.jupyter.widget-view+json": {
       "model_id": "dee7b128dcab4f2c9c9ae7b4e71ab246",
       "version_major": 2,
       "version_minor": 0
      },
      "text/plain": [
       "  0%|          | 0/1643 [00:00<?, ?it/s]"
      ]
     },
     "metadata": {},
     "output_type": "display_data"
    },
    {
     "name": "stdout",
     "output_type": "stream",
     "text": [
      "keys dict_keys(['true', 'pred'])\n",
      "gACH_0_8_base_words_run_num__0\n",
      "8_base_words\n",
      "Pulling delta list\n"
     ]
    },
    {
     "data": {
      "application/vnd.jupyter.widget-view+json": {
       "model_id": "cddd3024662a4f0fb3f1cc7f774c4e94",
       "version_major": 2,
       "version_minor": 0
      },
      "text/plain": [
       "  0%|          | 0/707 [00:00<?, ?it/s]"
      ]
     },
     "metadata": {},
     "output_type": "display_data"
    },
    {
     "name": "stdout",
     "output_type": "stream",
     "text": [
      "keys dict_keys(['true', 'pred'])\n",
      "gACH_0_8_base_words_run_num__0\n",
      "8_base_words\n",
      "Pulling delta list\n"
     ]
    },
    {
     "data": {
      "application/vnd.jupyter.widget-view+json": {
       "model_id": "4ffbeca3c09841c7ad34af87c2671288",
       "version_major": 2,
       "version_minor": 0
      },
      "text/plain": [
       "  0%|          | 0/12716 [00:00<?, ?it/s]"
      ]
     },
     "metadata": {},
     "output_type": "display_data"
    },
    {
     "name": "stdout",
     "output_type": "stream",
     "text": [
      "keys dict_keys(['true', 'pred'])\n",
      "gACH_0_8_base_words_run_num__0\n",
      "8_base_words\n",
      "Pulling delta list\n"
     ]
    },
    {
     "data": {
      "application/vnd.jupyter.widget-view+json": {
       "model_id": "7fb35db4fa5e443cbfcdda5cdab640e1",
       "version_major": 2,
       "version_minor": 0
      },
      "text/plain": [
       "  0%|          | 0/5572 [00:00<?, ?it/s]"
      ]
     },
     "metadata": {},
     "output_type": "display_data"
    },
    {
     "name": "stdout",
     "output_type": "stream",
     "text": [
      "keys dict_keys(['true', 'pred'])\n",
      "rDA_1_0_base_simple_run_num__0\n",
      "0_base_simple\n",
      "Pulling delta list\n"
     ]
    },
    {
     "data": {
      "application/vnd.jupyter.widget-view+json": {
       "model_id": "ae5240562b7544dc81fc4980e8d7aa6c",
       "version_major": 2,
       "version_minor": 0
      },
      "text/plain": [
       "  0%|          | 0/9602 [00:00<?, ?it/s]"
      ]
     },
     "metadata": {},
     "output_type": "display_data"
    },
    {
     "name": "stdout",
     "output_type": "stream",
     "text": [
      "keys dict_keys(['true', 'pred'])\n",
      "rDA_1_0_base_simple_run_num__0\n",
      "0_base_simple\n",
      "Pulling delta list\n"
     ]
    },
    {
     "data": {
      "application/vnd.jupyter.widget-view+json": {
       "model_id": "189421fb98e24404af776547bbd92f5f",
       "version_major": 2,
       "version_minor": 0
      },
      "text/plain": [
       "  0%|          | 0/2076 [00:00<?, ?it/s]"
      ]
     },
     "metadata": {},
     "output_type": "display_data"
    },
    {
     "name": "stdout",
     "output_type": "stream",
     "text": [
      "keys dict_keys(['true', 'pred'])\n",
      "rDA_1_0_base_simple_run_num__0\n",
      "0_base_simple\n",
      "Pulling delta list\n"
     ]
    },
    {
     "data": {
      "application/vnd.jupyter.widget-view+json": {
       "model_id": "dc541d14d6034f988da7e64ece41d1b1",
       "version_major": 2,
       "version_minor": 0
      },
      "text/plain": [
       "  0%|          | 0/1296 [00:00<?, ?it/s]"
      ]
     },
     "metadata": {},
     "output_type": "display_data"
    },
    {
     "name": "stdout",
     "output_type": "stream",
     "text": [
      "keys dict_keys(['true', 'pred'])\n",
      "rDA_1_0_base_simple_run_num__0\n",
      "0_base_simple\n",
      "Pulling delta list\n"
     ]
    },
    {
     "data": {
      "application/vnd.jupyter.widget-view+json": {
       "model_id": "f259420358fc4b54896b936b4b7328cc",
       "version_major": 2,
       "version_minor": 0
      },
      "text/plain": [
       "  0%|          | 0/1927 [00:00<?, ?it/s]"
      ]
     },
     "metadata": {},
     "output_type": "display_data"
    },
    {
     "name": "stdout",
     "output_type": "stream",
     "text": [
      "keys dict_keys(['true', 'pred'])\n",
      "rDA_1_0_base_simple_run_num__0\n",
      "0_base_simple\n",
      "Pulling delta list\n"
     ]
    },
    {
     "data": {
      "application/vnd.jupyter.widget-view+json": {
       "model_id": "05780d7b055449b8a406d6bf31f9a503",
       "version_major": 2,
       "version_minor": 0
      },
      "text/plain": [
       "  0%|          | 0/175 [00:00<?, ?it/s]"
      ]
     },
     "metadata": {},
     "output_type": "display_data"
    },
    {
     "name": "stdout",
     "output_type": "stream",
     "text": [
      "keys dict_keys(['true', 'pred'])\n",
      "rDA_1_0_base_simple_run_num__0\n",
      "0_base_simple\n",
      "Pulling delta list\n"
     ]
    },
    {
     "data": {
      "application/vnd.jupyter.widget-view+json": {
       "model_id": "6903b1d5011a49989424143a1126ddde",
       "version_major": 2,
       "version_minor": 0
      },
      "text/plain": [
       "  0%|          | 0/862 [00:00<?, ?it/s]"
      ]
     },
     "metadata": {},
     "output_type": "display_data"
    },
    {
     "name": "stdout",
     "output_type": "stream",
     "text": [
      "keys dict_keys(['true', 'pred'])\n",
      "rDA_1_0_base_simple_run_num__0\n",
      "0_base_simple\n",
      "Pulling delta list\n"
     ]
    },
    {
     "data": {
      "application/vnd.jupyter.widget-view+json": {
       "model_id": "ca3435e59b5147b8b65823389190b18a",
       "version_major": 2,
       "version_minor": 0
      },
      "text/plain": [
       "  0%|          | 0/1643 [00:00<?, ?it/s]"
      ]
     },
     "metadata": {},
     "output_type": "display_data"
    },
    {
     "name": "stdout",
     "output_type": "stream",
     "text": [
      "keys dict_keys(['true', 'pred'])\n",
      "rDA_1_0_base_simple_run_num__0\n",
      "0_base_simple\n",
      "Pulling delta list\n"
     ]
    },
    {
     "data": {
      "application/vnd.jupyter.widget-view+json": {
       "model_id": "bf593f7d4783438d81b8e9cd3cb051a7",
       "version_major": 2,
       "version_minor": 0
      },
      "text/plain": [
       "  0%|          | 0/707 [00:00<?, ?it/s]"
      ]
     },
     "metadata": {},
     "output_type": "display_data"
    },
    {
     "name": "stdout",
     "output_type": "stream",
     "text": [
      "keys dict_keys(['true', 'pred'])\n",
      "rDA_1_0_base_simple_run_num__0\n",
      "0_base_simple\n",
      "Pulling delta list\n"
     ]
    },
    {
     "data": {
      "application/vnd.jupyter.widget-view+json": {
       "model_id": "a5eef08affad435691e47a1623aab4d4",
       "version_major": 2,
       "version_minor": 0
      },
      "text/plain": [
       "  0%|          | 0/12716 [00:00<?, ?it/s]"
      ]
     },
     "metadata": {},
     "output_type": "display_data"
    },
    {
     "name": "stdout",
     "output_type": "stream",
     "text": [
      "keys dict_keys(['true', 'pred'])\n",
      "rDA_1_0_base_simple_run_num__0\n",
      "0_base_simple\n",
      "Pulling delta list\n"
     ]
    },
    {
     "data": {
      "application/vnd.jupyter.widget-view+json": {
       "model_id": "21baa29478154b1da3ddfd31ff78fad7",
       "version_major": 2,
       "version_minor": 0
      },
      "text/plain": [
       "  0%|          | 0/5572 [00:00<?, ?it/s]"
      ]
     },
     "metadata": {},
     "output_type": "display_data"
    },
    {
     "name": "stdout",
     "output_type": "stream",
     "text": [
      "keys dict_keys(['true', 'pred'])\n",
      "rDA_1_8_base_words_run_num__0\n",
      "8_base_words\n",
      "Pulling delta list\n"
     ]
    },
    {
     "data": {
      "application/vnd.jupyter.widget-view+json": {
       "model_id": "143401cbb0d84b3b8fa3857209d3f7a2",
       "version_major": 2,
       "version_minor": 0
      },
      "text/plain": [
       "  0%|          | 0/9602 [00:00<?, ?it/s]"
      ]
     },
     "metadata": {},
     "output_type": "display_data"
    },
    {
     "name": "stdout",
     "output_type": "stream",
     "text": [
      "keys dict_keys(['true', 'pred'])\n",
      "rDA_1_8_base_words_run_num__0\n",
      "8_base_words\n",
      "Pulling delta list\n"
     ]
    },
    {
     "data": {
      "application/vnd.jupyter.widget-view+json": {
       "model_id": "b6b5ddd678a44280a6f39c1be46164a2",
       "version_major": 2,
       "version_minor": 0
      },
      "text/plain": [
       "  0%|          | 0/2076 [00:00<?, ?it/s]"
      ]
     },
     "metadata": {},
     "output_type": "display_data"
    },
    {
     "name": "stdout",
     "output_type": "stream",
     "text": [
      "keys dict_keys(['true', 'pred'])\n",
      "rDA_1_8_base_words_run_num__0\n",
      "8_base_words\n",
      "Pulling delta list\n"
     ]
    },
    {
     "data": {
      "application/vnd.jupyter.widget-view+json": {
       "model_id": "a084a535c1504f51b4e316f2d2866cc0",
       "version_major": 2,
       "version_minor": 0
      },
      "text/plain": [
       "  0%|          | 0/1296 [00:00<?, ?it/s]"
      ]
     },
     "metadata": {},
     "output_type": "display_data"
    },
    {
     "name": "stdout",
     "output_type": "stream",
     "text": [
      "keys dict_keys(['true', 'pred'])\n",
      "rDA_1_8_base_words_run_num__0\n",
      "8_base_words\n",
      "Pulling delta list\n"
     ]
    },
    {
     "data": {
      "application/vnd.jupyter.widget-view+json": {
       "model_id": "5af3ec9e84b74b74b0a7ae4255fca422",
       "version_major": 2,
       "version_minor": 0
      },
      "text/plain": [
       "  0%|          | 0/1927 [00:00<?, ?it/s]"
      ]
     },
     "metadata": {},
     "output_type": "display_data"
    },
    {
     "name": "stdout",
     "output_type": "stream",
     "text": [
      "keys dict_keys(['true', 'pred'])\n",
      "rDA_1_8_base_words_run_num__0\n",
      "8_base_words\n",
      "Pulling delta list\n"
     ]
    },
    {
     "data": {
      "application/vnd.jupyter.widget-view+json": {
       "model_id": "e2f48ca25628443d8376393536d4619d",
       "version_major": 2,
       "version_minor": 0
      },
      "text/plain": [
       "  0%|          | 0/175 [00:00<?, ?it/s]"
      ]
     },
     "metadata": {},
     "output_type": "display_data"
    },
    {
     "name": "stdout",
     "output_type": "stream",
     "text": [
      "keys dict_keys(['true', 'pred'])\n",
      "rDA_1_8_base_words_run_num__0\n",
      "8_base_words\n",
      "Pulling delta list\n"
     ]
    },
    {
     "data": {
      "application/vnd.jupyter.widget-view+json": {
       "model_id": "3ac816a28ea44f57bbae88c724df9e51",
       "version_major": 2,
       "version_minor": 0
      },
      "text/plain": [
       "  0%|          | 0/862 [00:00<?, ?it/s]"
      ]
     },
     "metadata": {},
     "output_type": "display_data"
    },
    {
     "name": "stdout",
     "output_type": "stream",
     "text": [
      "keys dict_keys(['true', 'pred'])\n",
      "rDA_1_8_base_words_run_num__0\n",
      "8_base_words\n",
      "Pulling delta list\n"
     ]
    },
    {
     "data": {
      "application/vnd.jupyter.widget-view+json": {
       "model_id": "d947849db8aa4b808a8e56f7c9139546",
       "version_major": 2,
       "version_minor": 0
      },
      "text/plain": [
       "  0%|          | 0/1643 [00:00<?, ?it/s]"
      ]
     },
     "metadata": {},
     "output_type": "display_data"
    },
    {
     "name": "stdout",
     "output_type": "stream",
     "text": [
      "keys dict_keys(['true', 'pred'])\n",
      "rDA_1_8_base_words_run_num__0\n",
      "8_base_words\n",
      "Pulling delta list\n"
     ]
    },
    {
     "data": {
      "application/vnd.jupyter.widget-view+json": {
       "model_id": "18929583c54141b68d745b2d1f7ab9f8",
       "version_major": 2,
       "version_minor": 0
      },
      "text/plain": [
       "  0%|          | 0/707 [00:00<?, ?it/s]"
      ]
     },
     "metadata": {},
     "output_type": "display_data"
    },
    {
     "name": "stdout",
     "output_type": "stream",
     "text": [
      "keys dict_keys(['true', 'pred'])\n",
      "rDA_1_8_base_words_run_num__0\n",
      "8_base_words\n",
      "Pulling delta list\n"
     ]
    },
    {
     "data": {
      "application/vnd.jupyter.widget-view+json": {
       "model_id": "06a92344434647f28f2272d5f835bc00",
       "version_major": 2,
       "version_minor": 0
      },
      "text/plain": [
       "  0%|          | 0/12716 [00:00<?, ?it/s]"
      ]
     },
     "metadata": {},
     "output_type": "display_data"
    },
    {
     "name": "stdout",
     "output_type": "stream",
     "text": [
      "keys dict_keys(['true', 'pred'])\n",
      "rDA_1_8_base_words_run_num__0\n",
      "8_base_words\n",
      "Pulling delta list\n"
     ]
    },
    {
     "data": {
      "application/vnd.jupyter.widget-view+json": {
       "model_id": "b721977a83b14693a9114e3291f8926c",
       "version_major": 2,
       "version_minor": 0
      },
      "text/plain": [
       "  0%|          | 0/5572 [00:00<?, ?it/s]"
      ]
     },
     "metadata": {},
     "output_type": "display_data"
    },
    {
     "name": "stdout",
     "output_type": "stream",
     "text": [
      "keys dict_keys(['true', 'pred'])\n",
      "gDA_2_0_base_simple_run_num__0\n",
      "0_base_simple\n",
      "Pulling delta list\n"
     ]
    },
    {
     "data": {
      "application/vnd.jupyter.widget-view+json": {
       "model_id": "6b40c9637719425ebd2613c914e144eb",
       "version_major": 2,
       "version_minor": 0
      },
      "text/plain": [
       "  0%|          | 0/9602 [00:00<?, ?it/s]"
      ]
     },
     "metadata": {},
     "output_type": "display_data"
    },
    {
     "name": "stdout",
     "output_type": "stream",
     "text": [
      "keys dict_keys(['true', 'pred'])\n",
      "gDA_2_0_base_simple_run_num__0\n",
      "0_base_simple\n",
      "Pulling delta list\n"
     ]
    },
    {
     "data": {
      "application/vnd.jupyter.widget-view+json": {
       "model_id": "bfc0304e3c134ef3b47ae2f53ce46b41",
       "version_major": 2,
       "version_minor": 0
      },
      "text/plain": [
       "  0%|          | 0/2076 [00:00<?, ?it/s]"
      ]
     },
     "metadata": {},
     "output_type": "display_data"
    },
    {
     "name": "stdout",
     "output_type": "stream",
     "text": [
      "keys dict_keys(['true', 'pred'])\n",
      "gDA_2_0_base_simple_run_num__0\n",
      "0_base_simple\n",
      "Pulling delta list\n"
     ]
    },
    {
     "data": {
      "application/vnd.jupyter.widget-view+json": {
       "model_id": "77ebfbca385f42f2beaa72e738aabea4",
       "version_major": 2,
       "version_minor": 0
      },
      "text/plain": [
       "  0%|          | 0/1296 [00:00<?, ?it/s]"
      ]
     },
     "metadata": {},
     "output_type": "display_data"
    },
    {
     "name": "stdout",
     "output_type": "stream",
     "text": [
      "keys dict_keys(['true', 'pred'])\n",
      "gDA_2_0_base_simple_run_num__0\n",
      "0_base_simple\n",
      "Pulling delta list\n"
     ]
    },
    {
     "data": {
      "application/vnd.jupyter.widget-view+json": {
       "model_id": "cfe2712f0211403cb814cedf3f12e833",
       "version_major": 2,
       "version_minor": 0
      },
      "text/plain": [
       "  0%|          | 0/1927 [00:00<?, ?it/s]"
      ]
     },
     "metadata": {},
     "output_type": "display_data"
    }
   ],
   "source": [
    "# base_location = Path(r'/Users/josh/Documents/Harvard/GLM/sabatinilab-glm/sglm/outputs')\n",
    "base_location = Path(r'C:\\Users\\Josh\\Documents\\GitHub\\sabatinilab-glm\\sglm\\outputs')\n",
    "\n",
    "# fig_folder_lst = [('Figure_1_2', 'f1*-ft'),\n",
    "#                   ('Figure_3',   'f3*-ft'),\n",
    "#                   ('Figure_4_g1',   'f4*-ft'),\n",
    "#                   ('Figure_4_g2',   'f4*-ft'),\n",
    "#                   ('Figure_5_g1',   'f5*-ft'),\n",
    "#                   ('Figure_5_g2',   'f5*-ft'),\n",
    "#                   ('Figure_5_g5',   'f5*-ft'),\n",
    "#                  ]\n",
    "fig_folder_lst = [('Figure_1_2', 'f1*-ft'),\n",
    "                  ('Figure_3',   'f3*-ft'),\n",
    "                  ('Figure_4_g1',   'f4*-ft'),\n",
    "                  ('Figure_4_g2',   'f4*-ft'),\n",
    "                  ('Figure_5_g1',   'f5*-ft'),\n",
    "                  ('Figure_5_g2',   'f5*-ft'),\n",
    "                  ('Figure_5_g5',   'f5*-ft'),\n",
    "                 ]\n",
    "\n",
    "for fig_folder in fig_folder_lst:\n",
    "    print('fig_folder', fig_folder)\n",
    "    \n",
    "    load_folder = base_location / Path(fig_folder[0])\n",
    "    # load_folder = base_location / Path(r'tmp')\n",
    "    h5_recons_locations = str((load_folder / Path('all') / Path(fig_folder[1]) / Path(r'reconstructs\\best_resids_*.h5')).resolve())\n",
    "    \n",
    "#     print(h5_recons_locations)\n",
    "    \n",
    "#     load_folder = base_location / Path(r'Figure_1_2')\n",
    "#     # load_folder = base_location / Path(r'tmp')\n",
    "#     h5_recons_locations = str((load_folder / Path(r'all\\f1*-ft\\reconstructs\\best_resids_*.h5')).resolve())\n",
    "#     # h5_recons_locations = str((load_folder / Path(r'all/f1*-ft/reconstructs/best_resids_*.h5')).resolve())\n",
    "#     # load_folder = base_location / Path(r'Figure_3')\n",
    "#     # h5_beta_locations = str((load_folder / Path(r'all\\f3*-ft\\reconstructs\\best_resids_*.h5')).resolve())\n",
    "#     # load_folder = base_location / Path(r'Figure_4_g1')\n",
    "#     # h5_beta_locations = str((load_folder / Path(r'all\\f4*-ft\\reconstructs\\best_resids_*.h5')).resolve())\n",
    "#     # load_folder = base_location / Path(r'Figure_4_g2')\n",
    "#     # h5_beta_locations = str((load_folder / Path(r'all\\f4*-ft\\reconstructs\\best_resids_*.h5')).resolve())\n",
    "#     # load_folder = base_location / Path(r'Figure_5_g1')\n",
    "#     # h5_beta_locations = str((load_folder / Path(r'all\\f5*-ft\\reconstructs\\best_resids_*.h5')).resolve())\n",
    "#     # load_folder = base_location / Path(r'Figure_5_g2')\n",
    "#     # h5_beta_locations = str((load_folder / Path(r'all\\f5*-ft\\coefs\\*_best_coeffs.h5')).resolve())\n",
    "#     # load_folder = base_location / Path(r'Figure_5_g5')\n",
    "#     # h5_beta_locations = str((load_folder / Path(r'all\\f5*-ft\\coefs\\*_best_coeffs.h5')).resolve())\n",
    "\n",
    "    out_folder = base_location / Path(r'final_outputs_rev')\n",
    "\n",
    "    out_loc = str((out_folder).resolve())\n",
    "    h5_recons_locations = glob.glob(h5_recons_locations)\n",
    "\n",
    "    fh.create_folder_if_not_exists(out_loc)\n",
    "    \n",
    "    h5_lst = defaultdict(dict)\n",
    "#     run_id_dct = defaultdict(dict)\n",
    "\n",
    "\n",
    "    for ih5, h5_coef_fn in enumerate(h5_recons_locations):\n",
    "        h5f = pd.HDFStore(h5_coef_fn)\n",
    "        h5fk = h5f.keys()\n",
    "        for ik, key in enumerate(h5fk):\n",
    "            key = key.replace('/', '')\n",
    "            resp = key.split('_')[0]\n",
    "            model_version = '_'.join(key.split('_')[3:]).split('_run_num')[0]\n",
    "            \n",
    "\n",
    "            if 'run_num' in key and 'run_num__0' not in key: #and 'run_num__1' not in key:\n",
    "                continue\n",
    "            if 'base_simple' not in model_version and 'base_words' not in model_version and '_to_' not in model_version and 'basis' not in key:\n",
    "                continue\n",
    "            \n",
    "#             print('model_version', model_version)\n",
    "            \n",
    "#             print(key, model_version)\n",
    "#             print(f'ih5, ik, model_version, key, h5_coef_fn - {ih5}, {ik}, {model_version}, {key}, {h5_coef_fn}')\n",
    "\n",
    "            y_col = key.split('_')[0].replace(r'/', r'')\n",
    "            \n",
    "            h5_df = pd.read_hdf(h5f, key)\n",
    "\n",
    "            h5_df.columns = [dfh.shorten_col_name(_) for _ in h5_df.columns]\n",
    "\n",
    "            if 'dfrel_basis' != key.replace('/', ''):\n",
    "                h5_df.columns = [_.split('_')[0] for _ in h5_df.columns]\n",
    "                h5_df['true'] = h5_lst[ih5]['dfrel'][y_col]\n",
    "\n",
    "                h5_df['file_num'] = h5_lst[ih5]['dfrel']['file_num']\n",
    "\n",
    "                h5_df['dupe'] = h5_lst[ih5]['dfrel']['dupe']\n",
    "                h5_df['wi_trial_keep'] = h5_lst[ih5]['dfrel']['wi_trial_keep']\n",
    "\n",
    "                h5_lst[ih5][key] = h5_df\n",
    "            else:\n",
    "                h5_lst[ih5]['dfrel'] = h5_df\n",
    "\n",
    "#     for k in h5_lst:\n",
    "#         for kk in h5_lst[k]:\n",
    "#             print(k, kk)\n",
    "\n",
    "\n",
    "\n",
    "    for ih5 in h5_lst:\n",
    "#     for y_col in ['gACH', 'rDA', 'gDA']:\n",
    "#             fig,axes = plt.subplots(5,2,figsize=(10,30))\n",
    "\n",
    "        for key in h5_lst[ih5]:\n",
    "#         for y_col in ['gACH', 'rDA', 'gDA']:\n",
    "#         for ih5 in h5_lst:\n",
    "            if key == 'dfrel':\n",
    "                continue\n",
    "\n",
    "            combo_rdc = {}\n",
    "            for iac, alignment_col in enumerate(all_alignment_cols):\n",
    "    #                 ic, ir = iac%2, iac//2\n",
    "    #                 ax = axes[ir, ic]\n",
    "\n",
    "                \n",
    "                resp = key.split('_')[0].replace('/', '')\n",
    "                model_version = '_'.join(key.split('_')[2:]).split('_run_num')[0]\n",
    "                model_version = model_version.replace('5_base_words_gDA_to_gACH', '5_base_words_rDA_to_gACH')\n",
    "                print(key)\n",
    "                print(model_version)\n",
    "#                 break\n",
    "#             break\n",
    "#         break\n",
    "#     break\n",
    "                y_col = key.split('_')[0].replace(r'/', r'')\n",
    "                \n",
    "                dupe = h5_lst[ih5]['dfrel']['dupe']\n",
    "                dfrel_basis = h5_lst[ih5]['dfrel'].loc[~dupe]\n",
    "                dfrel_basis_run = h5_lst[ih5][key].loc[~dupe]\n",
    "\n",
    "                print('Pulling delta list')\n",
    "                keep_rows, assoc_deltas = get_delta_list(dfrel_basis[alignment_col], alignment_col, ((dfrel_basis_run['holdout']==1)).astype(bool))\n",
    "                rdc_lst = defaultdict(list)\n",
    "                for entry_num in trange(len(keep_rows)):\n",
    "                    keep_row_single = keep_rows[entry_num]\n",
    "                    deltas = assoc_deltas[entry_num]\n",
    "                    rdc_df = dfrel_basis_run.loc[keep_row_single].set_index(deltas)\n",
    "\n",
    "                    if rdc_df['file_num'].nunique() > 1:\n",
    "                        continue\n",
    "\n",
    "                    reconstruction_data_list = []\n",
    "\n",
    "                    for bootstrap_col in ['true', 'pred']:\n",
    "                        rdc_lst[bootstrap_col].append(rdc_df[[bootstrap_col]])\n",
    "\n",
    "                print('keys', rdc_lst.keys())\n",
    "\n",
    "                seed = np.random.randint(1000000000)\n",
    "                for bootstrap_col in (rdc_lst):\n",
    "                    tmp_rdc = pd.concat(rdc_lst[bootstrap_col], axis=1).sort_index()\n",
    "\n",
    "                    reconstruction_data_list = []\n",
    "                    for delta in (tmp_rdc.index):\n",
    "                        row = tmp_rdc.loc[delta].dropna().values\n",
    "                        bs = scipy.stats.bootstrap((row,), np.mean, n_resamples=9999,\n",
    "    #                     bs = scipy.stats.bootstrap((row,), np.mean, n_resamples=1000,\n",
    "                                                   batch=None, vectorized=True, paired=False,\n",
    "                                                   axis=0, confidence_level=0.95, method='BCa',\n",
    "                                                   random_state=seed)\n",
    "\n",
    "                        mn_val = row.mean()\n",
    "                        rtup = (bootstrap_col, delta, bs.confidence_interval.low, mn_val, bs.confidence_interval.high)\n",
    "\n",
    "                        reconstruction_data_list.append(rtup)\n",
    "\n",
    "                    tmp_combo_rdc = pd.DataFrame(reconstruction_data_list, columns=['basis_column', 'delta', 'lb', 'mn', 'ub']).set_index('delta')\n",
    "                    combo_rdc[f'{alignment_col}_{bootstrap_col}'] = tmp_combo_rdc.drop('basis_column',axis=1)\n",
    "\n",
    "            combo_rdc = pd.concat(combo_rdc, axis=1)\n",
    "            combo_rdc.columns = ['_'.join(_).replace('_true_', '_T_').replace('_pred_', '_P_') for _ in combo_rdc.columns]\n",
    "            combo_rdc.to_csv(str((Path(out_loc) / f'{load_folder.parts[-1]}-reconstruct-{y_col}={model_version}.csv').resolve()))\n"
   ]
  },
  {
   "cell_type": "code",
   "execution_count": null,
   "metadata": {},
   "outputs": [],
   "source": [
    "combo_rdc"
   ]
  },
  {
   "cell_type": "code",
   "execution_count": null,
   "metadata": {},
   "outputs": [],
   "source": [
    "# for k in h5_lst:\n",
    "#     for kk in h5_lst[k]:\n",
    "#         print(k, kk)\n",
    "# #         display(h5_lst[k][kk])\n",
    "# #     break"
   ]
  },
  {
   "cell_type": "code",
   "execution_count": null,
   "metadata": {},
   "outputs": [],
   "source": [
    "# [len(h5_lst['dfrel'][_]) for _ in range(len(h5_lst['dfrel']))], [len(h5_lst[y_col][_]) for _ in range(len(h5_lst[y_col]))]"
   ]
  },
  {
   "cell_type": "code",
   "execution_count": null,
   "metadata": {},
   "outputs": [],
   "source": [
    "# len(dupe), len(h5_lst[y_col][i])"
   ]
  },
  {
   "cell_type": "code",
   "execution_count": null,
   "metadata": {},
   "outputs": [],
   "source": []
  },
  {
   "cell_type": "code",
   "execution_count": null,
   "metadata": {},
   "outputs": [],
   "source": [
    "combo_rdc[[_ for _ in combo_rdc.columns if '_mn' in _]].plot()"
   ]
  },
  {
   "cell_type": "code",
   "execution_count": null,
   "metadata": {},
   "outputs": [],
   "source": []
  },
  {
   "cell_type": "code",
   "execution_count": null,
   "metadata": {},
   "outputs": [],
   "source": [
    "y_col, model_version"
   ]
  },
  {
   "cell_type": "code",
   "execution_count": null,
   "metadata": {},
   "outputs": [],
   "source": [
    "# run_id_dct[y_col]"
   ]
  },
  {
   "cell_type": "code",
   "execution_count": null,
   "metadata": {},
   "outputs": [],
   "source": []
  },
  {
   "cell_type": "code",
   "execution_count": null,
   "metadata": {},
   "outputs": [],
   "source": []
  },
  {
   "cell_type": "code",
   "execution_count": null,
   "metadata": {},
   "outputs": [],
   "source": [
    "# # base_location = Path(r'/Users/josh/Documents/Harvard/GLM/sabatinilab-glm/sglm/outputs')\n",
    "# base_location = Path(r'C:\\Users\\Josh\\Documents\\GitHub\\sabatinilab-glm\\sglm\\outputs')\n",
    "\n",
    "# fig_folder_lst = [#('Figure_1_2', 'f1*-ft'),\n",
    "#                   #('Figure_3',   'f3*-ft'),\n",
    "#                   #('Figure_4_g1',   'f4*-ft'),\n",
    "#                   ('Figure_4_g2',   'f4*-ft'),\n",
    "#                   #('Figure_5_g1',   'f5*-ft'),\n",
    "#                   #('Figure_5_g2',   'f5*-ft'),\n",
    "#                   #('Figure_5_g5',   'f5*-ft'),\n",
    "#                  ]\n",
    "\n",
    "# for fig_folder in fig_folder_lst:\n",
    "#     print('fig_folder', fig_folder)\n",
    "    \n",
    "#     load_folder = base_location / Path(fig_folder[0])\n",
    "#     # load_folder = base_location / Path(r'tmp')\n",
    "#     h5_recons_locations = str((load_folder / Path('all') / Path(fig_folder[1]) / Path(r'reconstructs\\best_resids_*.h5')).resolve())\n",
    "    \n",
    "#     print(h5_recons_locations)\n",
    "    \n",
    "# #     load_folder = base_location / Path(r'Figure_1_2')\n",
    "# #     # load_folder = base_location / Path(r'tmp')\n",
    "# #     h5_recons_locations = str((load_folder / Path(r'all\\f1*-ft\\reconstructs\\best_resids_*.h5')).resolve())\n",
    "# #     # h5_recons_locations = str((load_folder / Path(r'all/f1*-ft/reconstructs/best_resids_*.h5')).resolve())\n",
    "# #     # load_folder = base_location / Path(r'Figure_3')\n",
    "# #     # h5_beta_locations = str((load_folder / Path(r'all\\f3*-ft\\reconstructs\\best_resids_*.h5')).resolve())\n",
    "# #     # load_folder = base_location / Path(r'Figure_4_g1')\n",
    "# #     # h5_beta_locations = str((load_folder / Path(r'all\\f4*-ft\\reconstructs\\best_resids_*.h5')).resolve())\n",
    "# #     # load_folder = base_location / Path(r'Figure_4_g2')\n",
    "# #     # h5_beta_locations = str((load_folder / Path(r'all\\f4*-ft\\reconstructs\\best_resids_*.h5')).resolve())\n",
    "# #     # load_folder = base_location / Path(r'Figure_5_g1')\n",
    "# #     # h5_beta_locations = str((load_folder / Path(r'all\\f5*-ft\\reconstructs\\best_resids_*.h5')).resolve())\n",
    "# #     # load_folder = base_location / Path(r'Figure_5_g2')\n",
    "# #     # h5_beta_locations = str((load_folder / Path(r'all\\f5*-ft\\coefs\\*_best_coeffs.h5')).resolve())\n",
    "# #     # load_folder = base_location / Path(r'Figure_5_g5')\n",
    "# #     # h5_beta_locations = str((load_folder / Path(r'all\\f5*-ft\\coefs\\*_best_coeffs.h5')).resolve())\n",
    "\n",
    "#     out_folder = base_location / Path(r'final_outputs')\n",
    "\n",
    "#     out_loc = str((out_folder).resolve())\n",
    "#     h5_recons_locations = glob.glob(h5_recons_locations)\n",
    "\n",
    "\n",
    "#     h5_lst = defaultdict(list)\n",
    "#     run_id_dct = defaultdict(list)\n",
    "\n",
    "\n",
    "#     for h5_coef_fn in h5_recons_locations:\n",
    "#         h5f = pd.HDFStore(h5_coef_fn)\n",
    "#         h5fk = h5f.keys()\n",
    "#         for key in h5fk:\n",
    "\n",
    "#             resp = key.split('_')[0].replace('/', '')\n",
    "#             model_version = '_'.join(key.split('_')[3:]).split('_run_num')[0]\n",
    "\n",
    "#             if 'run_num' in key and 'run_num__0' not in key: #and 'run_num__1' not in key:\n",
    "#                 continue\n",
    "#             if 'base_simple' not in key and 'base_words' not in key and 'basis' not in key:\n",
    "#                 continue\n",
    "#             print(key, model_version)\n",
    "\n",
    "#             y_col = key.split('_')[0].replace(r'/', r'')\n",
    "#             h5_df = pd.read_hdf(h5f, key)\n",
    "\n",
    "#             h5_df.columns = [dfh.shorten_col_name(_) for _ in h5_df.columns]\n",
    "\n",
    "#             if 'dfrel_basis' != key.replace('/', ''):\n",
    "#                 h5_df.columns = [_.split('_')[0] for _ in h5_df.columns]\n",
    "#                 h5_df['true'] = h5_lst['dfrel'][-1][y_col]\n",
    "#                 h5_df['resid2'] = (h5_df['true'] - h5_df['pred'])**2\n",
    "\n",
    "#                 h5_df['file_num'] = h5_lst['dfrel'][-1]['file_num']\n",
    "\n",
    "#                 h5_df['dupe'] = h5_lst['dfrel'][-1]['dupe']\n",
    "#                 h5_df['wi_trial_keep'] = h5_lst['dfrel'][-1]['wi_trial_keep']\n",
    "\n",
    "#                 h5_lst[y_col].append(h5_df)\n",
    "#                 run_id_dct[y_col].append(model_version)\n",
    "#             else:\n",
    "#                 h5_lst[y_col].append(h5_df)\n",
    "#                 run_id_dct[y_col].append('basis')\n",
    "#         break\n",
    "#     break\n",
    "\n",
    "#     for i in range(2):\n",
    "#         for y_col in ['gACH', 'rDA', 'gDA']:\n",
    "# #             fig,axes = plt.subplots(5,2,figsize=(10,30))\n",
    "\n",
    "#             combo_rdc = {}\n",
    "#             for iac, alignment_col in enumerate(all_alignment_cols):\n",
    "# #                 ic, ir = iac%2, iac//2\n",
    "# #                 ax = axes[ir, ic]\n",
    "\n",
    "#                 dupe = h5_lst['dfrel'][-1]['dupe']\n",
    "#                 dfrel_basis = h5_lst['dfrel'][-1].loc[~dupe]\n",
    "#                 dfrel_basis_run = h5_lst[y_col][i].loc[~dupe]\n",
    "\n",
    "#                 model_version = run_id_dct[y_col][i]\n",
    "\n",
    "#                 print('Pulling delta list')\n",
    "#                 keep_rows, assoc_deltas = get_delta_list(dfrel_basis[alignment_col], alignment_col, ((dfrel_basis_run['holdout']==1)).astype(bool))\n",
    "#                 rdc_lst = defaultdict(list)\n",
    "#                 for entry_num in trange(len(keep_rows)):\n",
    "#                     keep_row_single = keep_rows[entry_num]\n",
    "#                     deltas = assoc_deltas[entry_num]\n",
    "#                     rdc_df = dfrel_basis_run.loc[keep_row_single].set_index(deltas)\n",
    "\n",
    "#                     if rdc_df['file_num'].nunique() > 1:\n",
    "#                         continue\n",
    "\n",
    "#                     reconstruction_data_list = []\n",
    "\n",
    "#                     for bootstrap_col in ['true', 'pred']:\n",
    "#                         rdc_lst[bootstrap_col].append(rdc_df[[bootstrap_col]])\n",
    "\n",
    "#                 print('keys', rdc_lst.keys())\n",
    "\n",
    "#                 seed = np.random.randint(1000000000)\n",
    "#                 for bootstrap_col in (rdc_lst):\n",
    "#                     tmp_rdc = pd.concat(rdc_lst[bootstrap_col], axis=1).sort_index()\n",
    "\n",
    "#                     reconstruction_data_list = []\n",
    "#                     for delta in (tmp_rdc.index):\n",
    "#                         row = tmp_rdc.loc[delta].dropna().values\n",
    "#                         bs = scipy.stats.bootstrap((row,), np.mean, n_resamples=9999,\n",
    "#     #                     bs = scipy.stats.bootstrap((row,), np.mean, n_resamples=1000,\n",
    "#                                                    batch=None, vectorized=True, paired=False,\n",
    "#                                                    axis=0, confidence_level=0.95, method='BCa',\n",
    "#                                                    random_state=seed)\n",
    "\n",
    "#                         mn_val = row.mean()\n",
    "#                         rtup = (bootstrap_col, delta, bs.confidence_interval.low, mn_val, bs.confidence_interval.high)\n",
    "\n",
    "#                         reconstruction_data_list.append(rtup)\n",
    "\n",
    "#                     tmp_combo_rdc = pd.DataFrame(reconstruction_data_list, columns=['basis_column', 'delta', 'lb', 'mn', 'ub']).set_index('delta')\n",
    "#                     combo_rdc[f'{alignment_col}_{bootstrap_col}'] = tmp_combo_rdc.drop('basis_column',axis=1)\n",
    "\n",
    "#             combo_rdc = pd.concat(combo_rdc, axis=1)\n",
    "#             combo_rdc.columns = ['_'.join(_).replace('_true_', '_T_').replace('_pred_', '_P_') for _ in combo_rdc.columns]\n",
    "#             combo_rdc.to_csv(str((Path(out_loc) / f'{load_folder.parts[-1]}-reconstruct-{y_col}={model_version}.csv').resolve()))\n"
   ]
  },
  {
   "cell_type": "code",
   "execution_count": null,
   "metadata": {},
   "outputs": [],
   "source": [
    "# np.all(h5_lst['dfrel'][0].dropna() == h5_lst['dfrel'][1].dropna())"
   ]
  },
  {
   "cell_type": "code",
   "execution_count": null,
   "metadata": {},
   "outputs": [],
   "source": [
    "# h5_lst['dfrel'][0]['rDA']"
   ]
  },
  {
   "cell_type": "code",
   "execution_count": null,
   "metadata": {},
   "outputs": [],
   "source": [
    "# h5_df"
   ]
  },
  {
   "cell_type": "code",
   "execution_count": null,
   "metadata": {},
   "outputs": [],
   "source": [
    "# h5f"
   ]
  },
  {
   "cell_type": "code",
   "execution_count": null,
   "metadata": {},
   "outputs": [],
   "source": []
  },
  {
   "cell_type": "code",
   "execution_count": null,
   "metadata": {},
   "outputs": [],
   "source": [
    "h5_lst.keys()"
   ]
  },
  {
   "cell_type": "code",
   "execution_count": null,
   "metadata": {},
   "outputs": [],
   "source": []
  },
  {
   "cell_type": "code",
   "execution_count": null,
   "metadata": {},
   "outputs": [],
   "source": []
  }
 ],
 "metadata": {
  "kernelspec": {
   "display_name": "Python 3 (ipykernel)",
   "language": "python",
   "name": "python3"
  },
  "language_info": {
   "codemirror_mode": {
    "name": "ipython",
    "version": 3
   },
   "file_extension": ".py",
   "mimetype": "text/x-python",
   "name": "python",
   "nbconvert_exporter": "python",
   "pygments_lexer": "ipython3",
   "version": "3.10.4"
  },
  "vscode": {
   "interpreter": {
    "hash": "fa0fc083a9a7b25dab36cbe71fb89b2f1907d4eced1698b208dea6977346b521"
   }
  }
 },
 "nbformat": 4,
 "nbformat_minor": 2
}
