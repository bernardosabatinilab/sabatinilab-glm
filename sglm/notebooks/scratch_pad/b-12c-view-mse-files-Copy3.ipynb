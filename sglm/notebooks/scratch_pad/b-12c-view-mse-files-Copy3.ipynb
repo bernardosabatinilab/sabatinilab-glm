{
 "cells": [
  {
   "cell_type": "code",
   "execution_count": 1,
   "metadata": {},
   "outputs": [
    {
     "data": {
      "text/html": [
       "<style>.container { width:95% !important; }</style>"
      ],
      "text/plain": [
       "<IPython.core.display.HTML object>"
      ]
     },
     "metadata": {},
     "output_type": "display_data"
    }
   ],
   "source": [
    "from IPython.display import display, HTML\n",
    "display(HTML(\"<style>.container { width:95% !important; }</style>\"))"
   ]
  },
  {
   "cell_type": "code",
   "execution_count": 2,
   "metadata": {},
   "outputs": [],
   "source": [
    "%load_ext autoreload\n",
    "%autoreload 2"
   ]
  },
  {
   "cell_type": "code",
   "execution_count": 3,
   "metadata": {},
   "outputs": [],
   "source": [
    "import glob\n",
    "import pandas as pd\n",
    "import numpy as np\n",
    "from sglm.helpers import filehelpers as fh, dfhelpers as dfh\n",
    "from pathlib import Path"
   ]
  },
  {
   "cell_type": "code",
   "execution_count": 4,
   "metadata": {},
   "outputs": [],
   "source": [
    "import matplotlib.pyplot as plt"
   ]
  },
  {
   "cell_type": "code",
   "execution_count": 5,
   "metadata": {},
   "outputs": [],
   "source": [
    "strrev = lambda y: str(''.join([_ for _ in reversed(y)]))"
   ]
  },
  {
   "cell_type": "code",
   "execution_count": 6,
   "metadata": {},
   "outputs": [],
   "source": [
    "def get_label(dct):\n",
    "    if float(dct['α']) == 0:\n",
    "        return '1_OLS'\n",
    "    elif float(dct['l1r']) == 1:\n",
    "        return f'2_L1, α={dct[\"α\"]}'\n",
    "    elif float(dct['l1r']) == 0:\n",
    "        return f'3_L2, α={dct[\"α\"]}'\n",
    "    else:\n",
    "        return f'4_l1r={dct[\"l1r\"]}, α={dct[\"α\"]}'\n",
    "    return"
   ]
  },
  {
   "cell_type": "code",
   "execution_count": 7,
   "metadata": {},
   "outputs": [],
   "source": [
    "# file_loc = r'C:\\Users\\Josh\\Documents\\GitHub\\sabatinilab-glm\\sglm\\outputs\\final_outputs_rev\\Figure_3-mse_sctr.csv'\n",
    "\n",
    "file_loc = r'/Users/Josh/Documents/GitHub/sabatinilab-glm/sglm/outputs/final_outputs_rev_hps-smpl3/Figure_1_2-mse_sctr.csv'\n",
    "# file_loc = r'/Users/Josh/Documents/GitHub/sabatinilab-glm/sglm/outputs/final_outputs_rev_hps-wds3/Figure_1_2-mse_sctr.csv'\n",
    "# file_loc = r'/Users/Josh/Documents/GitHub/sabatinilab-glm/sglm/outputs/final_outputs_rev_hps/Figure_1_2-mse_sctr.csv'\n",
    "# file_loc = r'/Users/Josh/Documents/GitHub/sabatinilab-glm/sglm/outputs/final_outputs_rev_hps-wds/Figure_1_2-mse_sctr.csv'\n",
    "\n",
    "concat = pd.read_csv(file_loc)\n",
    "concat['model_version'] = concat['model_version'].str.replace('max_iter10000__fit_interceptFalse__',  '')\n",
    "concat['model_version'] = concat['model_version'].str.replace('____',  '.')\n",
    "concat['model_version'] = concat['model_version'].str.replace('alpha','α=')\n",
    "concat['model_version'] = concat['model_version'].str.replace('l1_ratio','l1r=')\n",
    "# concat['model_version'] = concat['model_version'].apply(lambda x: ' / '.join(['='.join([_.split('=')[0], strrev(strrev(_.split('=')[1]).zfill(4))]) for _ in x.split('__')]))#.str.zfill(4)\n",
    "concat['model_version'] = concat['model_version'].str.replace('base_','')\n",
    "concat['model_version'] = concat['model_version'].str.replace('simple_','')\n",
    "concat['model_version'] = concat['model_version'].str.replace('words_','')\n",
    "concat['model_version'] = concat['model_version'].apply(lambda x: ([{_.split('=')[0]: strrev(strrev(_.split('=')[1]).zfill(4))} for _ in x.split('__')]))#.str.zfill(4)\n",
    "concat['model_version'] = concat['model_version'].apply(lambda x: {k: v for d in x for k, v in d.items()})#.str.zfill(4)\n",
    "\n",
    "concat['label'] = concat['model_version'].apply(lambda x: get_label(x))\n",
    "concat = concat.drop('model_version', axis=1)"
   ]
  },
  {
   "cell_type": "code",
   "execution_count": 8,
   "metadata": {
    "scrolled": true
   },
   "outputs": [
    {
     "data": {
      "text/html": [
       "<div>\n",
       "<style scoped>\n",
       "    .dataframe tbody tr th:only-of-type {\n",
       "        vertical-align: middle;\n",
       "    }\n",
       "\n",
       "    .dataframe tbody tr th {\n",
       "        vertical-align: top;\n",
       "    }\n",
       "\n",
       "    .dataframe thead th {\n",
       "        text-align: right;\n",
       "    }\n",
       "</style>\n",
       "<table border=\"1\" class=\"dataframe\">\n",
       "  <thead>\n",
       "    <tr style=\"text-align: right;\">\n",
       "      <th></th>\n",
       "      <th>mouse_id</th>\n",
       "      <th>channel</th>\n",
       "      <th>name</th>\n",
       "      <th>run_num</th>\n",
       "      <th>mse_tr</th>\n",
       "      <th>mse_cv</th>\n",
       "      <th>mse_te</th>\n",
       "      <th>label</th>\n",
       "    </tr>\n",
       "  </thead>\n",
       "  <tbody>\n",
       "    <tr>\n",
       "      <th>0</th>\n",
       "      <td>63_64_65_66_67_68_69_57_58_59_60_61_53_55_56</td>\n",
       "      <td>gACH</td>\n",
       "      <td>base_simple</td>\n",
       "      <td>num=0</td>\n",
       "      <td>0.773617</td>\n",
       "      <td>0.774583</td>\n",
       "      <td>0.777865</td>\n",
       "      <td>3_L2, α=0.001</td>\n",
       "    </tr>\n",
       "    <tr>\n",
       "      <th>1</th>\n",
       "      <td>63_64_65_66_67_68_69_57_58_59_60_61_53_55_56</td>\n",
       "      <td>gACH</td>\n",
       "      <td>base_simple</td>\n",
       "      <td>num=1</td>\n",
       "      <td>0.774857</td>\n",
       "      <td>0.775838</td>\n",
       "      <td>0.776584</td>\n",
       "      <td>3_L2, α=0.001</td>\n",
       "    </tr>\n",
       "    <tr>\n",
       "      <th>2</th>\n",
       "      <td>63_64_65_66_67_68_69_57_58_59_60_61_53_55_56</td>\n",
       "      <td>gACH</td>\n",
       "      <td>base_simple</td>\n",
       "      <td>num=2</td>\n",
       "      <td>0.776475</td>\n",
       "      <td>0.778418</td>\n",
       "      <td>0.774944</td>\n",
       "      <td>3_L2, α=0.001</td>\n",
       "    </tr>\n",
       "    <tr>\n",
       "      <th>3</th>\n",
       "      <td>63_64_65_66_67_68_69_57_58_59_60_61_53_55_56</td>\n",
       "      <td>gACH</td>\n",
       "      <td>base_simple</td>\n",
       "      <td>num=0</td>\n",
       "      <td>0.773617</td>\n",
       "      <td>0.774112</td>\n",
       "      <td>0.777865</td>\n",
       "      <td>3_L2, α=0.01</td>\n",
       "    </tr>\n",
       "    <tr>\n",
       "      <th>4</th>\n",
       "      <td>63_64_65_66_67_68_69_57_58_59_60_61_53_55_56</td>\n",
       "      <td>gACH</td>\n",
       "      <td>base_simple</td>\n",
       "      <td>num=1</td>\n",
       "      <td>0.774857</td>\n",
       "      <td>0.776781</td>\n",
       "      <td>0.776584</td>\n",
       "      <td>3_L2, α=0.01</td>\n",
       "    </tr>\n",
       "    <tr>\n",
       "      <th>...</th>\n",
       "      <td>...</td>\n",
       "      <td>...</td>\n",
       "      <td>...</td>\n",
       "      <td>...</td>\n",
       "      <td>...</td>\n",
       "      <td>...</td>\n",
       "      <td>...</td>\n",
       "      <td>...</td>\n",
       "    </tr>\n",
       "    <tr>\n",
       "      <th>94</th>\n",
       "      <td>63_64_65_66_67_68_69_57_58_59_60_61_53_55_56</td>\n",
       "      <td>gDA</td>\n",
       "      <td>base_simple</td>\n",
       "      <td>num=1</td>\n",
       "      <td>0.771533</td>\n",
       "      <td>0.768501</td>\n",
       "      <td>0.775487</td>\n",
       "      <td>3_L2, α=10.0</td>\n",
       "    </tr>\n",
       "    <tr>\n",
       "      <th>95</th>\n",
       "      <td>63_64_65_66_67_68_69_57_58_59_60_61_53_55_56</td>\n",
       "      <td>gDA</td>\n",
       "      <td>base_simple</td>\n",
       "      <td>num=2</td>\n",
       "      <td>0.775697</td>\n",
       "      <td>0.776299</td>\n",
       "      <td>0.771455</td>\n",
       "      <td>3_L2, α=10.0</td>\n",
       "    </tr>\n",
       "    <tr>\n",
       "      <th>96</th>\n",
       "      <td>63_64_65_66_67_68_69_57_58_59_60_61_53_55_56</td>\n",
       "      <td>gDA</td>\n",
       "      <td>base_simple</td>\n",
       "      <td>num=0</td>\n",
       "      <td>0.771129</td>\n",
       "      <td>0.771729</td>\n",
       "      <td>0.775965</td>\n",
       "      <td>3_L2, α=1.00</td>\n",
       "    </tr>\n",
       "    <tr>\n",
       "      <th>97</th>\n",
       "      <td>63_64_65_66_67_68_69_57_58_59_60_61_53_55_56</td>\n",
       "      <td>gDA</td>\n",
       "      <td>base_simple</td>\n",
       "      <td>num=1</td>\n",
       "      <td>0.771510</td>\n",
       "      <td>0.769802</td>\n",
       "      <td>0.775492</td>\n",
       "      <td>3_L2, α=1.00</td>\n",
       "    </tr>\n",
       "    <tr>\n",
       "      <th>98</th>\n",
       "      <td>63_64_65_66_67_68_69_57_58_59_60_61_53_55_56</td>\n",
       "      <td>gDA</td>\n",
       "      <td>base_simple</td>\n",
       "      <td>num=2</td>\n",
       "      <td>0.775675</td>\n",
       "      <td>0.776064</td>\n",
       "      <td>0.771444</td>\n",
       "      <td>3_L2, α=1.00</td>\n",
       "    </tr>\n",
       "  </tbody>\n",
       "</table>\n",
       "<p>99 rows × 8 columns</p>\n",
       "</div>"
      ],
      "text/plain": [
       "                                        mouse_id channel         name run_num  \\\n",
       "0   63_64_65_66_67_68_69_57_58_59_60_61_53_55_56    gACH  base_simple   num=0   \n",
       "1   63_64_65_66_67_68_69_57_58_59_60_61_53_55_56    gACH  base_simple   num=1   \n",
       "2   63_64_65_66_67_68_69_57_58_59_60_61_53_55_56    gACH  base_simple   num=2   \n",
       "3   63_64_65_66_67_68_69_57_58_59_60_61_53_55_56    gACH  base_simple   num=0   \n",
       "4   63_64_65_66_67_68_69_57_58_59_60_61_53_55_56    gACH  base_simple   num=1   \n",
       "..                                           ...     ...          ...     ...   \n",
       "94  63_64_65_66_67_68_69_57_58_59_60_61_53_55_56     gDA  base_simple   num=1   \n",
       "95  63_64_65_66_67_68_69_57_58_59_60_61_53_55_56     gDA  base_simple   num=2   \n",
       "96  63_64_65_66_67_68_69_57_58_59_60_61_53_55_56     gDA  base_simple   num=0   \n",
       "97  63_64_65_66_67_68_69_57_58_59_60_61_53_55_56     gDA  base_simple   num=1   \n",
       "98  63_64_65_66_67_68_69_57_58_59_60_61_53_55_56     gDA  base_simple   num=2   \n",
       "\n",
       "      mse_tr    mse_cv    mse_te          label  \n",
       "0   0.773617  0.774583  0.777865  3_L2, α=0.001  \n",
       "1   0.774857  0.775838  0.776584  3_L2, α=0.001  \n",
       "2   0.776475  0.778418  0.774944  3_L2, α=0.001  \n",
       "3   0.773617  0.774112  0.777865   3_L2, α=0.01  \n",
       "4   0.774857  0.776781  0.776584   3_L2, α=0.01  \n",
       "..       ...       ...       ...            ...  \n",
       "94  0.771533  0.768501  0.775487   3_L2, α=10.0  \n",
       "95  0.775697  0.776299  0.771455   3_L2, α=10.0  \n",
       "96  0.771129  0.771729  0.775965   3_L2, α=1.00  \n",
       "97  0.771510  0.769802  0.775492   3_L2, α=1.00  \n",
       "98  0.775675  0.776064  0.771444   3_L2, α=1.00  \n",
       "\n",
       "[99 rows x 8 columns]"
      ]
     },
     "execution_count": 8,
     "metadata": {},
     "output_type": "execute_result"
    }
   ],
   "source": [
    "concat"
   ]
  },
  {
   "cell_type": "code",
   "execution_count": 9,
   "metadata": {},
   "outputs": [],
   "source": [
    "# concat = concat.set_index(['channel', 'name', 'model_version', 'run_num']).drop('mouse_id', axis=1)\n",
    "concat = concat.set_index(['channel', 'name', 'label', 'run_num']).drop('mouse_id', axis=1)"
   ]
  },
  {
   "cell_type": "code",
   "execution_count": 10,
   "metadata": {},
   "outputs": [],
   "source": [
    "# vbp['model_version'].apply(lambda x: [[_.split('=')[0], strrev(strrev(_.split('=')[1]).zfill(4))] for _ in x.split('__')])#.str.zfill(4)"
   ]
  },
  {
   "cell_type": "code",
   "execution_count": 11,
   "metadata": {
    "scrolled": false
   },
   "outputs": [
    {
     "data": {
      "image/png": "[encoded data removed]",
      "text/plain": [
       "<Figure size 1800x360 with 1 Axes>"
      ]
     },
     "metadata": {},
     "output_type": "display_data"
    },
    {
     "data": {
      "image/png": "[encoded data removed]",
      "text/plain": [
       "<Figure size 1800x360 with 1 Axes>"
      ]
     },
     "metadata": {},
     "output_type": "display_data"
    },
    {
     "data": {
      "image/png": "[encoded data removed]",
      "text/plain": [
       "<Figure size 1800x360 with 1 Axes>"
      ]
     },
     "metadata": {},
     "output_type": "display_data"
    }
   ],
   "source": [
    "import seaborn as sns\n",
    "for chl in concat.reset_index()['channel'].unique():\n",
    "    \n",
    "    fig, ax = plt.subplots(1,1,figsize=(25,5))\n",
    "    \n",
    "    fig.suptitle(chl)\n",
    "    fig.set_facecolor('w')\n",
    "    \n",
    "    vwyc = concat.loc[chl].values\n",
    "    ymn, ymx = np.min(vwyc), np.max(vwyc)\n",
    "    \n",
    "    vbp = concat.loc[chl].rename({'mse_tr':'1_tr', 'mse_cv':'2_cv', 'mse_te':'3_te'}, axis=1).stack().reset_index()\n",
    "    vbp['mvl'] = vbp['label']\n",
    "#     vbp['mvl'] = vbp['label'] + ' / ' + vbp['level_3']\n",
    "#     vbp['mvl'] = vbp['level_3'] + ' / ' + vbp['label']\n",
    "    vbp['mvl'] = vbp['mvl'].str.replace('simple_', '')\n",
    "    vbp = vbp.sort_values(['mvl', 'level_3'])\n",
    "    \n",
    "    vbp['mvl'] = vbp['mvl'].apply(lambda x: x.split('_')[-1])\n",
    "    vbp['level_3'] = vbp['level_3'].apply(lambda x: x.split('_')[-1])\n",
    "    \n",
    "    sns.boxplot(data=vbp, x='mvl', y=0, hue='level_3', palette=\"Set3\", linewidth=1, ax=ax)\n",
    "    ax.grid(True)\n",
    "    plt.xticks(rotation=0)"
   ]
  },
  {
   "cell_type": "code",
   "execution_count": null,
   "metadata": {},
   "outputs": [],
   "source": []
  }
 ],
 "metadata": {
  "kernelspec": {
   "display_name": "Python 3 (ipykernel)",
   "language": "python",
   "name": "python3"
  },
  "language_info": {
   "codemirror_mode": {
    "name": "ipython",
    "version": 3
   },
   "file_extension": ".py",
   "mimetype": "text/x-python",
   "name": "python",
   "nbconvert_exporter": "python",
   "pygments_lexer": "ipython3",
   "version": "3.10.4"
  },
  "vscode": {
   "interpreter": {
    "hash": "fa0fc083a9a7b25dab36cbe71fb89b2f1907d4eced1698b208dea6977346b521"
   }
  }
 },
 "nbformat": 4,
 "nbformat_minor": 2
}
