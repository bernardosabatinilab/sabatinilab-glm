{
 "cells": [
  {
   "cell_type": "code",
   "execution_count": 1,
   "metadata": {},
   "outputs": [],
   "source": [
    "import pandas as pd\n",
    "import numpy as np\n",
    "import matplotlib.pyplot as plt\n",
    "import functools\n",
    "import itertools"
   ]
  },
  {
   "cell_type": "markdown",
   "metadata": {},
   "source": [
    "# Specify File to Preprocess"
   ]
  },
  {
   "cell_type": "code",
   "execution_count": 2,
   "metadata": {},
   "outputs": [],
   "source": [
    "session_id = 'WT69_12192021'\n",
    "filepath_signal = '/Users/josh/Documents/Harvard/GLM/sabatinilab-glm/data/old-data-version/raw-new/Figure_1_2/GLM_SIGNALS_WT69_12192021.txt'\n",
    "filepath_behavior = '/Users/josh/Documents/Harvard/GLM/sabatinilab-glm/data/old-data-version/raw-new/Figure_1_2/GLM_TABLE_WT69_12192021.txt'\n",
    "filepath_output = '/Users/josh/Desktop/signal_output_sample.csv'"
   ]
  },
  {
   "cell_type": "markdown",
   "metadata": {},
   "source": []
  },
  {
   "cell_type": "code",
   "execution_count": 3,
   "metadata": {},
   "outputs": [],
   "source": [
    "alignment_columns = [\n",
    "    'photometryCenterInIndex', 'photometryCenterOutIndex',\n",
    "    'photometrySideInIndex', 'photometrySideOutIndex',\n",
    "]\n",
    "\n",
    "behavior_columns = [\n",
    "    'nTrial', 'hasAllPhotometryData',\n",
    "    'rew_0', 'rew_1',\n",
    "    'wd_AA', 'wd_Aa', 'wd_aA', 'wd_aa',\n",
    "    'wd_AB', 'wd_Ab', 'wd_aB', 'wd_ab',\n",
    "]\n",
    "\n",
    "lst_str_cartesian_series = list(\n",
    "    itertools.product([column_alignment for column_alignment in alignment_columns],\n",
    "                      [column_behavior for column_behavior in behavior_columns])\n",
    ")"
   ]
  },
  {
   "cell_type": "code",
   "execution_count": 4,
   "metadata": {},
   "outputs": [],
   "source": [
    "df_signal_raw = pd.read_csv(filepath_signal)\n",
    "df_behavior_raw = pd.read_csv(filepath_behavior).reset_index().rename(columns={'index': 'nTrial'})"
   ]
  },
  {
   "cell_type": "code",
   "execution_count": 5,
   "metadata": {},
   "outputs": [],
   "source": [
    "df_signal = pd.concat([pd.DataFrame(pd.Series(0, index=df_signal_raw.columns)).T, df_signal_raw], axis=0).reset_index(drop=True) # Add a row of zeros to the top of the dataframe for MatLab compatibility\n",
    "df_behavior = pd.concat([df_behavior_raw,\n",
    "                                  pd.get_dummies(df_behavior_raw['wasRewarded'], prefix='rew'),\n",
    "                                  pd.get_dummies(df_behavior_raw['word'], prefix='wd')], axis=1).copy()"
   ]
  },
  {
   "cell_type": "code",
   "execution_count": 7,
   "metadata": {},
   "outputs": [],
   "source": [
    "behavior_to_signal_columns = (\n",
    "  [{'output_column_name': alignment_column,\n",
    "    'alignment_column': alignment_column,\n",
    "    'fillValues_absent': 0,\n",
    "    'fillValues_present': 1} for alignment_column in alignment_columns] +\n",
    "\n",
    "  [{'output_column_name': f'{column_alignment}={column_behavior}',\n",
    "    'alignment_column': column_alignment,\n",
    "    'fillValues_absent': 0,\n",
    "    'fillValues_present': df_behavior[column_behavior]} for column_alignment, column_behavior in lst_str_cartesian_series]\n",
    ")"
   ]
  },
  {
   "cell_type": "code",
   "execution_count": 8,
   "metadata": {},
   "outputs": [],
   "source": [
    "for dict_behavior_to_signal in behavior_to_signal_columns:\n",
    "    df_signal[dict_behavior_to_signal['output_column_name']] = dict_behavior_to_signal['fillValues_absent']\n",
    "    df_signal.iloc[df_behavior[dict_behavior_to_signal['alignment_column']].values,\n",
    "                   list(df_signal.columns).index(dict_behavior_to_signal['output_column_name'])] = dict_behavior_to_signal['fillValues_present']\n",
    "\n",
    "df_signal = df_signal.drop(0, axis=0).copy()"
   ]
  },
  {
   "cell_type": "code",
   "execution_count": 9,
   "metadata": {},
   "outputs": [],
   "source": [
    "df_nTrial = df_signal[['photometryCenterInIndex=nTrial', 'photometryCenterOutIndex=nTrial', 'photometrySideInIndex=nTrial', 'photometrySideOutIndex=nTrial']].replace(0, np.nan)\n",
    "\n",
    "df_signal['nTrial_raw'] = np.nan\n",
    "df_signal['nTrial_raw'] = df_signal['nTrial_raw'].combine_first(df_nTrial['photometryCenterInIndex=nTrial']).combine_first(df_nTrial['photometryCenterOutIndex=nTrial']).combine_first(df_nTrial['photometrySideInIndex=nTrial']).combine_first(df_nTrial['photometrySideOutIndex=nTrial'])\n",
    "df_signal['nTrial'] = df_signal['nTrial_raw'].ffill()\n",
    "df_signal['nEndTrial'] = df_signal['nTrial_raw'].bfill()\n",
    "df_signal = df_signal.drop('nTrial_raw', axis=1).copy()\n",
    "\n",
    "df_signal['session_id'] = session_id"
   ]
  },
  {
   "cell_type": "code",
   "execution_count": 10,
   "metadata": {},
   "outputs": [],
   "source": [
    "df_signal.to_csv(filepath_output, index=True)"
   ]
  }
 ],
 "metadata": {
  "kernelspec": {
   "display_name": "Python 3",
   "language": "python",
   "name": "python3"
  },
  "language_info": {
   "codemirror_mode": {
    "name": "ipython",
    "version": 3
   },
   "file_extension": ".py",
   "mimetype": "text/x-python",
   "name": "python",
   "nbconvert_exporter": "python",
   "pygments_lexer": "ipython3",
   "version": "3.10.11"
  },
  "orig_nbformat": 4
 },
 "nbformat": 4,
 "nbformat_minor": 2
}
