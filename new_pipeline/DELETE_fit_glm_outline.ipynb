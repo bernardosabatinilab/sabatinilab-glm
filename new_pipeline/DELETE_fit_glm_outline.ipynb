{
 "cells": [
  {
   "cell_type": "code",
   "execution_count": null,
   "metadata": {},
   "outputs": [],
   "source": []
  },
  {
   "cell_type": "code",
   "execution_count": null,
   "metadata": {},
   "outputs": [],
   "source": [
    "\n",
    "mappings, mapping_inverses = np.unique(data, return_inverse=True) if mappings_plus_inverses is None else mappings_plus_inverses"
   ]
  },
  {
   "cell_type": "code",
   "execution_count": null,
   "metadata": {},
   "outputs": [],
   "source": []
  },
  {
   "cell_type": "code",
   "execution_count": 1,
   "metadata": {},
   "outputs": [],
   "source": [
    "# Manual preprocessing of signal file(s)\n",
    "\n",
    "# Manual preprocessing of trial file(s)\n"
   ]
  },
  {
   "cell_type": "code",
   "execution_count": 2,
   "metadata": {},
   "outputs": [],
   "source": [
    "# Check signal file(s)\n",
    "\n",
    "# Check trial table file(s)\n"
   ]
  },
  {
   "cell_type": "code",
   "execution_count": 3,
   "metadata": {},
   "outputs": [],
   "source": [
    "# Specify signal file dense columns and sparse columns\n",
    "\n",
    "# > Pull signal sparse columns to representation A\n",
    "# (Using dense -> sparse mapping)\n",
    "\n",
    "# > Pull signal dense columns to representation B\n",
    "# * Representation B should allow for non-zero fill-values and\n",
    "# arbitrary datatypes.\n"
   ]
  },
  {
   "cell_type": "code",
   "execution_count": 4,
   "metadata": {},
   "outputs": [],
   "source": [
    "# Specify trial file ptr and data columns\n",
    "\n",
    "# > Pull trial ptr columns to representation C\n",
    "\n",
    "# > Pull trial data columns to representation D\n"
   ]
  },
  {
   "cell_type": "code",
   "execution_count": 5,
   "metadata": {},
   "outputs": [],
   "source": [
    "# Filter signal > A and signal > B\n",
    "# Subselect columns from signal > A and signal > B\n",
    "# Check subsampled signal > A and subsampled signal > B\n",
    "\n",
    "# Filter trial > C and trial > D\n",
    "# Subselect columns from trial > C and trial > D\n",
    "# Convert subsampled trial > C and subsampled trial > D to \n",
    "# representations subsampled trial > A and subsampled trial > B\n",
    "# Check subsampled trial table > A and subsampled trial table > B\n"
   ]
  },
  {
   "cell_type": "code",
   "execution_count": 6,
   "metadata": {},
   "outputs": [],
   "source": [
    "# Combine subsampled signal > A & subsampled trial > A\n",
    "# with subsampled signal > B & subsampled trial > B to\n",
    "# create total > A & total > B.\n"
   ]
  },
  {
   "cell_type": "code",
   "execution_count": 7,
   "metadata": {},
   "outputs": [],
   "source": [
    "# Preprocess total > A & total > B\n",
    "# * Timeshift: A (sparse)\n",
    "# * Timeshift: B (dense)\n",
    "# * Cartesian Product: A (sparse)\n",
    "# * Cartesian Product: B (dense)\n",
    "# * Cartesian Product: A & B (dense)\n",
    "# * Unroll to onehots\n"
   ]
  },
  {
   "cell_type": "code",
   "execution_count": 8,
   "metadata": {},
   "outputs": [],
   "source": [
    "# Convert sparse (total > A) to dense and combine with total > B\n"
   ]
  },
  {
   "cell_type": "code",
   "execution_count": null,
   "metadata": {},
   "outputs": [],
   "source": [
    "# Train / validation / test split\n"
   ]
  },
  {
   "cell_type": "code",
   "execution_count": null,
   "metadata": {},
   "outputs": [],
   "source": [
    "# Extract X, extract y, fit model, save model\n"
   ]
  }
 ],
 "metadata": {
  "kernelspec": {
   "display_name": "Python 3",
   "language": "python",
   "name": "python3"
  },
  "language_info": {
   "codemirror_mode": {
    "name": "ipython",
    "version": 3
   },
   "file_extension": ".py",
   "mimetype": "text/x-python",
   "name": "python",
   "nbconvert_exporter": "python",
   "pygments_lexer": "ipython3",
   "version": "3.10.11"
  },
  "orig_nbformat": 4
 },
 "nbformat": 4,
 "nbformat_minor": 2
}
