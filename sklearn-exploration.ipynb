{
 "cells": [
  {
   "cell_type": "markdown",
   "metadata": {},
   "source": [
    "# GLM via SKLearn\n",
    "\n",
    "Please email: Joshua_Zimmer@hms.harvard.edu with questions"
   ]
  },
  {
   "cell_type": "code",
   "execution_count": 31,
   "metadata": {},
   "outputs": [],
   "source": [
    "import numpy as np\n",
    "import pandas as pd\n",
    "import sklearn.linear_model\n",
    "from scipy import stats\n",
    "import matplotlib.pyplot as plt\n",
    "\n",
    "%matplotlib inline\n",
    "%load_ext autoreload\n",
    "%autoreload 2"
   ]
  },
  {
   "cell_type": "markdown",
   "metadata": {},
   "source": [
    "# Example General SKLearn GLM Implementation"
   ]
  },
  {
   "cell_type": "code",
   "execution_count": 29,
   "metadata": {},
   "outputs": [],
   "source": [
    "def create_glm(model_name=None, **kwargs):\n",
    "    \"\"\"\n",
    "    Creates a scikit-learn GLM model.\n",
    "    \n",
    "    Parameters:\n",
    "        * model_name: Distribution type for the GLM\n",
    "        * **kwargs: All other keyword arguments for the relevant scikit-learn model\n",
    "    \n",
    "    Returns:\n",
    "        * mdl: scikit-learn model constructed with relevant parameters\n",
    "    \"\"\"\n",
    "\n",
    "    model_name_options = {'Normal', 'Poisson', 'Gamma', 'Logistic', 'Multinomial'}\n",
    "    tweedie_lookup = {\n",
    "        'Normal': 0,\n",
    "        'Poisson': 1,\n",
    "        'Gamma': 2\n",
    "    }\n",
    "    \n",
    "#     if model_name in {'Normal', 'Poisson', 'Gamma'} or type(model_name) == float or type(model_name) == int:\n",
    "#         power = model_name if type(model_name) == float or type(model_name) == int else tweedie_lookup[model_name]\n",
    "    if model_name in {'Normal', 'Poisson', 'Gamma'}:\n",
    "        power = tweedie_lookup[model_name]\n",
    "        kwargs['power'] = power\n",
    "        mdl = sklearn.linear_model.TweedieRegressor(**kwargs)\n",
    "    elif model_name in {'Logistic', 'Multinomial'}:\n",
    "        multi_class = 'multinomial' if model_name == 'Multinomial' else 'auto'\n",
    "        mdl = sklearn.linear_model.LogisticRegression(**kwargs)\n",
    "    else:\n",
    "        print('Distribution not yet implemented.')\n",
    "        raise NotYetImplementedError()\n",
    "    \n",
    "    return mdl"
   ]
  },
  {
   "cell_type": "markdown",
   "metadata": {},
   "source": [
    "# Example Usage"
   ]
  },
  {
   "cell_type": "code",
   "execution_count": 30,
   "metadata": {},
   "outputs": [
    {
     "name": "stdout",
     "output_type": "stream",
     "text": [
      "TweedieRegressor(power=0)\n",
      "TweedieRegressor(power=1)\n",
      "TweedieRegressor(power=2)\n",
      "LogisticRegression()\n",
      "LogisticRegression()\n"
     ]
    }
   ],
   "source": [
    "model_params = {'fit_intercept': True}\n",
    "\n",
    "for model_name in ['Normal', 'Poisson', 'Gamma', 'Logistic', 'Multinomial']:\n",
    "    print(create_glm(model_name, **model_params))"
   ]
  }
 ],
 "metadata": {
  "kernelspec": {
   "display_name": "Python 3",
   "language": "python",
   "name": "python3"
  },
  "language_info": {
   "codemirror_mode": {
    "name": "ipython",
    "version": 3
   },
   "file_extension": ".py",
   "mimetype": "text/x-python",
   "name": "python",
   "nbconvert_exporter": "python",
   "pygments_lexer": "ipython3",
   "version": "3.8.5"
  }
 },
 "nbformat": 4,
 "nbformat_minor": 4
}
