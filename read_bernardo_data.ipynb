{
 "cells": [
  {
   "cell_type": "code",
   "execution_count": 22,
   "metadata": {},
   "outputs": [],
   "source": [
    "import pandas as pd\n",
    "import os\n",
    "\n",
    "dir_path = '/'.join(os.path.realpath('.').split('/')[:-1])\n",
    "# filename = 'GLM_SIGNALS_WT63_11082021.txt'\n",
    "filename = 'GLM_SIGNALS_WT63_11162021.txt'\n",
    "\n",
    "signals = pd.read_csv(f'{dir_path}/{filename}')\n",
    "# table = pd.read_csv('./GLM_TABLE_WT63_11082021.txt')"
   ]
  },
  {
   "cell_type": "code",
   "execution_count": 23,
   "metadata": {},
   "outputs": [
    {
     "data": {
      "text/plain": [
       "['Ch1',\n",
       " 'Ch2',\n",
       " 'Ch5',\n",
       " 'Ch6',\n",
       " 'GP_1',\n",
       " 'GP_2',\n",
       " 'GP_5',\n",
       " 'GP_6',\n",
       " 'SGP_1',\n",
       " 'SGP_2',\n",
       " 'SGP_5',\n",
       " 'SGP_6',\n",
       " 'centerOcc',\n",
       " 'centerIn',\n",
       " 'centerOut',\n",
       " 'rightOcc',\n",
       " 'rightIn',\n",
       " 'rightOut',\n",
       " 'rightLick',\n",
       " 'leftOcc',\n",
       " 'leftIn',\n",
       " 'leftOut',\n",
       " 'leftLick',\n",
       " 'reward',\n",
       " 'noreward']"
      ]
     },
     "execution_count": 23,
     "metadata": {},
     "output_type": "execute_result"
    }
   ],
   "source": [
    "list(signals.columns)"
   ]
  },
  {
   "cell_type": "code",
   "execution_count": null,
   "metadata": {},
   "outputs": [],
   "source": []
  },
  {
   "cell_type": "code",
   "execution_count": null,
   "metadata": {},
   "outputs": [],
   "source": []
  }
 ],
 "metadata": {
  "interpreter": {
   "hash": "fa0fc083a9a7b25dab36cbe71fb89b2f1907d4eced1698b208dea6977346b521"
  },
  "kernelspec": {
   "display_name": "Python 3.8.5 ('base')",
   "language": "python",
   "name": "python3"
  },
  "language_info": {
   "codemirror_mode": {
    "name": "ipython",
    "version": 3
   },
   "file_extension": ".py",
   "mimetype": "text/x-python",
   "name": "python",
   "nbconvert_exporter": "python",
   "pygments_lexer": "ipython3",
   "version": "3.8.5"
  },
  "orig_nbformat": 4
 },
 "nbformat": 4,
 "nbformat_minor": 2
}
