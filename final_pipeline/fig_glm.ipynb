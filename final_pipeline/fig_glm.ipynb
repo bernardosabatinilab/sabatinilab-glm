{
 "cells": [
  {
   "cell_type": "code",
   "execution_count": null,
   "metadata": {},
   "outputs": [],
   "source": [
    "%load_ext autoreload\n",
    "%autoreload 2"
   ]
  },
  {
   "cell_type": "code",
   "execution_count": null,
   "metadata": {},
   "outputs": [],
   "source": [
    "import numpy as np\n",
    "import pandas as pd\n",
    "from pathlib import Path\n",
    "import fit_glm_helpers as fgh"
   ]
  },
  {
   "cell_type": "code",
   "execution_count": null,
   "metadata": {},
   "outputs": [],
   "source": [
    "dir_data = Path('/Users/josh/Documents/Harvard/GLM/sabatinilab-glm/data/old-data-version/raw-new/Figure_1_2')\n",
    "dir_output = Path('/Users/josh/Desktop/example_output_folder')\n",
    "\n",
    "lst_dict_inputdata = [\n",
    "    {'session_id': 'WT63_11082021',\n",
    "    'filepath_signal': dir_data / Path('GLM_SIGNALS_WT69_12192021.txt'),\n",
    "    'filepath_trial': dir_data / Path('GLM_TABLE_WT69_12192021.txt'),\n",
    "    'bool_trialTable_matlab_indexed': True,\n",
    "    'columnName_trialTable_trialId': None,\n",
    "    'columnRenames_signal': {'Ch1': 'gDA', 'Ch5': 'gACH'},\n",
    "    'columnRenames_trial': None},\n",
    "]\n",
    "\n",
    "dir_output.mkdir(parents=True, exist_ok=True)"
   ]
  },
  {
   "cell_type": "code",
   "execution_count": null,
   "metadata": {},
   "outputs": [],
   "source": [
    "columnName_alignment_trial_start = 'photometryCenterInIndex'\n",
    "columnName_alignment_trial_end = 'photometrySideOutIndex'\n",
    "\n",
    "# Note: Alignment values of 0 for Matlab-indexed trial tables will be treated as \"no-data\" values\n",
    "# and and -1 for Python-indexed trial tables. Matlab-indexed trial tables should only have values\n",
    "# >= 0 in and >= -1 in Python.\n",
    "lst_strColumns_alignment = [\n",
    "    'photometryCenterInIndex',\n",
    "    'photometryCenterOutIndex',\n",
    "    'photometrySideInIndex',\n",
    "    'photometrySideOutIndex',\n",
    "]\n",
    "\n",
    "lst_strColumns_information = [\n",
    "    'nTrial_raw', 'hasAllPhotometryData',\n",
    "    'wasRewarded', 'word',\n",
    "]"
   ]
  },
  {
   "cell_type": "code",
   "execution_count": null,
   "metadata": {},
   "outputs": [],
   "source": []
  }
 ],
 "metadata": {
  "language_info": {
   "name": "python"
  },
  "orig_nbformat": 4
 },
 "nbformat": 4,
 "nbformat_minor": 2
}
