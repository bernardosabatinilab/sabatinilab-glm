{
 "cells": [
  {
   "cell_type": "raw",
   "metadata": {},
   "source": []
  },
  {
   "cell_type": "code",
   "execution_count": 1,
   "metadata": {},
   "outputs": [],
   "source": [
    "%matplotlib inline\n",
    "%load_ext autoreload\n",
    "%autoreload 2\n",
    "\n",
    "import os\n",
    "import sys\n",
    "__file__ = os.path.abspath('')\n",
    "dir_path = '/'.join(os.path.realpath(__file__).split('/')[:-1])\n",
    "sys.path.append(f'{dir_path}/sabatinilab-glm/backend')\n",
    "sys.path.append(f'{dir_path}/..')\n",
    "sys.path.append(f'{dir_path}/backend')\n",
    "sys.path.append(f'{dir_path}/../backend')\n",
    "\n",
    "import numpy as np\n",
    "import pandas as pd\n",
    "import matplotlib.pyplot as plt\n",
    "from sklearn.linear_model import LinearRegression\n",
    "from sklearn.model_selection import GroupShuffleSplit\n",
    "\n",
    "import sglm\n",
    "import sglm_cv\n",
    "import sglm_pp\n"
   ]
  },
  {
   "cell_type": "code",
   "execution_count": 2,
   "metadata": {},
   "outputs": [
    {
     "name": "stdout",
     "output_type": "stream",
     "text": [
      "Data Loaded...\n",
      "NP Diff Completed...\n",
      "Timeshift Multiple Done...\n",
      "SKGLM Starting...\n"
     ]
    }
   ],
   "source": [
    "\n",
    "df = pd.read_csv('/Users/josh/Documents/Harvard/GLM/C39v2_sampleDesignMat.csv').drop('Unnamed: 0', axis=1).drop('index', axis=1)\n",
    "print('Data Loaded...')\n",
    "y_setup_col = 'grnL' # photometry response\n",
    "df['grnL_diff'] = sglm_pp.diff(df['grnL'])\n",
    "print('NP Diff Completed...')\n",
    "\n",
    "X_cols = [\n",
    "    'nTrial', # trial ID\n",
    "    # 'iBlock', # block number within session\n",
    "    'CuePenalty', # lick during cue period (no directionality yet, so binary 0,1)\n",
    "    'ENLPenalty', # lick during ENL period (no directionality yet, 0,1)\n",
    "    'Select', # binary selection lick\n",
    "    'Consumption', # consumption period (from task perspective)\n",
    "    # 'TO', # timeout trial\n",
    "    'responseTime', # task state cue to selection window\n",
    "    'ENL', # task state ENL window\n",
    "    'Cue', # task state Cue window\n",
    "    'decision', # choice lick direction (aligned to select but with directionality -1,1)\n",
    "    'switch', # switch from previous choice on selection (-1,1)\n",
    "    'selR', # select reward (-1,1) aligned to selection\n",
    "    'selHigh', # select higher probability port (-1,1)\n",
    "    'Reward', # reward vs no reward during consumption period (-1,1)\n",
    "    'post', # log-odds probability\n",
    "]\n",
    "\n",
    "y_col = 'grnL_diff'\n",
    "\n",
    "dfrel = df[X_cols + [y_col]].copy()\n",
    "dfrel = dfrel.replace('False', 0).astype(float)\n",
    "dfrel = dfrel*1\n",
    "\n",
    "X_setup = dfrel[X_cols]\n",
    "y_setup = dfrel[y_col]\n",
    "\n",
    "ts = 2\n",
    "\n",
    "shift_amt_list = [0]\n",
    "shift_amt_list += list(range(-ts, 0))\n",
    "shift_amt_list += list(range(1, ts+1))\n",
    "\n",
    "dfrel = sglm_pp.timeshift_multiple(X_setup, shift_amt_list=shift_amt_list)\n",
    "\n",
    "print('Timeshift Multiple Done...')\n",
    "\n",
    "full_dataset = dfrel.copy()\n",
    "full_dataset['grnL_diff'] = y_setup\n",
    "full_dataset['grnL_sft'] = y_setup.shift(1)\n",
    "full_dataset['grnL_sft2'] = y_setup.shift(2)\n",
    "full_dataset = full_dataset.iloc[5:]\n",
    "full_dataset = full_dataset.dropna().copy()\n",
    "\n",
    "X = full_dataset.drop(y_col, axis=1)\n",
    "y = full_dataset[y_col]\n",
    "\n",
    "print('SKGLM Starting...')\n"
   ]
  },
  {
   "cell_type": "code",
   "execution_count": 7,
   "metadata": {},
   "outputs": [
    {
     "name": "stdout",
     "output_type": "stream",
     "text": [
      "[1, 2, 3, 4, 5, 6, 7, 8, 9, 10, 11, 12, 13, 15, 16, 17, 18, 19, 20, 21, 22, 23, 24, 25, 26, 27, 29, 30, 31, 32, 33, 34, 35, 36, 37, 38, 39, 40, 41, 43, 44, 45, 46, 47, 48, 49, 50, 51, 52, 53, 54, 55, 57, 58, 59, 60, 61, 62, 63, 64, 65, 66, 67, 68, 69, 70, 71] — Index(['CuePenalty', 'ENLPenalty', 'Select', 'Consumption', 'responseTime',\n",
      "       'ENL', 'Cue', 'decision', 'switch', 'selR', 'selHigh', 'Reward', 'post',\n",
      "       'CuePenalty_-2', 'ENLPenalty_-2', 'Select_-2', 'Consumption_-2',\n",
      "       'responseTime_-2', 'ENL_-2', 'Cue_-2', 'decision_-2', 'switch_-2',\n",
      "       'selR_-2', 'selHigh_-2', 'Reward_-2', 'post_-2', 'CuePenalty_-1',\n",
      "       'ENLPenalty_-1', 'Select_-1', 'Consumption_-1', 'responseTime_-1',\n",
      "       'ENL_-1', 'Cue_-1', 'decision_-1', 'switch_-1', 'selR_-1', 'selHigh_-1',\n",
      "       'Reward_-1', 'post_-1', 'CuePenalty_1', 'ENLPenalty_1', 'Select_1',\n",
      "       'Consumption_1', 'responseTime_1', 'ENL_1', 'Cue_1', 'decision_1',\n",
      "       'switch_1', 'selR_1', 'selHigh_1', 'Reward_1', 'post_1', 'CuePenalty_2',\n",
      "       'ENLPenalty_2', 'Select_2', 'Consumption_2', 'responseTime_2', 'ENL_2',\n",
      "       'Cue_2', 'decision_2', 'switch_2', 'selR_2', 'selHigh_2', 'Reward_2',\n",
      "       'post_2', 'grnL_sft', 'grnL_sft2'],\n",
      "      dtype='object')\n"
     ]
    },
    {
     "name": "stderr",
     "output_type": "stream",
     "text": [
      "Lambda: 0.0000\n"
     ]
    },
    {
     "name": "stdout",
     "output_type": "stream",
     "text": [
      "SKGLM Done...\n",
      "Starting PY GLM Net...\n"
     ]
    },
    {
     "name": "stderr",
     "output_type": "stream",
     "text": [
      "\tParameter update tolerance. Converged in 3387 iterations\n"
     ]
    },
    {
     "name": "stdout",
     "output_type": "stream",
     "text": [
      "PY GLM Net Done...\n"
     ]
    },
    {
     "data": {
      "text/html": "<div>\n<style scoped>\n    .dataframe tbody tr th:only-of-type {\n        vertical-align: middle;\n    }\n\n    .dataframe tbody tr th {\n        vertical-align: top;\n    }\n\n    .dataframe thead th {\n        text-align: right;\n    }\n</style>\n<table border=\"1\" class=\"dataframe\">\n  <thead>\n    <tr style=\"text-align: right;\">\n      <th></th>\n      <th>Col Name</th>\n      <th>SK Learn Coef</th>\n      <th>PY GLM Net Coef</th>\n    </tr>\n  </thead>\n  <tbody>\n    <tr>\n      <th>0</th>\n      <td>Intercept</td>\n      <td>-0.020274</td>\n      <td>-0.020137</td>\n    </tr>\n    <tr>\n      <th>1</th>\n      <td>CuePenalty</td>\n      <td>-0.211815</td>\n      <td>-0.097288</td>\n    </tr>\n    <tr>\n      <th>2</th>\n      <td>ENLPenalty</td>\n      <td>-0.060191</td>\n      <td>-0.044937</td>\n    </tr>\n    <tr>\n      <th>3</th>\n      <td>Select</td>\n      <td>-0.882600</td>\n      <td>-0.845361</td>\n    </tr>\n    <tr>\n      <th>4</th>\n      <td>Consumption</td>\n      <td>-0.020996</td>\n      <td>-0.000000</td>\n    </tr>\n    <tr>\n      <th>5</th>\n      <td>responseTime</td>\n      <td>0.009937</td>\n      <td>-0.000000</td>\n    </tr>\n    <tr>\n      <th>6</th>\n      <td>ENL</td>\n      <td>0.092935</td>\n      <td>0.080779</td>\n    </tr>\n    <tr>\n      <th>7</th>\n      <td>Cue</td>\n      <td>-0.057069</td>\n      <td>-0.037235</td>\n    </tr>\n    <tr>\n      <th>8</th>\n      <td>decision</td>\n      <td>-0.131464</td>\n      <td>-0.139331</td>\n    </tr>\n    <tr>\n      <th>9</th>\n      <td>switch</td>\n      <td>-0.218030</td>\n      <td>-0.205507</td>\n    </tr>\n    <tr>\n      <th>10</th>\n      <td>selR</td>\n      <td>0.189071</td>\n      <td>0.175113</td>\n    </tr>\n    <tr>\n      <th>11</th>\n      <td>selHigh</td>\n      <td>0.065775</td>\n      <td>0.064237</td>\n    </tr>\n    <tr>\n      <th>12</th>\n      <td>Reward</td>\n      <td>0.021413</td>\n      <td>0.005658</td>\n    </tr>\n    <tr>\n      <th>13</th>\n      <td>post</td>\n      <td>0.041453</td>\n      <td>0.010433</td>\n    </tr>\n    <tr>\n      <th>14</th>\n      <td>CuePenalty_-2</td>\n      <td>-0.163262</td>\n      <td>-0.075032</td>\n    </tr>\n    <tr>\n      <th>15</th>\n      <td>ENLPenalty_-2</td>\n      <td>-0.002870</td>\n      <td>-0.002550</td>\n    </tr>\n    <tr>\n      <th>16</th>\n      <td>Select_-2</td>\n      <td>-0.823574</td>\n      <td>-0.807716</td>\n    </tr>\n    <tr>\n      <th>17</th>\n      <td>Consumption_-2</td>\n      <td>-0.059328</td>\n      <td>-0.049995</td>\n    </tr>\n    <tr>\n      <th>18</th>\n      <td>responseTime_-2</td>\n      <td>0.007464</td>\n      <td>0.014614</td>\n    </tr>\n    <tr>\n      <th>19</th>\n      <td>ENL_-2</td>\n      <td>0.003918</td>\n      <td>-0.000000</td>\n    </tr>\n    <tr>\n      <th>20</th>\n      <td>Cue_-2</td>\n      <td>-0.007487</td>\n      <td>-0.002153</td>\n    </tr>\n    <tr>\n      <th>21</th>\n      <td>decision_-2</td>\n      <td>-0.075042</td>\n      <td>-0.074749</td>\n    </tr>\n    <tr>\n      <th>22</th>\n      <td>switch_-2</td>\n      <td>-0.147414</td>\n      <td>-0.136364</td>\n    </tr>\n    <tr>\n      <th>23</th>\n      <td>selR_-2</td>\n      <td>0.163977</td>\n      <td>0.161938</td>\n    </tr>\n    <tr>\n      <th>24</th>\n      <td>selHigh_-2</td>\n      <td>0.034281</td>\n      <td>0.032399</td>\n    </tr>\n    <tr>\n      <th>25</th>\n      <td>Reward_-2</td>\n      <td>-0.012311</td>\n      <td>-0.011837</td>\n    </tr>\n    <tr>\n      <th>26</th>\n      <td>post_-2</td>\n      <td>0.125951</td>\n      <td>0.099203</td>\n    </tr>\n    <tr>\n      <th>27</th>\n      <td>CuePenalty_-1</td>\n      <td>-0.219025</td>\n      <td>-0.097435</td>\n    </tr>\n    <tr>\n      <th>28</th>\n      <td>ENLPenalty_-1</td>\n      <td>-0.017352</td>\n      <td>-0.019175</td>\n    </tr>\n    <tr>\n      <th>29</th>\n      <td>Select_-1</td>\n      <td>-0.860692</td>\n      <td>-0.832358</td>\n    </tr>\n    <tr>\n      <th>30</th>\n      <td>Consumption_-1</td>\n      <td>0.028616</td>\n      <td>-0.000000</td>\n    </tr>\n    <tr>\n      <th>31</th>\n      <td>responseTime_-1</td>\n      <td>-0.004892</td>\n      <td>-0.000000</td>\n    </tr>\n    <tr>\n      <th>32</th>\n      <td>ENL_-1</td>\n      <td>-0.057869</td>\n      <td>-0.043550</td>\n    </tr>\n    <tr>\n      <th>33</th>\n      <td>Cue_-1</td>\n      <td>0.004415</td>\n      <td>-0.002472</td>\n    </tr>\n    <tr>\n      <th>34</th>\n      <td>decision_-1</td>\n      <td>-0.135586</td>\n      <td>-0.124886</td>\n    </tr>\n    <tr>\n      <th>35</th>\n      <td>switch_-1</td>\n      <td>-0.188777</td>\n      <td>-0.176976</td>\n    </tr>\n    <tr>\n      <th>36</th>\n      <td>selR_-1</td>\n      <td>0.178651</td>\n      <td>0.176698</td>\n    </tr>\n    <tr>\n      <th>37</th>\n      <td>selHigh_-1</td>\n      <td>0.050970</td>\n      <td>0.048098</td>\n    </tr>\n    <tr>\n      <th>38</th>\n      <td>Reward_-1</td>\n      <td>-0.011871</td>\n      <td>-0.000823</td>\n    </tr>\n    <tr>\n      <th>39</th>\n      <td>post_-1</td>\n      <td>-0.049050</td>\n      <td>-0.000000</td>\n    </tr>\n    <tr>\n      <th>40</th>\n      <td>CuePenalty_1</td>\n      <td>-0.266129</td>\n      <td>-0.113144</td>\n    </tr>\n    <tr>\n      <th>41</th>\n      <td>ENLPenalty_1</td>\n      <td>-0.006449</td>\n      <td>-0.003824</td>\n    </tr>\n    <tr>\n      <th>42</th>\n      <td>Select_1</td>\n      <td>-0.869809</td>\n      <td>-0.847181</td>\n    </tr>\n    <tr>\n      <th>43</th>\n      <td>Consumption_1</td>\n      <td>0.039580</td>\n      <td>0.029239</td>\n    </tr>\n    <tr>\n      <th>44</th>\n      <td>responseTime_1</td>\n      <td>-0.052193</td>\n      <td>-0.028033</td>\n    </tr>\n    <tr>\n      <th>45</th>\n      <td>ENL_1</td>\n      <td>0.017423</td>\n      <td>0.017282</td>\n    </tr>\n    <tr>\n      <th>46</th>\n      <td>Cue_1</td>\n      <td>0.214721</td>\n      <td>0.193436</td>\n    </tr>\n    <tr>\n      <th>47</th>\n      <td>decision_1</td>\n      <td>-0.166640</td>\n      <td>-0.162613</td>\n    </tr>\n    <tr>\n      <th>48</th>\n      <td>switch_1</td>\n      <td>-0.245121</td>\n      <td>-0.232344</td>\n    </tr>\n    <tr>\n      <th>49</th>\n      <td>selR_1</td>\n      <td>0.157635</td>\n      <td>0.160518</td>\n    </tr>\n    <tr>\n      <th>50</th>\n      <td>selHigh_1</td>\n      <td>0.085473</td>\n      <td>0.082508</td>\n    </tr>\n    <tr>\n      <th>51</th>\n      <td>Reward_1</td>\n      <td>-0.014105</td>\n      <td>-0.000000</td>\n    </tr>\n    <tr>\n      <th>52</th>\n      <td>post_1</td>\n      <td>-0.070179</td>\n      <td>-0.060775</td>\n    </tr>\n    <tr>\n      <th>53</th>\n      <td>CuePenalty_2</td>\n      <td>-0.048437</td>\n      <td>-0.022826</td>\n    </tr>\n    <tr>\n      <th>54</th>\n      <td>ENLPenalty_2</td>\n      <td>0.068330</td>\n      <td>0.050669</td>\n    </tr>\n    <tr>\n      <th>55</th>\n      <td>Select_2</td>\n      <td>-0.902262</td>\n      <td>-0.849665</td>\n    </tr>\n    <tr>\n      <th>56</th>\n      <td>Consumption_2</td>\n      <td>0.023189</td>\n      <td>0.031647</td>\n    </tr>\n    <tr>\n      <th>57</th>\n      <td>responseTime_2</td>\n      <td>0.344194</td>\n      <td>0.317211</td>\n    </tr>\n    <tr>\n      <th>58</th>\n      <td>ENL_2</td>\n      <td>-0.051762</td>\n      <td>-0.050051</td>\n    </tr>\n    <tr>\n      <th>59</th>\n      <td>Cue_2</td>\n      <td>-0.174782</td>\n      <td>-0.173708</td>\n    </tr>\n    <tr>\n      <th>60</th>\n      <td>decision_2</td>\n      <td>-0.160123</td>\n      <td>-0.159686</td>\n    </tr>\n    <tr>\n      <th>61</th>\n      <td>switch_2</td>\n      <td>-0.259726</td>\n      <td>-0.246698</td>\n    </tr>\n    <tr>\n      <th>62</th>\n      <td>selR_2</td>\n      <td>0.156787</td>\n      <td>0.145740</td>\n    </tr>\n    <tr>\n      <th>63</th>\n      <td>selHigh_2</td>\n      <td>0.105053</td>\n      <td>0.101919</td>\n    </tr>\n    <tr>\n      <th>64</th>\n      <td>Reward_2</td>\n      <td>0.018942</td>\n      <td>0.009099</td>\n    </tr>\n    <tr>\n      <th>65</th>\n      <td>post_2</td>\n      <td>-0.046798</td>\n      <td>-0.047503</td>\n    </tr>\n    <tr>\n      <th>66</th>\n      <td>grnL_sft</td>\n      <td>0.132058</td>\n      <td>0.132062</td>\n    </tr>\n    <tr>\n      <th>67</th>\n      <td>grnL_sft2</td>\n      <td>0.705802</td>\n      <td>0.705799</td>\n    </tr>\n  </tbody>\n</table>\n</div>",
      "text/plain": "           Col Name  SK Learn Coef  PY GLM Net Coef\n0         Intercept      -0.020274        -0.020137\n1        CuePenalty      -0.211815        -0.097288\n2        ENLPenalty      -0.060191        -0.044937\n3            Select      -0.882600        -0.845361\n4       Consumption      -0.020996        -0.000000\n5      responseTime       0.009937        -0.000000\n6               ENL       0.092935         0.080779\n7               Cue      -0.057069        -0.037235\n8          decision      -0.131464        -0.139331\n9            switch      -0.218030        -0.205507\n10             selR       0.189071         0.175113\n11          selHigh       0.065775         0.064237\n12           Reward       0.021413         0.005658\n13             post       0.041453         0.010433\n14    CuePenalty_-2      -0.163262        -0.075032\n15    ENLPenalty_-2      -0.002870        -0.002550\n16        Select_-2      -0.823574        -0.807716\n17   Consumption_-2      -0.059328        -0.049995\n18  responseTime_-2       0.007464         0.014614\n19           ENL_-2       0.003918        -0.000000\n20           Cue_-2      -0.007487        -0.002153\n21      decision_-2      -0.075042        -0.074749\n22        switch_-2      -0.147414        -0.136364\n23          selR_-2       0.163977         0.161938\n24       selHigh_-2       0.034281         0.032399\n25        Reward_-2      -0.012311        -0.011837\n26          post_-2       0.125951         0.099203\n27    CuePenalty_-1      -0.219025        -0.097435\n28    ENLPenalty_-1      -0.017352        -0.019175\n29        Select_-1      -0.860692        -0.832358\n30   Consumption_-1       0.028616        -0.000000\n31  responseTime_-1      -0.004892        -0.000000\n32           ENL_-1      -0.057869        -0.043550\n33           Cue_-1       0.004415        -0.002472\n34      decision_-1      -0.135586        -0.124886\n35        switch_-1      -0.188777        -0.176976\n36          selR_-1       0.178651         0.176698\n37       selHigh_-1       0.050970         0.048098\n38        Reward_-1      -0.011871        -0.000823\n39          post_-1      -0.049050        -0.000000\n40     CuePenalty_1      -0.266129        -0.113144\n41     ENLPenalty_1      -0.006449        -0.003824\n42         Select_1      -0.869809        -0.847181\n43    Consumption_1       0.039580         0.029239\n44   responseTime_1      -0.052193        -0.028033\n45            ENL_1       0.017423         0.017282\n46            Cue_1       0.214721         0.193436\n47       decision_1      -0.166640        -0.162613\n48         switch_1      -0.245121        -0.232344\n49           selR_1       0.157635         0.160518\n50        selHigh_1       0.085473         0.082508\n51         Reward_1      -0.014105        -0.000000\n52           post_1      -0.070179        -0.060775\n53     CuePenalty_2      -0.048437        -0.022826\n54     ENLPenalty_2       0.068330         0.050669\n55         Select_2      -0.902262        -0.849665\n56    Consumption_2       0.023189         0.031647\n57   responseTime_2       0.344194         0.317211\n58            ENL_2      -0.051762        -0.050051\n59            Cue_2      -0.174782        -0.173708\n60       decision_2      -0.160123        -0.159686\n61         switch_2      -0.259726        -0.246698\n62           selR_2       0.156787         0.145740\n63        selHigh_2       0.105053         0.101919\n64         Reward_2       0.018942         0.009099\n65           post_2      -0.046798        -0.047503\n66         grnL_sft       0.132058         0.132062\n67        grnL_sft2       0.705802         0.705799"
     },
     "metadata": {},
     "output_type": "display_data"
    }
   ],
   "source": [
    "# predictor_size = 16\n",
    "predictor_size = len(X.columns)\n",
    "for fc in range(len(X.columns)//predictor_size):\n",
    "    use_cols = list(range(fc * predictor_size, fc * predictor_size + predictor_size))\n",
    "\n",
    "    use_cols = [_ for _ in use_cols if 'nTrial' not in X.columns[_]]\n",
    "\n",
    "    # print(list(X.columns))\n",
    "    column_names = X.columns[use_cols]\n",
    "    print(f\"{use_cols} — {column_names}\")\n",
    "    # glm3 = sglm.SKGLM('Normal', max_iter=10000, alpha=0)\n",
    "    # glm3.fit(X.values[1:, use_cols], y.values[1:])\n",
    "    \n",
    "    glm4 = LinearRegression()\n",
    "    glm4.fit(np.float64(X.values[1:, use_cols]), np.float64(y.values[1:]))\n",
    "    glm3 = glm4\n",
    "\n",
    "    # pred = glm3.model.predict(X.values)\n",
    "    # true = y.values\n",
    "\n",
    "    print('SKGLM Done...')\n",
    "    sk_int = glm3.intercept_\n",
    "    sk_coef = glm3.coef_\n",
    "\n",
    "    print('Starting PY GLM Net...')\n",
    "\n",
    "    # glm = sglm.GLM('Normal', max_iter=10000, reg_lambda=0.00001, verbose=True, solver='batch-gradient')\n",
    "    glm = sglm.GLM('Normal', max_iter=10000, reg_lambda=0.00001, verbose=True)\n",
    "    glm.fit(np.float64(X.values[1:, use_cols]), np.float64(y.values[1:]))\n",
    "\n",
    "    print('PY GLM Net Done...')\n",
    "\n",
    "    # print(glm.intercept_, glm.coef_)\n",
    "\n",
    "\n",
    "\n",
    "    sk_int = glm3.intercept_\n",
    "    pgn_int = glm.intercept_\n",
    "\n",
    "    sk_coef = glm3.coef_\n",
    "    pgn_coef = glm.coef_\n",
    "\n",
    "    int_vals = [('Intercept', sk_int, pgn_int)]\n",
    "    coef_vals = [(column_names[_], sk_coef[_], pgn_coef[_]) for _ in range(len(use_cols))]\n",
    "\n",
    "    with pd.option_context('max_rows', 1000):\n",
    "        display(pd.DataFrame(int_vals + coef_vals, columns=['Col Name', 'SK Learn Coef', 'PY GLM Net Coef']))\n",
    "\n",
    "\n",
    "    # Problem Columns...\n",
    "    # > 'nTrial', 'iBlock'\n",
    "    [\n",
    "        'CuePenalty',\n",
    "        'Penalty',\n",
    "        'Select',\n",
    "        'TO'\n",
    "    ]\n",
    "    [\n",
    "        'switch',\n",
    "        'selHigh'\n",
    "    ]\n",
    "\n",
    "    # Differences in coeffs -- come from sparse features\n",
    "    # Newton CG taking too long to run -- comes from multicollinearity\n",
    "    # "
   ]
  },
  {
   "cell_type": "code",
   "execution_count": 12,
   "metadata": {},
   "outputs": [],
   "source": [
    "crr = X[X.columns[use_cols]].dropna().corr()\n"
   ]
  },
  {
   "cell_type": "code",
   "execution_count": 23,
   "metadata": {},
   "outputs": [
    {
     "data": {
      "text/html": "<div>\n<style scoped>\n    .dataframe tbody tr th:only-of-type {\n        vertical-align: middle;\n    }\n\n    .dataframe tbody tr th {\n        vertical-align: top;\n    }\n\n    .dataframe thead th {\n        text-align: right;\n    }\n</style>\n<table border=\"1\" class=\"dataframe\">\n  <thead>\n    <tr style=\"text-align: right;\">\n      <th></th>\n      <th>nTrial</th>\n      <th>CuePenalty</th>\n      <th>ENLPenalty</th>\n      <th>Select</th>\n      <th>Consumption</th>\n      <th>responseTime</th>\n      <th>ENL</th>\n      <th>Cue</th>\n      <th>decision</th>\n      <th>switch</th>\n      <th>selR</th>\n      <th>selHigh</th>\n      <th>Reward</th>\n      <th>post</th>\n      <th>nTrial_-2</th>\n      <th>CuePenalty_-2</th>\n      <th>ENLPenalty_-2</th>\n      <th>Select_-2</th>\n      <th>Consumption_-2</th>\n      <th>responseTime_-2</th>\n    </tr>\n  </thead>\n  <tbody>\n    <tr>\n      <th>count</th>\n      <td>234921.000000</td>\n      <td>234921.000000</td>\n      <td>234921.000000</td>\n      <td>234921.000000</td>\n      <td>234921.000000</td>\n      <td>234921.000000</td>\n      <td>234921.000000</td>\n      <td>234921.000000</td>\n      <td>234921.000000</td>\n      <td>234921.000000</td>\n      <td>234921.000000</td>\n      <td>234921.000000</td>\n      <td>234921.000000</td>\n      <td>234921.000000</td>\n      <td>234921.000000</td>\n      <td>234921.000000</td>\n      <td>234921.000000</td>\n      <td>234921.000000</td>\n      <td>234921.000000</td>\n      <td>234921.000000</td>\n    </tr>\n    <tr>\n      <th>mean</th>\n      <td>121.142367</td>\n      <td>0.000004</td>\n      <td>0.000047</td>\n      <td>0.001005</td>\n      <td>0.617825</td>\n      <td>0.046156</td>\n      <td>0.308521</td>\n      <td>0.017099</td>\n      <td>0.000009</td>\n      <td>-0.000817</td>\n      <td>0.000511</td>\n      <td>0.000656</td>\n      <td>0.314148</td>\n      <td>0.315214</td>\n      <td>121.144368</td>\n      <td>0.000004</td>\n      <td>0.000047</td>\n      <td>0.001005</td>\n      <td>0.617825</td>\n      <td>0.046156</td>\n    </tr>\n    <tr>\n      <th>std</th>\n      <td>68.145452</td>\n      <td>0.002063</td>\n      <td>0.006843</td>\n      <td>0.031679</td>\n      <td>0.485920</td>\n      <td>0.209823</td>\n      <td>0.461884</td>\n      <td>0.129642</td>\n      <td>0.031695</td>\n      <td>0.031685</td>\n      <td>0.031691</td>\n      <td>0.031689</td>\n      <td>0.720512</td>\n      <td>0.425441</td>\n      <td>68.145462</td>\n      <td>0.002063</td>\n      <td>0.006843</td>\n      <td>0.031679</td>\n      <td>0.485920</td>\n      <td>0.209823</td>\n    </tr>\n    <tr>\n      <th>min</th>\n      <td>4.000000</td>\n      <td>0.000000</td>\n      <td>0.000000</td>\n      <td>0.000000</td>\n      <td>0.000000</td>\n      <td>0.000000</td>\n      <td>0.000000</td>\n      <td>0.000000</td>\n      <td>-1.000000</td>\n      <td>-1.000000</td>\n      <td>-1.000000</td>\n      <td>-1.000000</td>\n      <td>-1.000000</td>\n      <td>0.000000</td>\n      <td>4.000000</td>\n      <td>0.000000</td>\n      <td>0.000000</td>\n      <td>0.000000</td>\n      <td>0.000000</td>\n      <td>0.000000</td>\n    </tr>\n    <tr>\n      <th>25%</th>\n      <td>62.000000</td>\n      <td>0.000000</td>\n      <td>0.000000</td>\n      <td>0.000000</td>\n      <td>0.000000</td>\n      <td>0.000000</td>\n      <td>0.000000</td>\n      <td>0.000000</td>\n      <td>0.000000</td>\n      <td>0.000000</td>\n      <td>0.000000</td>\n      <td>0.000000</td>\n      <td>0.000000</td>\n      <td>0.000000</td>\n      <td>62.000000</td>\n      <td>0.000000</td>\n      <td>0.000000</td>\n      <td>0.000000</td>\n      <td>0.000000</td>\n      <td>0.000000</td>\n    </tr>\n    <tr>\n      <th>50%</th>\n      <td>121.000000</td>\n      <td>0.000000</td>\n      <td>0.000000</td>\n      <td>0.000000</td>\n      <td>1.000000</td>\n      <td>0.000000</td>\n      <td>0.000000</td>\n      <td>0.000000</td>\n      <td>0.000000</td>\n      <td>0.000000</td>\n      <td>0.000000</td>\n      <td>0.000000</td>\n      <td>0.000000</td>\n      <td>0.018520</td>\n      <td>121.000000</td>\n      <td>0.000000</td>\n      <td>0.000000</td>\n      <td>0.000000</td>\n      <td>1.000000</td>\n      <td>0.000000</td>\n    </tr>\n    <tr>\n      <th>75%</th>\n      <td>180.000000</td>\n      <td>0.000000</td>\n      <td>0.000000</td>\n      <td>0.000000</td>\n      <td>1.000000</td>\n      <td>0.000000</td>\n      <td>1.000000</td>\n      <td>0.000000</td>\n      <td>0.000000</td>\n      <td>0.000000</td>\n      <td>0.000000</td>\n      <td>0.000000</td>\n      <td>1.000000</td>\n      <td>0.881418</td>\n      <td>180.000000</td>\n      <td>0.000000</td>\n      <td>0.000000</td>\n      <td>0.000000</td>\n      <td>1.000000</td>\n      <td>0.000000</td>\n    </tr>\n    <tr>\n      <th>max</th>\n      <td>239.000000</td>\n      <td>1.000000</td>\n      <td>1.000000</td>\n      <td>1.000000</td>\n      <td>1.000000</td>\n      <td>1.000000</td>\n      <td>1.000000</td>\n      <td>1.000000</td>\n      <td>1.000000</td>\n      <td>1.000000</td>\n      <td>1.000000</td>\n      <td>1.000000</td>\n      <td>1.000000</td>\n      <td>0.988810</td>\n      <td>239.000000</td>\n      <td>1.000000</td>\n      <td>1.000000</td>\n      <td>1.000000</td>\n      <td>1.000000</td>\n      <td>1.000000</td>\n    </tr>\n  </tbody>\n</table>\n</div>",
      "text/plain": "              nTrial     CuePenalty     ENLPenalty         Select  \\\ncount  234921.000000  234921.000000  234921.000000  234921.000000   \nmean      121.142367       0.000004       0.000047       0.001005   \nstd        68.145452       0.002063       0.006843       0.031679   \nmin         4.000000       0.000000       0.000000       0.000000   \n25%        62.000000       0.000000       0.000000       0.000000   \n50%       121.000000       0.000000       0.000000       0.000000   \n75%       180.000000       0.000000       0.000000       0.000000   \nmax       239.000000       1.000000       1.000000       1.000000   \n\n         Consumption   responseTime            ENL            Cue  \\\ncount  234921.000000  234921.000000  234921.000000  234921.000000   \nmean        0.617825       0.046156       0.308521       0.017099   \nstd         0.485920       0.209823       0.461884       0.129642   \nmin         0.000000       0.000000       0.000000       0.000000   \n25%         0.000000       0.000000       0.000000       0.000000   \n50%         1.000000       0.000000       0.000000       0.000000   \n75%         1.000000       0.000000       1.000000       0.000000   \nmax         1.000000       1.000000       1.000000       1.000000   \n\n            decision         switch           selR        selHigh  \\\ncount  234921.000000  234921.000000  234921.000000  234921.000000   \nmean        0.000009      -0.000817       0.000511       0.000656   \nstd         0.031695       0.031685       0.031691       0.031689   \nmin        -1.000000      -1.000000      -1.000000      -1.000000   \n25%         0.000000       0.000000       0.000000       0.000000   \n50%         0.000000       0.000000       0.000000       0.000000   \n75%         0.000000       0.000000       0.000000       0.000000   \nmax         1.000000       1.000000       1.000000       1.000000   \n\n              Reward           post      nTrial_-2  CuePenalty_-2  \\\ncount  234921.000000  234921.000000  234921.000000  234921.000000   \nmean        0.314148       0.315214     121.144368       0.000004   \nstd         0.720512       0.425441      68.145462       0.002063   \nmin        -1.000000       0.000000       4.000000       0.000000   \n25%         0.000000       0.000000      62.000000       0.000000   \n50%         0.000000       0.018520     121.000000       0.000000   \n75%         1.000000       0.881418     180.000000       0.000000   \nmax         1.000000       0.988810     239.000000       1.000000   \n\n       ENLPenalty_-2      Select_-2  Consumption_-2  responseTime_-2  \ncount  234921.000000  234921.000000   234921.000000    234921.000000  \nmean        0.000047       0.001005        0.617825         0.046156  \nstd         0.006843       0.031679        0.485920         0.209823  \nmin         0.000000       0.000000        0.000000         0.000000  \n25%         0.000000       0.000000        0.000000         0.000000  \n50%         0.000000       0.000000        1.000000         0.000000  \n75%         0.000000       0.000000        1.000000         0.000000  \nmax         1.000000       1.000000        1.000000         1.000000  "
     },
     "execution_count": 23,
     "metadata": {},
     "output_type": "execute_result"
    }
   ],
   "source": [
    "X.iloc[:,:20].describe()"
   ]
  },
  {
   "cell_type": "code",
   "execution_count": 15,
   "metadata": {},
   "outputs": [
    {
     "data": {
      "text/plain": "CuePenalty         0.015642\nENLPenalty         0.010245\nSelect             0.652354\nConsumption        0.995745\nresponseTime       0.977182\nENL                0.995062\nCue                0.939974\ndecision           0.028462\nswitch             0.032797\nselR               0.788073\nselHigh            0.788073\nReward             0.998065\npost               0.997481\nCuePenalty_-2      0.015642\nENLPenalty_-2      0.010245\nSelect_-2          0.652354\nConsumption_-2     0.995745\nresponseTime_-2    0.977182\nENL_-2             0.995062\nCue_-2             0.939974\ndecision_-2        0.008470\nswitch_-2          0.032797\nselR_-2            0.788073\nselHigh_-2         0.788073\nReward_-2          0.998065\npost_-2            0.997481\nCuePenalty_-1      0.015642\nENLPenalty_-1      0.010245\nSelect_-1          0.652354\nConsumption_-1     0.995745\nresponseTime_-1    0.977182\nENL_-1             0.995062\nCue_-1             0.939974\ndecision_-1        0.028462\nswitch_-1          0.032797\nselR_-1            0.788073\nselHigh_-1         0.788073\nReward_-1          0.998065\npost_-1            0.997481\nCuePenalty_1       0.015642\nENLPenalty_1       0.010245\nSelect_1           0.652354\nConsumption_1      0.995745\nresponseTime_1     0.977182\nENL_1              0.995062\nCue_1              0.939974\ndecision_1         0.028462\nswitch_1           0.032797\nselR_1             0.788073\nselHigh_1          0.788073\nReward_1           0.998065\npost_1             0.997481\nCuePenalty_2       0.015642\nENLPenalty_2       0.010245\nSelect_2           0.652354\nConsumption_2      0.995745\nresponseTime_2     0.977182\nENL_2              0.995062\nCue_2              0.939974\ndecision_2         0.028462\nswitch_2           0.032797\nselR_2             0.788073\nselHigh_2          0.788073\nReward_2           0.998065\npost_2             0.997481\ngrnL_sft           0.460509\ngrnL_sft2          0.460509\ndtype: float64"
     },
     "metadata": {},
     "output_type": "display_data"
    }
   ],
   "source": [
    "with pd.option_context('max_rows',1000):\n",
    "    display((crr-np.eye(len(crr))).max())"
   ]
  },
  {
   "cell_type": "code",
   "execution_count": null,
   "metadata": {},
   "outputs": [],
   "source": []
  },
  {
   "cell_type": "code",
   "execution_count": null,
   "metadata": {},
   "outputs": [],
   "source": []
  }
 ],
 "metadata": {
  "kernelspec": {
   "display_name": "Python 3.8.5 64-bit ('base': conda)",
   "name": "python385jvsc74a57bd0b6b651f281809d6f5bb1ebb314364d3970bc3b05c24a509e1dfeed0ec94f0fd7"
  },
  "language_info": {
   "name": "python",
   "version": ""
  },
  "orig_nbformat": 2
 },
 "nbformat": 4,
 "nbformat_minor": 2
}