{
 "cells": [
  {
   "cell_type": "code",
   "execution_count": 1,
   "metadata": {},
   "outputs": [],
   "source": [
    "import itertools"
   ]
  },
  {
   "cell_type": "code",
   "execution_count": 21,
   "metadata": {},
   "outputs": [],
   "source": [
    "def generate_mult_params(kwargs, kwarg_lists):\n",
    "\n",
    "    fliped_dict_list = [kwargs] + [[{key:_} for _ in x[key]] for key in kwarg_lists]"
   ]
  },
  {
   "cell_type": "code",
   "execution_count": 22,
   "metadata": {},
   "outputs": [],
   "source": [
    "d = {'key1':['opt1','opt2','opt3'],\n",
    " 'key2':['optA','optB','optC'],\n",
    " 'key3':['opta','optb','optc']\n",
    "}"
   ]
  },
  {
   "cell_type": "code",
   "execution_count": 23,
   "metadata": {},
   "outputs": [
    {
     "data": {
      "text/plain": [
       "[[{'key1': 'opt1'}, {'key1': 'opt2'}, {'key1': 'opt3'}],\n",
       " [{'key2': 'optA'}, {'key2': 'optB'}, {'key2': 'optC'}],\n",
       " [{'key3': 'opta'}, {'key3': 'optb'}, {'key3': 'optc'}]]"
      ]
     },
     "execution_count": 23,
     "metadata": {},
     "output_type": "execute_result"
    }
   ],
   "source": [
    "l = [[{key:_} for _ in d[key]] for key in d]\n",
    "l"
   ]
  },
  {
   "cell_type": "code",
   "execution_count": 26,
   "metadata": {},
   "outputs": [
    {
     "data": {
      "text/plain": [
       "[{'key1': 'opt1', 'key2': 'optA', 'key3': 'opta'},\n",
       " {'key1': 'opt1', 'key2': 'optA', 'key3': 'optb'},\n",
       " {'key1': 'opt1', 'key2': 'optA', 'key3': 'optc'},\n",
       " {'key1': 'opt1', 'key2': 'optB', 'key3': 'opta'},\n",
       " {'key1': 'opt1', 'key2': 'optB', 'key3': 'optb'},\n",
       " {'key1': 'opt1', 'key2': 'optB', 'key3': 'optc'},\n",
       " {'key1': 'opt1', 'key2': 'optC', 'key3': 'opta'},\n",
       " {'key1': 'opt1', 'key2': 'optC', 'key3': 'optb'},\n",
       " {'key1': 'opt1', 'key2': 'optC', 'key3': 'optc'},\n",
       " {'key1': 'opt2', 'key2': 'optA', 'key3': 'opta'},\n",
       " {'key1': 'opt2', 'key2': 'optA', 'key3': 'optb'},\n",
       " {'key1': 'opt2', 'key2': 'optA', 'key3': 'optc'},\n",
       " {'key1': 'opt2', 'key2': 'optB', 'key3': 'opta'},\n",
       " {'key1': 'opt2', 'key2': 'optB', 'key3': 'optb'},\n",
       " {'key1': 'opt2', 'key2': 'optB', 'key3': 'optc'},\n",
       " {'key1': 'opt2', 'key2': 'optC', 'key3': 'opta'},\n",
       " {'key1': 'opt2', 'key2': 'optC', 'key3': 'optb'},\n",
       " {'key1': 'opt2', 'key2': 'optC', 'key3': 'optc'},\n",
       " {'key1': 'opt3', 'key2': 'optA', 'key3': 'opta'},\n",
       " {'key1': 'opt3', 'key2': 'optA', 'key3': 'optb'},\n",
       " {'key1': 'opt3', 'key2': 'optA', 'key3': 'optc'},\n",
       " {'key1': 'opt3', 'key2': 'optB', 'key3': 'opta'},\n",
       " {'key1': 'opt3', 'key2': 'optB', 'key3': 'optb'},\n",
       " {'key1': 'opt3', 'key2': 'optB', 'key3': 'optc'},\n",
       " {'key1': 'opt3', 'key2': 'optC', 'key3': 'opta'},\n",
       " {'key1': 'opt3', 'key2': 'optC', 'key3': 'optb'},\n",
       " {'key1': 'opt3', 'key2': 'optC', 'key3': 'optc'}]"
      ]
     },
     "execution_count": 26,
     "metadata": {},
     "output_type": "execute_result"
    }
   ],
   "source": [
    "it = list(itertools.product(*l))\n",
    "[{_key:dct[_key] for dct in it[i] for _key in dct} for i in range(len(it))]"
   ]
  },
  {
   "cell_type": "code",
   "execution_count": null,
   "metadata": {},
   "outputs": [],
   "source": []
  }
 ],
 "metadata": {
  "kernelspec": {
   "display_name": "Python 3",
   "language": "python",
   "name": "python3"
  },
  "language_info": {
   "codemirror_mode": {
    "name": "ipython",
    "version": 3
   },
   "file_extension": ".py",
   "mimetype": "text/x-python",
   "name": "python",
   "nbconvert_exporter": "python",
   "pygments_lexer": "ipython3",
   "version": "3.8.5"
  }
 },
 "nbformat": 4,
 "nbformat_minor": 4
}
