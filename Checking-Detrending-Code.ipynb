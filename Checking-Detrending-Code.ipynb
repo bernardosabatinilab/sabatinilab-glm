{
 "cells": [
  {
   "cell_type": "code",
   "execution_count": 28,
   "metadata": {},
   "outputs": [],
   "source": [
    "import pandas as pd"
   ]
  },
  {
   "cell_type": "code",
   "execution_count": 35,
   "metadata": {},
   "outputs": [],
   "source": [
    "srs = pd.Series([1, 2, 3, 4, 5, 6, 7, 8, 9, 10])\n"
   ]
  },
  {
   "cell_type": "code",
   "execution_count": 44,
   "metadata": {},
   "outputs": [],
   "source": [
    "def min_max_scaling(srs):\n",
    "    \"\"\"\n",
    "    Min-max scaling\n",
    "    \"\"\"\n",
    "    return (srs.iloc[(len(srs) + 1)//2 - 1] - srs.min()) / (srs.max() - srs.min())"
   ]
  },
  {
   "cell_type": "code",
   "execution_count": 45,
   "metadata": {},
   "outputs": [
    {
     "data": {
      "text/plain": [
       "0    NaN\n",
       "1    0.5\n",
       "2    0.5\n",
       "3    0.5\n",
       "4    0.5\n",
       "5    0.5\n",
       "6    0.5\n",
       "7    0.5\n",
       "8    0.5\n",
       "9    NaN\n",
       "dtype: float64"
      ]
     },
     "execution_count": 45,
     "metadata": {},
     "output_type": "execute_result"
    }
   ],
   "source": [
    "srs.rolling(window=3, center=True).apply(min_max_scaling)"
   ]
  },
  {
   "cell_type": "code",
   "execution_count": 10,
   "metadata": {},
   "outputs": [
    {
     "ename": "ModuleNotFoundError",
     "evalue": "No module named 'sglm_pp'",
     "output_type": "error",
     "traceback": [
      "\u001b[0;31m---------------------------------------------------------------------------\u001b[0m",
      "\u001b[0;31mModuleNotFoundError\u001b[0m                       Traceback (most recent call last)",
      "\u001b[0;32m<ipython-input-10-9c75f626c63b>\u001b[0m in \u001b[0;36m<module>\u001b[0;34m\u001b[0m\n\u001b[0;32m----> 1\u001b[0;31m \u001b[0;32mimport\u001b[0m \u001b[0msglm_pp\u001b[0m \u001b[0;32mas\u001b[0m \u001b[0mspp\u001b[0m\u001b[0;34m\u001b[0m\u001b[0;34m\u001b[0m\u001b[0m\n\u001b[0m",
      "\u001b[0;31mModuleNotFoundError\u001b[0m: No module named 'sglm_pp'"
     ]
    }
   ],
   "source": [
    "import sglm_pp as spp"
   ]
  },
  {
   "cell_type": "code",
   "execution_count": 47,
   "metadata": {},
   "outputs": [],
   "source": [
    "from typing import Union, List, Optional\n",
    "import numpy as np\n",
    "\n",
    "\n",
    "def min_max_scale(X: float, lower_bound: float, upper_bound: float) -> Union[np.ndarray, pd.DataFrame]:\n",
    "    \"\"\"\n",
    "    Scale values of X to be between 0 and 1.\n",
    "    \n",
    "    JZ 2020\n",
    "    \n",
    "    Args:\n",
    "        X: Input data\n",
    "    \n",
    "    Returns:\n",
    "        Scaled values\n",
    "    \"\"\"\n",
    "    return (X - lower_bound) / (upper_bound - lower_bound)\n",
    "\n",
    "def lambda_min_max(X: pd.Series) -> float:\n",
    "    \"\"\"\n",
    "    Lambda function for min_max_scale\n",
    "    \n",
    "    JZ 2020\n",
    "    \"\"\"\n",
    "    lower_bound = X.quantile(0.05) # X.min()\n",
    "    upper_bound = X.quantile(0.95) # X.max()\n",
    "    return min_max_scale(X.iloc[(len(X) + 1)//2 - 1], lower_bound, upper_bound)\n",
    "\n",
    "    # return min_max_scale(X.iloc[-1], X.min(), X.max())\n",
    "\n",
    "def detrend_data(X: pd.DataFrame, detrend_col: str, grouping_cols: List[str], window: int, standardize: Optional[bool]=False) -> pd.DataFrame:\n",
    "    \"\"\"\n",
    "    Detrend data by removing a trend from a column.\n",
    "    \n",
    "    JZ 2020\n",
    "    \n",
    "    Args:\n",
    "        X: Input data\n",
    "        detrend_col: Column to detrend\n",
    "        grouping_cols: Columns to group by\n",
    "        window: Window size for detrending\n",
    "    \n",
    "    Returns:\n",
    "        Detrended data\n",
    "    \"\"\"\n",
    "    if grouping_cols:\n",
    "        ret = X.groupby(grouping_cols)[detrend_col].rolling(window=window*2, center=True).apply(lambda_min_max)\n",
    "    else:\n",
    "        ret = X[detrend_col].rolling(window=window*2, center=True).apply(lambda_min_max)\n",
    "\n",
    "    # if standardize:\n",
    "    #     ret = (ret - ret.mean()) / ret.std()\n",
    "    \n",
    "    return ret"
   ]
  },
  {
   "cell_type": "code",
   "execution_count": 48,
   "metadata": {},
   "outputs": [],
   "source": [
    "df = pd.DataFrame([[1, 1], [1, 2], [1, 3], [1, 4], [1, 5], [1, 6], [1, 7], [1, 0], [1, 9], [1, 1],\n",
    "                   [2, 1], [2, 2], [2, 3], [2, 4], [2, 5], [2, 6], [2, 7], [2, 0], [2, 9], [2, 1]], columns=['a', 'b'])"
   ]
  },
  {
   "cell_type": "code",
   "execution_count": 51,
   "metadata": {},
   "outputs": [
    {
     "data": {
      "text/plain": [
       "<AxesSubplot:>"
      ]
     },
     "execution_count": 51,
     "metadata": {},
     "output_type": "execute_result"
    },
    {
     "data": {
      "image/png": "[encoded data removed]",
      "text/plain": [
       "<Figure size 432x288 with 1 Axes>"
      ]
     },
     "metadata": {
      "needs_background": "light"
     },
     "output_type": "display_data"
    }
   ],
   "source": [
    "df['b'].plot()"
   ]
  },
  {
   "cell_type": "code",
   "execution_count": 55,
   "metadata": {},
   "outputs": [
    {
     "data": {
      "text/plain": [
       "<AxesSubplot:>"
      ]
     },
     "execution_count": 55,
     "metadata": {},
     "output_type": "execute_result"
    },
    {
     "data": {
      "image/png": "[encoded data removed]",
      "text/plain": [
       "<Figure size 432x288 with 1 Axes>"
      ]
     },
     "metadata": {
      "needs_background": "light"
     },
     "output_type": "display_data"
    }
   ],
   "source": [
    "detrend_data(df, 'b', [], 3).plot()"
   ]
  },
  {
   "cell_type": "code",
   "execution_count": null,
   "metadata": {},
   "outputs": [],
   "source": []
  }
 ],
 "metadata": {
  "interpreter": {
   "hash": "fa0fc083a9a7b25dab36cbe71fb89b2f1907d4eced1698b208dea6977346b521"
  },
  "kernelspec": {
   "display_name": "Python 3.8.5 64-bit ('base': conda)",
   "language": "python",
   "name": "python3"
  },
  "language_info": {
   "codemirror_mode": {
    "name": "ipython",
    "version": 3
   },
   "file_extension": ".py",
   "mimetype": "text/x-python",
   "name": "python",
   "nbconvert_exporter": "python",
   "pygments_lexer": "ipython3",
   "version": "3.8.5"
  },
  "orig_nbformat": 4
 },
 "nbformat": 4,
 "nbformat_minor": 2
}
