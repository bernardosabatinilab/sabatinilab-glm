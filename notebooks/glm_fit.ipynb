{
 "cells": [
  {
   "cell_type": "code",
   "execution_count": null,
   "metadata": {},
   "outputs": [],
   "source": [
    "import numpy as np\n",
    "import pandas as pd"
   ]
  },
  {
   "attachments": {},
   "cell_type": "markdown",
   "metadata": {},
   "source": [
    "# Import Data"
   ]
  },
  {
   "attachments": {},
   "cell_type": "markdown",
   "metadata": {},
   "source": [
    "Inputted CSV data should conform to the following convention:\n",
    "\n",
    "Indices / Unique Row Identifiers:\n",
    "* File ID -- Any order is acceptable\n",
    "* Trial ID -- Must be in chronological order, but does not need to start from zero\n",
    "* TimeStamp ID -- Must be in chronological order, but does not need to start from zero\n",
    "\n",
    "Columns (Predictors + Responses + Miscelaneous Information):\n",
    "* Predictors\n",
    "* Reponses\n",
    "* Miscelaneous Information\n",
    "\n",
    "Example:\n",
    "| id_file | id_trial | id_timestamp | predictor_1 | predictor_2 | predictor_3 | response_1 | response_2 |\n",
    "| --- | --- | --- | --- | --- | --- | --- | --- |\n",
    "| file_0 | trial_0 | -1 | 0 | 0 | 0 | 1 | 0.3 |\n",
    "| file_0 | trial_0 | 0 | 0 | 0 | 0 | 0 | 1.4 |\n",
    "| file_0 | trial_0 | 1 | 0 | 0 | 0 | 1 | 2.3 |\n",
    "| file_0 | trial_0 | 2 | 0 | 0 | 0 | 1 | 0.3 |\n",
    "| file_0 | trial_1 | -2 | 0 | 0 | 0 | 0 | 1.4 |\n",
    "| file_0 | trial_1 | -1 | 0 | 0 | 0 | 1 | 2.3 |\n",
    "| file_0 | trial_1 | 0 | 0 | 0 | 0 | 0 | 1.4 |\n",
    "| file_0 | trial_1 | 1 | 0 | 0 | 0 | 1 | 2.3 |\n",
    "| file_1 | trial_0 | 5 | 0 | 0 | 0 | 0 | 1.4 |\n",
    "| file_1 | trial_0 | 6 | 0 | 0 | 0 | 1 | 2.3 |\n",
    "| file_1 | trial_0 | 7 | 0 | 0 | 0 | 0 | 1.4 |\n",
    "| file_1 | trial_0 | 8 | 0 | 0 | 0 | 1 | 2.3 |\n",
    "| file_1 | trial_1 | 9 | 0 | 0 | 0 | 0 | 1.4 |\n",
    "| file_1 | trial_1 | 10 | 0 | 0 | 0 | 1 | 2.3 |\n",
    "| file_1 | trial_1 | 11 | 0 | 0 | 0 | 0 | 1.4 |\n",
    "| file_1 | trial_1 | 12 | 0 | 0 | 0 | 0 | 2.3 |\n",
    "| file_1 | trial_2 | 13 | 0 | 0 | 0 | 0 | 1.4 |\n",
    "| file_1 | trial_2 | 14 | 0 | 0 | 0 | 0 | 2.3 |\n",
    "| file_1 | trial_2 | 15 | 0 | 0 | 0 | 0 | 1.4 |\n",
    "| file_1 | trial_2 | 16 | 0 | 0 | 0 | 1 | 2.3 |"
   ]
  },
  {
   "cell_type": "code",
   "execution_count": null,
   "metadata": {},
   "outputs": [],
   "source": []
  }
 ],
 "metadata": {
  "language_info": {
   "name": "python"
  },
  "orig_nbformat": 4
 },
 "nbformat": 4,
 "nbformat_minor": 2
}
