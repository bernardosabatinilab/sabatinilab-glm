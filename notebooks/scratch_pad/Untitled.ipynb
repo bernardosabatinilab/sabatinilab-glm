{
 "cells": [
  {
   "cell_type": "code",
   "execution_count": 5,
   "id": "192c27f0",
   "metadata": {},
   "outputs": [
    {
     "data": {
      "text/plain": [
       "         nTrial_filenum\n",
       "0        1                NaN\n",
       "1        1                NaN\n",
       "2        1                NaN\n",
       "3        1                NaN\n",
       "4        1                NaN\n",
       "                           ..\n",
       "1341011  32259            NaN\n",
       "1341012  32259            NaN\n",
       "1341013  32259            NaN\n",
       "1341014  32259            NaN\n",
       "1341015  32259            NaN\n",
       "Name: rDA, Length: 1341016, dtype: float64"
      ]
     },
     "execution_count": 5,
     "metadata": {},
     "output_type": "execute_result"
    }
   ],
   "source": [
    "import pandas as pd\n",
    "hdf = pd.read_hdf(r'C:\\Users\\Josh\\Documents\\GitHub\\sabatinilab-glm\\sglm\\outputs\\Figure_4_g2\\all\\f4-ctrl-dual_0-ft\\reconstructs\\best_resids_1194_1195_1214_1258_1259_0.h5', key='dfrel_basis')\n",
    "hdf['rDA']"
   ]
  }
 ],
 "metadata": {
  "kernelspec": {
   "display_name": "Python 3 (ipykernel)",
   "language": "python",
   "name": "python3"
  },
  "language_info": {
   "codemirror_mode": {
    "name": "ipython",
    "version": 3
   },
   "file_extension": ".py",
   "mimetype": "text/x-python",
   "name": "python",
   "nbconvert_exporter": "python",
   "pygments_lexer": "ipython3",
   "version": "3.10.4"
  }
 },
 "nbformat": 4,
 "nbformat_minor": 5
}
